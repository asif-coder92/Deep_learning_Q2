{
 "cells": [
  {
   "cell_type": "markdown",
   "metadata": {
    "id": "CgPkafcBClHA"
   },
   "source": [
    "#Importing Libraries"
   ]
  },
  {
   "cell_type": "code",
   "execution_count": 1,
   "metadata": {
    "id": "NipDpuvkCmi6"
   },
   "outputs": [],
   "source": [
    "import pandas as pd\n",
    "import numpy as np\n",
    "import matplotlib.pyplot as plt"
   ]
  },
  {
   "cell_type": "markdown",
   "metadata": {
    "id": "UxC9ci-KDQoW"
   },
   "source": [
    "#Uploading Datasets"
   ]
  },
  {
   "cell_type": "code",
   "execution_count": 2,
   "metadata": {
    "id": "B_vpinNiCxTc"
   },
   "outputs": [],
   "source": [
    "data=pd.read_csv(\"compresive_strength_concrete.csv\")"
   ]
  },
  {
   "cell_type": "code",
   "execution_count": 3,
   "metadata": {
    "colab": {
     "base_uri": "https://localhost:8080/"
    },
    "id": "VcJwnsAHIgRW",
    "outputId": "ae5e6e22-0e87-46ca-b520-c9336626e6df"
   },
   "outputs": [
    {
     "data": {
      "text/plain": [
       "(1030, 9)"
      ]
     },
     "execution_count": 3,
     "metadata": {},
     "output_type": "execute_result"
    }
   ],
   "source": [
    "data.shape"
   ]
  },
  {
   "cell_type": "code",
   "execution_count": 4,
   "metadata": {
    "colab": {
     "base_uri": "https://localhost:8080/",
     "height": 326
    },
    "id": "U0yFP1M6Ikh-",
    "outputId": "769d5d3e-3100-4b3a-b009-cc08487e88a3"
   },
   "outputs": [
    {
     "data": {
      "text/html": [
       "<div>\n",
       "<style scoped>\n",
       "    .dataframe tbody tr th:only-of-type {\n",
       "        vertical-align: middle;\n",
       "    }\n",
       "\n",
       "    .dataframe tbody tr th {\n",
       "        vertical-align: top;\n",
       "    }\n",
       "\n",
       "    .dataframe thead th {\n",
       "        text-align: right;\n",
       "    }\n",
       "</style>\n",
       "<table border=\"1\" class=\"dataframe\">\n",
       "  <thead>\n",
       "    <tr style=\"text-align: right;\">\n",
       "      <th></th>\n",
       "      <th>Cement (component 1)(kg in a m^3 mixture)</th>\n",
       "      <th>Blast Furnace Slag (component 2)(kg in a m^3 mixture)</th>\n",
       "      <th>Fly Ash (component 3)(kg in a m^3 mixture)</th>\n",
       "      <th>Water  (component 4)(kg in a m^3 mixture)</th>\n",
       "      <th>Superplasticizer (component 5)(kg in a m^3 mixture)</th>\n",
       "      <th>Coarse Aggregate  (component 6)(kg in a m^3 mixture)</th>\n",
       "      <th>Fine Aggregate (component 7)(kg in a m^3 mixture)</th>\n",
       "      <th>Age (day)</th>\n",
       "      <th>Concrete compressive strength(MPa, megapascals)</th>\n",
       "    </tr>\n",
       "  </thead>\n",
       "  <tbody>\n",
       "    <tr>\n",
       "      <th>0</th>\n",
       "      <td>540.0</td>\n",
       "      <td>0.0</td>\n",
       "      <td>0.0</td>\n",
       "      <td>162.0</td>\n",
       "      <td>2.5</td>\n",
       "      <td>1040.0</td>\n",
       "      <td>676.0</td>\n",
       "      <td>28</td>\n",
       "      <td>79.99</td>\n",
       "    </tr>\n",
       "    <tr>\n",
       "      <th>1</th>\n",
       "      <td>540.0</td>\n",
       "      <td>0.0</td>\n",
       "      <td>0.0</td>\n",
       "      <td>162.0</td>\n",
       "      <td>2.5</td>\n",
       "      <td>1055.0</td>\n",
       "      <td>676.0</td>\n",
       "      <td>28</td>\n",
       "      <td>61.89</td>\n",
       "    </tr>\n",
       "    <tr>\n",
       "      <th>2</th>\n",
       "      <td>332.5</td>\n",
       "      <td>142.5</td>\n",
       "      <td>0.0</td>\n",
       "      <td>228.0</td>\n",
       "      <td>0.0</td>\n",
       "      <td>932.0</td>\n",
       "      <td>594.0</td>\n",
       "      <td>270</td>\n",
       "      <td>40.27</td>\n",
       "    </tr>\n",
       "    <tr>\n",
       "      <th>3</th>\n",
       "      <td>332.5</td>\n",
       "      <td>142.5</td>\n",
       "      <td>0.0</td>\n",
       "      <td>228.0</td>\n",
       "      <td>0.0</td>\n",
       "      <td>932.0</td>\n",
       "      <td>594.0</td>\n",
       "      <td>365</td>\n",
       "      <td>41.05</td>\n",
       "    </tr>\n",
       "    <tr>\n",
       "      <th>4</th>\n",
       "      <td>198.6</td>\n",
       "      <td>132.4</td>\n",
       "      <td>0.0</td>\n",
       "      <td>192.0</td>\n",
       "      <td>0.0</td>\n",
       "      <td>978.4</td>\n",
       "      <td>825.5</td>\n",
       "      <td>360</td>\n",
       "      <td>44.30</td>\n",
       "    </tr>\n",
       "  </tbody>\n",
       "</table>\n",
       "</div>"
      ],
      "text/plain": [
       "   Cement (component 1)(kg in a m^3 mixture)  \\\n",
       "0                                      540.0   \n",
       "1                                      540.0   \n",
       "2                                      332.5   \n",
       "3                                      332.5   \n",
       "4                                      198.6   \n",
       "\n",
       "   Blast Furnace Slag (component 2)(kg in a m^3 mixture)  \\\n",
       "0                                                0.0       \n",
       "1                                                0.0       \n",
       "2                                              142.5       \n",
       "3                                              142.5       \n",
       "4                                              132.4       \n",
       "\n",
       "   Fly Ash (component 3)(kg in a m^3 mixture)  \\\n",
       "0                                         0.0   \n",
       "1                                         0.0   \n",
       "2                                         0.0   \n",
       "3                                         0.0   \n",
       "4                                         0.0   \n",
       "\n",
       "   Water  (component 4)(kg in a m^3 mixture)  \\\n",
       "0                                      162.0   \n",
       "1                                      162.0   \n",
       "2                                      228.0   \n",
       "3                                      228.0   \n",
       "4                                      192.0   \n",
       "\n",
       "   Superplasticizer (component 5)(kg in a m^3 mixture)  \\\n",
       "0                                                2.5     \n",
       "1                                                2.5     \n",
       "2                                                0.0     \n",
       "3                                                0.0     \n",
       "4                                                0.0     \n",
       "\n",
       "   Coarse Aggregate  (component 6)(kg in a m^3 mixture)  \\\n",
       "0                                             1040.0      \n",
       "1                                             1055.0      \n",
       "2                                              932.0      \n",
       "3                                              932.0      \n",
       "4                                              978.4      \n",
       "\n",
       "   Fine Aggregate (component 7)(kg in a m^3 mixture)  Age (day)  \\\n",
       "0                                              676.0         28   \n",
       "1                                              676.0         28   \n",
       "2                                              594.0        270   \n",
       "3                                              594.0        365   \n",
       "4                                              825.5        360   \n",
       "\n",
       "   Concrete compressive strength(MPa, megapascals)   \n",
       "0                                             79.99  \n",
       "1                                             61.89  \n",
       "2                                             40.27  \n",
       "3                                             41.05  \n",
       "4                                             44.30  "
      ]
     },
     "execution_count": 4,
     "metadata": {},
     "output_type": "execute_result"
    }
   ],
   "source": [
    "data.head()"
   ]
  },
  {
   "cell_type": "code",
   "execution_count": 5,
   "metadata": {},
   "outputs": [
    {
     "data": {
      "text/plain": [
       "Cement (component 1)(kg in a m^3 mixture)                0\n",
       "Blast Furnace Slag (component 2)(kg in a m^3 mixture)    0\n",
       "Fly Ash (component 3)(kg in a m^3 mixture)               0\n",
       "Water  (component 4)(kg in a m^3 mixture)                0\n",
       "Superplasticizer (component 5)(kg in a m^3 mixture)      0\n",
       "Coarse Aggregate  (component 6)(kg in a m^3 mixture)     0\n",
       "Fine Aggregate (component 7)(kg in a m^3 mixture)        0\n",
       "Age (day)                                                0\n",
       "Concrete compressive strength(MPa, megapascals)          0\n",
       "dtype: int64"
      ]
     },
     "execution_count": 5,
     "metadata": {},
     "output_type": "execute_result"
    }
   ],
   "source": [
    "data.isnull().sum()"
   ]
  },
  {
   "cell_type": "code",
   "execution_count": 6,
   "metadata": {},
   "outputs": [
    {
     "data": {
      "text/plain": [
       "(array([], dtype=int64), array([], dtype=int64))"
      ]
     },
     "execution_count": 6,
     "metadata": {},
     "output_type": "execute_result"
    }
   ],
   "source": [
    "np.where(data.applymap(lambda x: x == ''))"
   ]
  },
  {
   "cell_type": "code",
   "execution_count": 8,
   "metadata": {},
   "outputs": [],
   "source": [
    "X_train = data.sample(frac = 0.7, random_state = 123)\n",
    "X_test = data.drop(X_train.index)"
   ]
  },
  {
   "cell_type": "code",
   "execution_count": 9,
   "metadata": {},
   "outputs": [
    {
     "data": {
      "text/html": [
       "<div>\n",
       "<style scoped>\n",
       "    .dataframe tbody tr th:only-of-type {\n",
       "        vertical-align: middle;\n",
       "    }\n",
       "\n",
       "    .dataframe tbody tr th {\n",
       "        vertical-align: top;\n",
       "    }\n",
       "\n",
       "    .dataframe thead th {\n",
       "        text-align: right;\n",
       "    }\n",
       "</style>\n",
       "<table border=\"1\" class=\"dataframe\">\n",
       "  <thead>\n",
       "    <tr style=\"text-align: right;\">\n",
       "      <th></th>\n",
       "      <th>Cement (component 1)(kg in a m^3 mixture)</th>\n",
       "      <th>Blast Furnace Slag (component 2)(kg in a m^3 mixture)</th>\n",
       "      <th>Fly Ash (component 3)(kg in a m^3 mixture)</th>\n",
       "      <th>Water  (component 4)(kg in a m^3 mixture)</th>\n",
       "      <th>Superplasticizer (component 5)(kg in a m^3 mixture)</th>\n",
       "      <th>Coarse Aggregate  (component 6)(kg in a m^3 mixture)</th>\n",
       "      <th>Fine Aggregate (component 7)(kg in a m^3 mixture)</th>\n",
       "      <th>Age (day)</th>\n",
       "      <th>Concrete compressive strength(MPa, megapascals)</th>\n",
       "    </tr>\n",
       "  </thead>\n",
       "  <tbody>\n",
       "    <tr>\n",
       "      <th>134</th>\n",
       "      <td>362.6</td>\n",
       "      <td>189.0</td>\n",
       "      <td>0.0</td>\n",
       "      <td>164.9</td>\n",
       "      <td>11.6</td>\n",
       "      <td>944.7</td>\n",
       "      <td>755.8</td>\n",
       "      <td>28</td>\n",
       "      <td>71.30</td>\n",
       "    </tr>\n",
       "    <tr>\n",
       "      <th>13</th>\n",
       "      <td>190.0</td>\n",
       "      <td>190.0</td>\n",
       "      <td>0.0</td>\n",
       "      <td>228.0</td>\n",
       "      <td>0.0</td>\n",
       "      <td>932.0</td>\n",
       "      <td>670.0</td>\n",
       "      <td>90</td>\n",
       "      <td>42.33</td>\n",
       "    </tr>\n",
       "    <tr>\n",
       "      <th>996</th>\n",
       "      <td>152.6</td>\n",
       "      <td>238.7</td>\n",
       "      <td>0.0</td>\n",
       "      <td>200.0</td>\n",
       "      <td>6.3</td>\n",
       "      <td>1001.8</td>\n",
       "      <td>683.9</td>\n",
       "      <td>28</td>\n",
       "      <td>26.86</td>\n",
       "    </tr>\n",
       "    <tr>\n",
       "      <th>770</th>\n",
       "      <td>349.0</td>\n",
       "      <td>0.0</td>\n",
       "      <td>0.0</td>\n",
       "      <td>192.0</td>\n",
       "      <td>0.0</td>\n",
       "      <td>1047.0</td>\n",
       "      <td>806.0</td>\n",
       "      <td>3</td>\n",
       "      <td>14.99</td>\n",
       "    </tr>\n",
       "    <tr>\n",
       "      <th>937</th>\n",
       "      <td>313.3</td>\n",
       "      <td>0.0</td>\n",
       "      <td>113.0</td>\n",
       "      <td>178.5</td>\n",
       "      <td>8.0</td>\n",
       "      <td>1001.9</td>\n",
       "      <td>688.7</td>\n",
       "      <td>28</td>\n",
       "      <td>36.80</td>\n",
       "    </tr>\n",
       "  </tbody>\n",
       "</table>\n",
       "</div>"
      ],
      "text/plain": [
       "     Cement (component 1)(kg in a m^3 mixture)  \\\n",
       "134                                      362.6   \n",
       "13                                       190.0   \n",
       "996                                      152.6   \n",
       "770                                      349.0   \n",
       "937                                      313.3   \n",
       "\n",
       "     Blast Furnace Slag (component 2)(kg in a m^3 mixture)  \\\n",
       "134                                              189.0       \n",
       "13                                               190.0       \n",
       "996                                              238.7       \n",
       "770                                                0.0       \n",
       "937                                                0.0       \n",
       "\n",
       "     Fly Ash (component 3)(kg in a m^3 mixture)  \\\n",
       "134                                         0.0   \n",
       "13                                          0.0   \n",
       "996                                         0.0   \n",
       "770                                         0.0   \n",
       "937                                       113.0   \n",
       "\n",
       "     Water  (component 4)(kg in a m^3 mixture)  \\\n",
       "134                                      164.9   \n",
       "13                                       228.0   \n",
       "996                                      200.0   \n",
       "770                                      192.0   \n",
       "937                                      178.5   \n",
       "\n",
       "     Superplasticizer (component 5)(kg in a m^3 mixture)  \\\n",
       "134                                               11.6     \n",
       "13                                                 0.0     \n",
       "996                                                6.3     \n",
       "770                                                0.0     \n",
       "937                                                8.0     \n",
       "\n",
       "     Coarse Aggregate  (component 6)(kg in a m^3 mixture)  \\\n",
       "134                                              944.7      \n",
       "13                                               932.0      \n",
       "996                                             1001.8      \n",
       "770                                             1047.0      \n",
       "937                                             1001.9      \n",
       "\n",
       "     Fine Aggregate (component 7)(kg in a m^3 mixture)  Age (day)  \\\n",
       "134                                              755.8         28   \n",
       "13                                               670.0         90   \n",
       "996                                              683.9         28   \n",
       "770                                              806.0          3   \n",
       "937                                              688.7         28   \n",
       "\n",
       "     Concrete compressive strength(MPa, megapascals)   \n",
       "134                                             71.30  \n",
       "13                                              42.33  \n",
       "996                                             26.86  \n",
       "770                                             14.99  \n",
       "937                                             36.80  "
      ]
     },
     "execution_count": 9,
     "metadata": {},
     "output_type": "execute_result"
    }
   ],
   "source": [
    "X_train.head()"
   ]
  },
  {
   "cell_type": "markdown",
   "metadata": {
    "id": "CcvbbUpmJFCi"
   },
   "source": [
    "#Assigning features and target variable"
   ]
  },
  {
   "cell_type": "code",
   "execution_count": 10,
   "metadata": {
    "id": "OTv_VabYIj83"
   },
   "outputs": [],
   "source": [
    "Y_train = X_train.iloc[:,-1]\n",
    "X_train = X_train.iloc[:,0:-1]\n",
    "Y_test = X_test.iloc[:,-1]\n",
    "X_test = X_test.iloc[:,0:-1]"
   ]
  },
  {
   "cell_type": "code",
   "execution_count": 11,
   "metadata": {
    "id": "KHF-Yeo2JTyg"
   },
   "outputs": [],
   "source": [
    "X_mean = X_train.mean()\n",
    "X_train -= X_mean\n",
    "X_std = X_train.std()\n",
    "X_train /= X_std\n",
    "X_test -= X_mean\n",
    "X_test /= X_std"
   ]
  },
  {
   "cell_type": "code",
   "execution_count": 12,
   "metadata": {},
   "outputs": [],
   "source": [
    "Y_mean = Y_train.mean()\n",
    "Y_train -= Y_mean\n",
    "Y_std = Y_train.std()\n",
    "Y_train /= Y_std\n",
    "Y_test -= Y_mean\n",
    "Y_test /= Y_std"
   ]
  },
  {
   "cell_type": "code",
   "execution_count": 13,
   "metadata": {},
   "outputs": [
    {
     "data": {
      "text/plain": [
       "Cement (component 1)(kg in a m^3 mixture)                float64\n",
       "Blast Furnace Slag (component 2)(kg in a m^3 mixture)    float64\n",
       "Fly Ash (component 3)(kg in a m^3 mixture)               float64\n",
       "Water  (component 4)(kg in a m^3 mixture)                float64\n",
       "Superplasticizer (component 5)(kg in a m^3 mixture)      float64\n",
       "Coarse Aggregate  (component 6)(kg in a m^3 mixture)     float64\n",
       "Fine Aggregate (component 7)(kg in a m^3 mixture)        float64\n",
       "Age (day)                                                float64\n",
       "dtype: object"
      ]
     },
     "execution_count": 13,
     "metadata": {},
     "output_type": "execute_result"
    }
   ],
   "source": [
    "X_train.dtypes"
   ]
  },
  {
   "cell_type": "code",
   "execution_count": 14,
   "metadata": {},
   "outputs": [],
   "source": [
    "X_train = X_train.to_numpy()\n",
    "Y_train = Y_train.to_numpy()\n",
    "X_test = X_test.to_numpy()\n",
    "Y_test = Y_test.to_numpy()\n"
   ]
  },
  {
   "cell_type": "markdown",
   "metadata": {
    "id": "Lj_iCk5vL5E7"
   },
   "source": [
    "#Training and testing data splittion"
   ]
  },
  {
   "cell_type": "markdown",
   "metadata": {
    "id": "_LMH3tMeMbXN"
   },
   "source": [
    "#Model selection"
   ]
  },
  {
   "cell_type": "code",
   "execution_count": 15,
   "metadata": {
    "id": "N71E3GgCMTCO"
   },
   "outputs": [],
   "source": [
    "from tensorflow.keras import layers as L\n",
    "from tensorflow.keras import models as M"
   ]
  },
  {
   "cell_type": "code",
   "execution_count": 21,
   "metadata": {
    "id": "PZIj7pgIMhcg"
   },
   "outputs": [],
   "source": [
    "network = M.Sequential()\n",
    "network.add(L.Dense(128,activation=\"relu\",input_shape=(X_train.shape[1],)))\n",
    "network.add(L.Dense(64,activation=\"relu\"))\n",
    "network.add(L.Dense(32,activation=\"relu\"))\n",
    "network.add(L.Dense(1))\n",
    "network.compile(optimizer=\"rmsprop\",loss=[\"mse\"],metrics=[\"mae\"])"
   ]
  },
  {
   "cell_type": "code",
   "execution_count": 22,
   "metadata": {
    "colab": {
     "base_uri": "https://localhost:8080/"
    },
    "id": "E8cCCFviOKuF",
    "outputId": "c6eebdfa-f576-4106-ec4b-38cba2572df0"
   },
   "outputs": [
    {
     "name": "stdout",
     "output_type": "stream",
     "text": [
      "Epoch 1/200\n",
      "28/28 [==============================] - 0s 10ms/step - loss: 0.5640 - mae: 0.5925 - val_loss: 0.4393 - val_mae: 0.5279\n",
      "Epoch 2/200\n",
      "28/28 [==============================] - 0s 3ms/step - loss: 0.3219 - mae: 0.4517 - val_loss: 0.3700 - val_mae: 0.4747\n",
      "Epoch 3/200\n",
      "28/28 [==============================] - 0s 2ms/step - loss: 0.2393 - mae: 0.3788 - val_loss: 0.2708 - val_mae: 0.3925\n",
      "Epoch 4/200\n",
      "28/28 [==============================] - 0s 3ms/step - loss: 0.1883 - mae: 0.3333 - val_loss: 0.2532 - val_mae: 0.3731\n",
      "Epoch 5/200\n",
      "28/28 [==============================] - 0s 2ms/step - loss: 0.1746 - mae: 0.3161 - val_loss: 0.2199 - val_mae: 0.3596\n",
      "Epoch 6/200\n",
      "28/28 [==============================] - 0s 2ms/step - loss: 0.1451 - mae: 0.2923 - val_loss: 0.2043 - val_mae: 0.3500\n",
      "Epoch 7/200\n",
      "28/28 [==============================] - 0s 2ms/step - loss: 0.1247 - mae: 0.2732 - val_loss: 0.1987 - val_mae: 0.3405\n",
      "Epoch 8/200\n",
      "28/28 [==============================] - 0s 2ms/step - loss: 0.1218 - mae: 0.2683 - val_loss: 0.1782 - val_mae: 0.3208\n",
      "Epoch 9/200\n",
      "28/28 [==============================] - 0s 2ms/step - loss: 0.1053 - mae: 0.2516 - val_loss: 0.1833 - val_mae: 0.3149\n",
      "Epoch 10/200\n",
      "28/28 [==============================] - 0s 3ms/step - loss: 0.1019 - mae: 0.2447 - val_loss: 0.1705 - val_mae: 0.3136\n",
      "Epoch 11/200\n",
      "28/28 [==============================] - 0s 2ms/step - loss: 0.0941 - mae: 0.2377 - val_loss: 0.1757 - val_mae: 0.3113\n",
      "Epoch 12/200\n",
      "28/28 [==============================] - 0s 3ms/step - loss: 0.0879 - mae: 0.2289 - val_loss: 0.1679 - val_mae: 0.3028\n",
      "Epoch 13/200\n",
      "28/28 [==============================] - 0s 2ms/step - loss: 0.0900 - mae: 0.2211 - val_loss: 0.1601 - val_mae: 0.3062\n",
      "Epoch 14/200\n",
      "28/28 [==============================] - 0s 3ms/step - loss: 0.0838 - mae: 0.2170 - val_loss: 0.1506 - val_mae: 0.2947\n",
      "Epoch 15/200\n",
      "28/28 [==============================] - 0s 2ms/step - loss: 0.0741 - mae: 0.2106 - val_loss: 0.1814 - val_mae: 0.3287\n",
      "Epoch 16/200\n",
      "28/28 [==============================] - 0s 2ms/step - loss: 0.0700 - mae: 0.2044 - val_loss: 0.1559 - val_mae: 0.3051\n",
      "Epoch 17/200\n",
      "28/28 [==============================] - 0s 3ms/step - loss: 0.0742 - mae: 0.2072 - val_loss: 0.1551 - val_mae: 0.2921\n",
      "Epoch 18/200\n",
      "28/28 [==============================] - 0s 2ms/step - loss: 0.0704 - mae: 0.2070 - val_loss: 0.1668 - val_mae: 0.3065\n",
      "Epoch 19/200\n",
      "28/28 [==============================] - 0s 2ms/step - loss: 0.0733 - mae: 0.2073 - val_loss: 0.1542 - val_mae: 0.2984\n",
      "Epoch 20/200\n",
      "28/28 [==============================] - 0s 2ms/step - loss: 0.0608 - mae: 0.1863 - val_loss: 0.1685 - val_mae: 0.3142\n",
      "Epoch 21/200\n",
      "28/28 [==============================] - 0s 2ms/step - loss: 0.0620 - mae: 0.1959 - val_loss: 0.1558 - val_mae: 0.2959\n",
      "Epoch 22/200\n",
      "28/28 [==============================] - 0s 2ms/step - loss: 0.0620 - mae: 0.1919 - val_loss: 0.1418 - val_mae: 0.2834\n",
      "Epoch 23/200\n",
      "28/28 [==============================] - 0s 2ms/step - loss: 0.0622 - mae: 0.1898 - val_loss: 0.1484 - val_mae: 0.2781\n",
      "Epoch 24/200\n",
      "28/28 [==============================] - 0s 2ms/step - loss: 0.0563 - mae: 0.1840 - val_loss: 0.1352 - val_mae: 0.2805\n",
      "Epoch 25/200\n",
      "28/28 [==============================] - 0s 2ms/step - loss: 0.0628 - mae: 0.1883 - val_loss: 0.1388 - val_mae: 0.2726\n",
      "Epoch 26/200\n",
      "28/28 [==============================] - 0s 3ms/step - loss: 0.0540 - mae: 0.1753 - val_loss: 0.1468 - val_mae: 0.2789\n",
      "Epoch 27/200\n",
      "28/28 [==============================] - 0s 2ms/step - loss: 0.0562 - mae: 0.1838 - val_loss: 0.1350 - val_mae: 0.2764\n",
      "Epoch 28/200\n",
      "28/28 [==============================] - 0s 2ms/step - loss: 0.0586 - mae: 0.1832 - val_loss: 0.1430 - val_mae: 0.2812\n",
      "Epoch 29/200\n",
      "28/28 [==============================] - 0s 2ms/step - loss: 0.0515 - mae: 0.1696 - val_loss: 0.1341 - val_mae: 0.2732\n",
      "Epoch 30/200\n",
      "28/28 [==============================] - 0s 2ms/step - loss: 0.0515 - mae: 0.1711 - val_loss: 0.1545 - val_mae: 0.2939\n",
      "Epoch 31/200\n",
      "28/28 [==============================] - 0s 2ms/step - loss: 0.0500 - mae: 0.1656 - val_loss: 0.2221 - val_mae: 0.3512\n",
      "Epoch 32/200\n",
      "28/28 [==============================] - 0s 2ms/step - loss: 0.0541 - mae: 0.1761 - val_loss: 0.1348 - val_mae: 0.2772\n",
      "Epoch 33/200\n",
      "28/28 [==============================] - 0s 2ms/step - loss: 0.0502 - mae: 0.1676 - val_loss: 0.1254 - val_mae: 0.2576\n",
      "Epoch 34/200\n",
      "28/28 [==============================] - 0s 2ms/step - loss: 0.0468 - mae: 0.1690 - val_loss: 0.1614 - val_mae: 0.2951\n",
      "Epoch 35/200\n",
      "28/28 [==============================] - 0s 2ms/step - loss: 0.0484 - mae: 0.1646 - val_loss: 0.1401 - val_mae: 0.2795\n",
      "Epoch 36/200\n",
      "28/28 [==============================] - 0s 2ms/step - loss: 0.0412 - mae: 0.1531 - val_loss: 0.1233 - val_mae: 0.2583\n",
      "Epoch 37/200\n",
      "28/28 [==============================] - 0s 2ms/step - loss: 0.0499 - mae: 0.1643 - val_loss: 0.1397 - val_mae: 0.2840\n",
      "Epoch 38/200\n",
      "28/28 [==============================] - 0s 2ms/step - loss: 0.0466 - mae: 0.1628 - val_loss: 0.1301 - val_mae: 0.2672\n",
      "Epoch 39/200\n",
      "28/28 [==============================] - 0s 2ms/step - loss: 0.0456 - mae: 0.1608 - val_loss: 0.1327 - val_mae: 0.2618\n",
      "Epoch 40/200\n",
      "28/28 [==============================] - 0s 2ms/step - loss: 0.0412 - mae: 0.1514 - val_loss: 0.1389 - val_mae: 0.2746\n",
      "Epoch 41/200\n",
      "28/28 [==============================] - 0s 2ms/step - loss: 0.0439 - mae: 0.1568 - val_loss: 0.1227 - val_mae: 0.2535\n",
      "Epoch 42/200\n",
      "28/28 [==============================] - 0s 2ms/step - loss: 0.0471 - mae: 0.1564 - val_loss: 0.1393 - val_mae: 0.2841\n",
      "Epoch 43/200\n",
      "28/28 [==============================] - 0s 2ms/step - loss: 0.0471 - mae: 0.1527 - val_loss: 0.1336 - val_mae: 0.2692\n",
      "Epoch 44/200\n",
      "28/28 [==============================] - 0s 2ms/step - loss: 0.0412 - mae: 0.1524 - val_loss: 0.1172 - val_mae: 0.2541\n",
      "Epoch 45/200\n",
      "28/28 [==============================] - 0s 2ms/step - loss: 0.0393 - mae: 0.1465 - val_loss: 0.1272 - val_mae: 0.2734\n",
      "Epoch 46/200\n",
      "28/28 [==============================] - 0s 2ms/step - loss: 0.0432 - mae: 0.1535 - val_loss: 0.1292 - val_mae: 0.2700\n",
      "Epoch 47/200\n",
      "28/28 [==============================] - 0s 2ms/step - loss: 0.0401 - mae: 0.1497 - val_loss: 0.1182 - val_mae: 0.2541\n",
      "Epoch 48/200\n",
      "28/28 [==============================] - 0s 2ms/step - loss: 0.0384 - mae: 0.1409 - val_loss: 0.1277 - val_mae: 0.2621\n",
      "Epoch 49/200\n",
      "28/28 [==============================] - 0s 2ms/step - loss: 0.0386 - mae: 0.1462 - val_loss: 0.1207 - val_mae: 0.2571\n",
      "Epoch 50/200\n",
      "28/28 [==============================] - 0s 2ms/step - loss: 0.0442 - mae: 0.1478 - val_loss: 0.1220 - val_mae: 0.2517\n",
      "Epoch 51/200\n",
      "28/28 [==============================] - 0s 2ms/step - loss: 0.0392 - mae: 0.1426 - val_loss: 0.1362 - val_mae: 0.2716\n",
      "Epoch 52/200\n",
      "28/28 [==============================] - 0s 2ms/step - loss: 0.0366 - mae: 0.1420 - val_loss: 0.1248 - val_mae: 0.2609\n",
      "Epoch 53/200\n",
      "28/28 [==============================] - 0s 2ms/step - loss: 0.0394 - mae: 0.1453 - val_loss: 0.1228 - val_mae: 0.2590\n",
      "Epoch 54/200\n",
      "28/28 [==============================] - 0s 2ms/step - loss: 0.0352 - mae: 0.1351 - val_loss: 0.1242 - val_mae: 0.2502\n",
      "Epoch 55/200\n",
      "28/28 [==============================] - 0s 2ms/step - loss: 0.0373 - mae: 0.1388 - val_loss: 0.1241 - val_mae: 0.2507\n",
      "Epoch 56/200\n",
      "28/28 [==============================] - 0s 2ms/step - loss: 0.0365 - mae: 0.1401 - val_loss: 0.1203 - val_mae: 0.2533\n",
      "Epoch 57/200\n",
      "28/28 [==============================] - 0s 2ms/step - loss: 0.0366 - mae: 0.1386 - val_loss: 0.1224 - val_mae: 0.2557\n",
      "Epoch 58/200\n",
      "28/28 [==============================] - 0s 2ms/step - loss: 0.0364 - mae: 0.1412 - val_loss: 0.1195 - val_mae: 0.2608\n",
      "Epoch 59/200\n",
      "28/28 [==============================] - 0s 2ms/step - loss: 0.0322 - mae: 0.1297 - val_loss: 0.1361 - val_mae: 0.2659\n",
      "Epoch 60/200\n",
      "28/28 [==============================] - 0s 2ms/step - loss: 0.0311 - mae: 0.1316 - val_loss: 0.1172 - val_mae: 0.2486\n",
      "Epoch 61/200\n",
      "28/28 [==============================] - 0s 2ms/step - loss: 0.0391 - mae: 0.1395 - val_loss: 0.1157 - val_mae: 0.2515\n",
      "Epoch 62/200\n",
      "28/28 [==============================] - 0s 2ms/step - loss: 0.0349 - mae: 0.1348 - val_loss: 0.1200 - val_mae: 0.2620\n",
      "Epoch 63/200\n",
      "28/28 [==============================] - 0s 3ms/step - loss: 0.0346 - mae: 0.1367 - val_loss: 0.1301 - val_mae: 0.2747\n",
      "Epoch 64/200\n",
      "28/28 [==============================] - 0s 2ms/step - loss: 0.0350 - mae: 0.1334 - val_loss: 0.1204 - val_mae: 0.2516\n",
      "Epoch 65/200\n",
      "28/28 [==============================] - 0s 2ms/step - loss: 0.0339 - mae: 0.1307 - val_loss: 0.1161 - val_mae: 0.2467\n",
      "Epoch 66/200\n",
      "28/28 [==============================] - 0s 1ms/step - loss: 0.0369 - mae: 0.1340 - val_loss: 0.1235 - val_mae: 0.2595\n",
      "Epoch 67/200\n",
      "28/28 [==============================] - 0s 2ms/step - loss: 0.0325 - mae: 0.1304 - val_loss: 0.1158 - val_mae: 0.2508\n",
      "Epoch 68/200\n",
      "28/28 [==============================] - 0s 1ms/step - loss: 0.0347 - mae: 0.1364 - val_loss: 0.1297 - val_mae: 0.2644\n",
      "Epoch 69/200\n",
      "28/28 [==============================] - 0s 2ms/step - loss: 0.0301 - mae: 0.1261 - val_loss: 0.1289 - val_mae: 0.2706\n",
      "Epoch 70/200\n",
      "28/28 [==============================] - 0s 2ms/step - loss: 0.0319 - mae: 0.1267 - val_loss: 0.1122 - val_mae: 0.2452\n",
      "Epoch 71/200\n",
      "28/28 [==============================] - 0s 2ms/step - loss: 0.0315 - mae: 0.1282 - val_loss: 0.1139 - val_mae: 0.2492\n",
      "Epoch 72/200\n",
      "28/28 [==============================] - 0s 2ms/step - loss: 0.0346 - mae: 0.1330 - val_loss: 0.1137 - val_mae: 0.2510\n",
      "Epoch 73/200\n",
      "28/28 [==============================] - 0s 2ms/step - loss: 0.0328 - mae: 0.1289 - val_loss: 0.1178 - val_mae: 0.2489\n",
      "Epoch 74/200\n",
      "28/28 [==============================] - 0s 2ms/step - loss: 0.0327 - mae: 0.1246 - val_loss: 0.1191 - val_mae: 0.2457\n",
      "Epoch 75/200\n",
      "28/28 [==============================] - 0s 2ms/step - loss: 0.0283 - mae: 0.1238 - val_loss: 0.1162 - val_mae: 0.2542\n",
      "Epoch 76/200\n",
      "28/28 [==============================] - 0s 2ms/step - loss: 0.0281 - mae: 0.1182 - val_loss: 0.1126 - val_mae: 0.2458\n",
      "Epoch 77/200\n",
      "28/28 [==============================] - 0s 2ms/step - loss: 0.0298 - mae: 0.1234 - val_loss: 0.1261 - val_mae: 0.2576\n",
      "Epoch 78/200\n",
      "28/28 [==============================] - 0s 2ms/step - loss: 0.0280 - mae: 0.1203 - val_loss: 0.1193 - val_mae: 0.2550\n",
      "Epoch 79/200\n",
      "28/28 [==============================] - 0s 2ms/step - loss: 0.0367 - mae: 0.1308 - val_loss: 0.1122 - val_mae: 0.2434\n",
      "Epoch 80/200\n",
      "28/28 [==============================] - 0s 2ms/step - loss: 0.0317 - mae: 0.1221 - val_loss: 0.1171 - val_mae: 0.2469\n",
      "Epoch 81/200\n",
      "28/28 [==============================] - 0s 2ms/step - loss: 0.0278 - mae: 0.1146 - val_loss: 0.1200 - val_mae: 0.2560\n",
      "Epoch 82/200\n",
      "28/28 [==============================] - 0s 2ms/step - loss: 0.0297 - mae: 0.1217 - val_loss: 0.1308 - val_mae: 0.2640\n",
      "Epoch 83/200\n",
      "28/28 [==============================] - 0s 2ms/step - loss: 0.0264 - mae: 0.1227 - val_loss: 0.1303 - val_mae: 0.2552\n",
      "Epoch 84/200\n",
      "28/28 [==============================] - 0s 1ms/step - loss: 0.0318 - mae: 0.1243 - val_loss: 0.1148 - val_mae: 0.2429\n",
      "Epoch 85/200\n",
      "28/28 [==============================] - 0s 2ms/step - loss: 0.0277 - mae: 0.1186 - val_loss: 0.1255 - val_mae: 0.2575\n",
      "Epoch 86/200\n",
      "28/28 [==============================] - 0s 2ms/step - loss: 0.0284 - mae: 0.1199 - val_loss: 0.1255 - val_mae: 0.2598\n",
      "Epoch 87/200\n",
      "28/28 [==============================] - 0s 2ms/step - loss: 0.0307 - mae: 0.1237 - val_loss: 0.1206 - val_mae: 0.2516\n",
      "Epoch 88/200\n",
      "28/28 [==============================] - 0s 2ms/step - loss: 0.0251 - mae: 0.1146 - val_loss: 0.1142 - val_mae: 0.2517\n",
      "Epoch 89/200\n",
      "28/28 [==============================] - 0s 2ms/step - loss: 0.0278 - mae: 0.1163 - val_loss: 0.1355 - val_mae: 0.2721\n",
      "Epoch 90/200\n",
      "28/28 [==============================] - 0s 2ms/step - loss: 0.0307 - mae: 0.1263 - val_loss: 0.1255 - val_mae: 0.2569\n",
      "Epoch 91/200\n",
      "28/28 [==============================] - 0s 2ms/step - loss: 0.0293 - mae: 0.1156 - val_loss: 0.1181 - val_mae: 0.2529\n",
      "Epoch 92/200\n",
      "28/28 [==============================] - 0s 2ms/step - loss: 0.0276 - mae: 0.1189 - val_loss: 0.1099 - val_mae: 0.2395\n",
      "Epoch 93/200\n",
      "28/28 [==============================] - 0s 2ms/step - loss: 0.0293 - mae: 0.1168 - val_loss: 0.1191 - val_mae: 0.2500\n",
      "Epoch 94/200\n",
      "28/28 [==============================] - 0s 2ms/step - loss: 0.0309 - mae: 0.1212 - val_loss: 0.1214 - val_mae: 0.2609\n",
      "Epoch 95/200\n",
      "28/28 [==============================] - 0s 2ms/step - loss: 0.0294 - mae: 0.1172 - val_loss: 0.1148 - val_mae: 0.2545\n",
      "Epoch 96/200\n",
      "28/28 [==============================] - 0s 2ms/step - loss: 0.0260 - mae: 0.1202 - val_loss: 0.1177 - val_mae: 0.2438\n",
      "Epoch 97/200\n",
      "28/28 [==============================] - 0s 2ms/step - loss: 0.0289 - mae: 0.1165 - val_loss: 0.1175 - val_mae: 0.2418\n",
      "Epoch 98/200\n",
      "28/28 [==============================] - 0s 2ms/step - loss: 0.0233 - mae: 0.1095 - val_loss: 0.1122 - val_mae: 0.2461\n",
      "Epoch 99/200\n",
      "28/28 [==============================] - 0s 2ms/step - loss: 0.0277 - mae: 0.1146 - val_loss: 0.1194 - val_mae: 0.2446\n",
      "Epoch 100/200\n",
      "28/28 [==============================] - 0s 2ms/step - loss: 0.0245 - mae: 0.1121 - val_loss: 0.1273 - val_mae: 0.2583\n",
      "Epoch 101/200\n",
      "28/28 [==============================] - 0s 2ms/step - loss: 0.0243 - mae: 0.1100 - val_loss: 0.1215 - val_mae: 0.2604\n",
      "Epoch 102/200\n",
      "28/28 [==============================] - 0s 2ms/step - loss: 0.0249 - mae: 0.1112 - val_loss: 0.1149 - val_mae: 0.2503\n",
      "Epoch 103/200\n",
      "28/28 [==============================] - 0s 2ms/step - loss: 0.0246 - mae: 0.1123 - val_loss: 0.1262 - val_mae: 0.2528\n",
      "Epoch 104/200\n",
      "28/28 [==============================] - 0s 2ms/step - loss: 0.0298 - mae: 0.1184 - val_loss: 0.1128 - val_mae: 0.2441\n",
      "Epoch 105/200\n",
      "28/28 [==============================] - 0s 2ms/step - loss: 0.0253 - mae: 0.1107 - val_loss: 0.1150 - val_mae: 0.2441\n",
      "Epoch 106/200\n",
      "28/28 [==============================] - 0s 2ms/step - loss: 0.0300 - mae: 0.1177 - val_loss: 0.1174 - val_mae: 0.2434\n",
      "Epoch 107/200\n",
      "28/28 [==============================] - 0s 2ms/step - loss: 0.0255 - mae: 0.1125 - val_loss: 0.1158 - val_mae: 0.2391\n",
      "Epoch 108/200\n",
      "28/28 [==============================] - 0s 2ms/step - loss: 0.0262 - mae: 0.1142 - val_loss: 0.1155 - val_mae: 0.2449\n",
      "Epoch 109/200\n",
      "28/28 [==============================] - 0s 2ms/step - loss: 0.0269 - mae: 0.1100 - val_loss: 0.1174 - val_mae: 0.2484\n",
      "Epoch 110/200\n",
      "28/28 [==============================] - 0s 2ms/step - loss: 0.0243 - mae: 0.1045 - val_loss: 0.1292 - val_mae: 0.2676\n",
      "Epoch 111/200\n",
      "28/28 [==============================] - 0s 2ms/step - loss: 0.0268 - mae: 0.1101 - val_loss: 0.1207 - val_mae: 0.2607\n",
      "Epoch 112/200\n",
      "28/28 [==============================] - 0s 2ms/step - loss: 0.0291 - mae: 0.1145 - val_loss: 0.1162 - val_mae: 0.2390\n",
      "Epoch 113/200\n",
      "28/28 [==============================] - 0s 2ms/step - loss: 0.0232 - mae: 0.1065 - val_loss: 0.1122 - val_mae: 0.2411\n",
      "Epoch 114/200\n",
      "28/28 [==============================] - 0s 2ms/step - loss: 0.0248 - mae: 0.1099 - val_loss: 0.1232 - val_mae: 0.2568\n",
      "Epoch 115/200\n",
      "28/28 [==============================] - 0s 2ms/step - loss: 0.0256 - mae: 0.1086 - val_loss: 0.1202 - val_mae: 0.2513\n",
      "Epoch 116/200\n",
      "28/28 [==============================] - 0s 2ms/step - loss: 0.0243 - mae: 0.1049 - val_loss: 0.1162 - val_mae: 0.2436\n",
      "Epoch 117/200\n",
      "28/28 [==============================] - 0s 2ms/step - loss: 0.0228 - mae: 0.1037 - val_loss: 0.1176 - val_mae: 0.2478\n",
      "Epoch 118/200\n",
      "28/28 [==============================] - 0s 2ms/step - loss: 0.0252 - mae: 0.1068 - val_loss: 0.1109 - val_mae: 0.2424\n",
      "Epoch 119/200\n",
      "28/28 [==============================] - 0s 2ms/step - loss: 0.0251 - mae: 0.1082 - val_loss: 0.1299 - val_mae: 0.2527\n",
      "Epoch 120/200\n",
      "28/28 [==============================] - 0s 2ms/step - loss: 0.0230 - mae: 0.1030 - val_loss: 0.1251 - val_mae: 0.2572\n",
      "Epoch 121/200\n",
      "28/28 [==============================] - 0s 3ms/step - loss: 0.0245 - mae: 0.1020 - val_loss: 0.1151 - val_mae: 0.2396\n",
      "Epoch 122/200\n",
      "28/28 [==============================] - 0s 2ms/step - loss: 0.0281 - mae: 0.1125 - val_loss: 0.1140 - val_mae: 0.2429\n",
      "Epoch 123/200\n",
      "28/28 [==============================] - 0s 2ms/step - loss: 0.0228 - mae: 0.1052 - val_loss: 0.1109 - val_mae: 0.2386\n",
      "Epoch 124/200\n",
      "28/28 [==============================] - 0s 2ms/step - loss: 0.0261 - mae: 0.1098 - val_loss: 0.1182 - val_mae: 0.2521\n"
     ]
    },
    {
     "name": "stdout",
     "output_type": "stream",
     "text": [
      "Epoch 125/200\n",
      "28/28 [==============================] - 0s 2ms/step - loss: 0.0216 - mae: 0.0989 - val_loss: 0.1168 - val_mae: 0.2490\n",
      "Epoch 126/200\n",
      "28/28 [==============================] - 0s 2ms/step - loss: 0.0234 - mae: 0.1042 - val_loss: 0.1159 - val_mae: 0.2467\n",
      "Epoch 127/200\n",
      "28/28 [==============================] - 0s 2ms/step - loss: 0.0228 - mae: 0.1017 - val_loss: 0.1142 - val_mae: 0.2462\n",
      "Epoch 128/200\n",
      "28/28 [==============================] - 0s 2ms/step - loss: 0.0255 - mae: 0.1058 - val_loss: 0.1354 - val_mae: 0.2648\n",
      "Epoch 129/200\n",
      "28/28 [==============================] - 0s 2ms/step - loss: 0.0229 - mae: 0.1043 - val_loss: 0.1187 - val_mae: 0.2517\n",
      "Epoch 130/200\n",
      "28/28 [==============================] - 0s 1ms/step - loss: 0.0243 - mae: 0.1026 - val_loss: 0.1169 - val_mae: 0.2525\n",
      "Epoch 131/200\n",
      "28/28 [==============================] - 0s 2ms/step - loss: 0.0216 - mae: 0.0985 - val_loss: 0.1064 - val_mae: 0.2301\n",
      "Epoch 132/200\n",
      "28/28 [==============================] - 0s 2ms/step - loss: 0.0235 - mae: 0.1030 - val_loss: 0.1167 - val_mae: 0.2420\n",
      "Epoch 133/200\n",
      "28/28 [==============================] - 0s 2ms/step - loss: 0.0222 - mae: 0.0963 - val_loss: 0.1103 - val_mae: 0.2341\n",
      "Epoch 134/200\n",
      "28/28 [==============================] - 0s 2ms/step - loss: 0.0235 - mae: 0.1060 - val_loss: 0.1365 - val_mae: 0.2584\n",
      "Epoch 135/200\n",
      "28/28 [==============================] - 0s 2ms/step - loss: 0.0218 - mae: 0.1018 - val_loss: 0.1195 - val_mae: 0.2470\n",
      "Epoch 136/200\n",
      "28/28 [==============================] - 0s 2ms/step - loss: 0.0239 - mae: 0.1057 - val_loss: 0.1152 - val_mae: 0.2442\n",
      "Epoch 137/200\n",
      "28/28 [==============================] - 0s 2ms/step - loss: 0.0205 - mae: 0.0992 - val_loss: 0.1228 - val_mae: 0.2421\n",
      "Epoch 138/200\n",
      "28/28 [==============================] - 0s 2ms/step - loss: 0.0245 - mae: 0.1007 - val_loss: 0.1270 - val_mae: 0.2683\n",
      "Epoch 139/200\n",
      "28/28 [==============================] - 0s 2ms/step - loss: 0.0250 - mae: 0.0988 - val_loss: 0.1267 - val_mae: 0.2613\n",
      "Epoch 140/200\n",
      "28/28 [==============================] - 0s 2ms/step - loss: 0.0219 - mae: 0.1013 - val_loss: 0.1149 - val_mae: 0.2441\n",
      "Epoch 141/200\n",
      "28/28 [==============================] - 0s 2ms/step - loss: 0.0212 - mae: 0.1006 - val_loss: 0.1198 - val_mae: 0.2493\n",
      "Epoch 142/200\n",
      "28/28 [==============================] - 0s 2ms/step - loss: 0.0246 - mae: 0.1056 - val_loss: 0.1137 - val_mae: 0.2430\n",
      "Epoch 143/200\n",
      "28/28 [==============================] - 0s 2ms/step - loss: 0.0235 - mae: 0.1011 - val_loss: 0.1086 - val_mae: 0.2419\n",
      "Epoch 144/200\n",
      "28/28 [==============================] - 0s 2ms/step - loss: 0.0222 - mae: 0.0982 - val_loss: 0.1163 - val_mae: 0.2415\n",
      "Epoch 145/200\n",
      "28/28 [==============================] - 0s 2ms/step - loss: 0.0240 - mae: 0.1022 - val_loss: 0.1183 - val_mae: 0.2485\n",
      "Epoch 146/200\n",
      "28/28 [==============================] - 0s 2ms/step - loss: 0.0214 - mae: 0.1024 - val_loss: 0.1142 - val_mae: 0.2442\n",
      "Epoch 147/200\n",
      "28/28 [==============================] - 0s 2ms/step - loss: 0.0182 - mae: 0.0912 - val_loss: 0.1118 - val_mae: 0.2429\n",
      "Epoch 148/200\n",
      "28/28 [==============================] - 0s 2ms/step - loss: 0.0207 - mae: 0.0985 - val_loss: 0.1254 - val_mae: 0.2529\n",
      "Epoch 149/200\n",
      "28/28 [==============================] - 0s 2ms/step - loss: 0.0255 - mae: 0.1109 - val_loss: 0.1131 - val_mae: 0.2417\n",
      "Epoch 150/200\n",
      "28/28 [==============================] - 0s 2ms/step - loss: 0.0237 - mae: 0.0981 - val_loss: 0.1208 - val_mae: 0.2612\n",
      "Epoch 151/200\n",
      "28/28 [==============================] - 0s 2ms/step - loss: 0.0222 - mae: 0.0999 - val_loss: 0.1196 - val_mae: 0.2534\n",
      "Epoch 152/200\n",
      "28/28 [==============================] - 0s 2ms/step - loss: 0.0198 - mae: 0.0954 - val_loss: 0.1147 - val_mae: 0.2452\n",
      "Epoch 153/200\n",
      "28/28 [==============================] - 0s 2ms/step - loss: 0.0252 - mae: 0.1010 - val_loss: 0.1181 - val_mae: 0.2536\n",
      "Epoch 154/200\n",
      "28/28 [==============================] - 0s 2ms/step - loss: 0.0202 - mae: 0.0934 - val_loss: 0.1164 - val_mae: 0.2380\n",
      "Epoch 155/200\n",
      "28/28 [==============================] - 0s 2ms/step - loss: 0.0230 - mae: 0.1000 - val_loss: 0.1179 - val_mae: 0.2433\n",
      "Epoch 156/200\n",
      "28/28 [==============================] - 0s 2ms/step - loss: 0.0240 - mae: 0.1018 - val_loss: 0.1197 - val_mae: 0.2435\n",
      "Epoch 157/200\n",
      "28/28 [==============================] - 0s 2ms/step - loss: 0.0218 - mae: 0.0965 - val_loss: 0.1204 - val_mae: 0.2571\n",
      "Epoch 158/200\n",
      "28/28 [==============================] - 0s 2ms/step - loss: 0.0192 - mae: 0.0942 - val_loss: 0.1288 - val_mae: 0.2660\n",
      "Epoch 159/200\n",
      "28/28 [==============================] - 0s 2ms/step - loss: 0.0214 - mae: 0.0967 - val_loss: 0.1161 - val_mae: 0.2592\n",
      "Epoch 160/200\n",
      "28/28 [==============================] - 0s 2ms/step - loss: 0.0198 - mae: 0.0901 - val_loss: 0.1163 - val_mae: 0.2449\n",
      "Epoch 161/200\n",
      "28/28 [==============================] - 0s 2ms/step - loss: 0.0201 - mae: 0.0937 - val_loss: 0.1152 - val_mae: 0.2426\n",
      "Epoch 162/200\n",
      "28/28 [==============================] - 0s 2ms/step - loss: 0.0237 - mae: 0.1033 - val_loss: 0.1135 - val_mae: 0.2400\n",
      "Epoch 163/200\n",
      "28/28 [==============================] - 0s 2ms/step - loss: 0.0202 - mae: 0.0959 - val_loss: 0.1207 - val_mae: 0.2477\n",
      "Epoch 164/200\n",
      "28/28 [==============================] - 0s 2ms/step - loss: 0.0219 - mae: 0.0970 - val_loss: 0.1164 - val_mae: 0.2485\n",
      "Epoch 165/200\n",
      "28/28 [==============================] - 0s 2ms/step - loss: 0.0198 - mae: 0.0957 - val_loss: 0.1146 - val_mae: 0.2354\n",
      "Epoch 166/200\n",
      "28/28 [==============================] - 0s 2ms/step - loss: 0.0219 - mae: 0.0975 - val_loss: 0.1181 - val_mae: 0.2529\n",
      "Epoch 167/200\n",
      "28/28 [==============================] - 0s 2ms/step - loss: 0.0200 - mae: 0.0946 - val_loss: 0.1094 - val_mae: 0.2338\n",
      "Epoch 168/200\n",
      "28/28 [==============================] - 0s 2ms/step - loss: 0.0186 - mae: 0.0952 - val_loss: 0.1101 - val_mae: 0.2298\n",
      "Epoch 169/200\n",
      "28/28 [==============================] - 0s 2ms/step - loss: 0.0204 - mae: 0.0901 - val_loss: 0.1143 - val_mae: 0.2400\n",
      "Epoch 170/200\n",
      "28/28 [==============================] - 0s 2ms/step - loss: 0.0216 - mae: 0.0944 - val_loss: 0.1202 - val_mae: 0.2496\n",
      "Epoch 171/200\n",
      "28/28 [==============================] - 0s 2ms/step - loss: 0.0211 - mae: 0.0943 - val_loss: 0.1125 - val_mae: 0.2381\n",
      "Epoch 172/200\n",
      "28/28 [==============================] - 0s 2ms/step - loss: 0.0193 - mae: 0.0891 - val_loss: 0.1245 - val_mae: 0.2422\n",
      "Epoch 173/200\n",
      "28/28 [==============================] - 0s 2ms/step - loss: 0.0227 - mae: 0.0980 - val_loss: 0.1130 - val_mae: 0.2429\n",
      "Epoch 174/200\n",
      "28/28 [==============================] - 0s 2ms/step - loss: 0.0206 - mae: 0.0939 - val_loss: 0.1192 - val_mae: 0.2513\n",
      "Epoch 175/200\n",
      "28/28 [==============================] - 0s 2ms/step - loss: 0.0176 - mae: 0.0853 - val_loss: 0.1218 - val_mae: 0.2463\n",
      "Epoch 176/200\n",
      "28/28 [==============================] - 0s 2ms/step - loss: 0.0213 - mae: 0.0985 - val_loss: 0.1203 - val_mae: 0.2584\n",
      "Epoch 177/200\n",
      "28/28 [==============================] - 0s 2ms/step - loss: 0.0190 - mae: 0.0905 - val_loss: 0.1151 - val_mae: 0.2405\n",
      "Epoch 178/200\n",
      "28/28 [==============================] - 0s 2ms/step - loss: 0.0179 - mae: 0.0909 - val_loss: 0.1137 - val_mae: 0.2377\n",
      "Epoch 179/200\n",
      "28/28 [==============================] - 0s 2ms/step - loss: 0.0210 - mae: 0.0928 - val_loss: 0.1145 - val_mae: 0.2371\n",
      "Epoch 180/200\n",
      "28/28 [==============================] - 0s 2ms/step - loss: 0.0205 - mae: 0.0965 - val_loss: 0.1153 - val_mae: 0.2432\n",
      "Epoch 181/200\n",
      "28/28 [==============================] - 0s 2ms/step - loss: 0.0206 - mae: 0.0931 - val_loss: 0.1181 - val_mae: 0.2491\n",
      "Epoch 182/200\n",
      "28/28 [==============================] - 0s 2ms/step - loss: 0.0205 - mae: 0.0930 - val_loss: 0.1153 - val_mae: 0.2467\n",
      "Epoch 183/200\n",
      "28/28 [==============================] - 0s 2ms/step - loss: 0.0196 - mae: 0.0868 - val_loss: 0.1088 - val_mae: 0.2316\n",
      "Epoch 184/200\n",
      "28/28 [==============================] - 0s 2ms/step - loss: 0.0200 - mae: 0.0935 - val_loss: 0.1187 - val_mae: 0.2471\n",
      "Epoch 185/200\n",
      "28/28 [==============================] - 0s 2ms/step - loss: 0.0180 - mae: 0.0890 - val_loss: 0.1245 - val_mae: 0.2512\n",
      "Epoch 186/200\n",
      "28/28 [==============================] - 0s 2ms/step - loss: 0.0175 - mae: 0.0871 - val_loss: 0.1134 - val_mae: 0.2382\n",
      "Epoch 187/200\n",
      "28/28 [==============================] - 0s 2ms/step - loss: 0.0207 - mae: 0.0943 - val_loss: 0.1147 - val_mae: 0.2439\n",
      "Epoch 188/200\n",
      "28/28 [==============================] - 0s 2ms/step - loss: 0.0204 - mae: 0.0936 - val_loss: 0.1218 - val_mae: 0.2404\n",
      "Epoch 189/200\n",
      "28/28 [==============================] - 0s 2ms/step - loss: 0.0188 - mae: 0.0887 - val_loss: 0.1307 - val_mae: 0.2676\n",
      "Epoch 190/200\n",
      "28/28 [==============================] - 0s 2ms/step - loss: 0.0196 - mae: 0.0913 - val_loss: 0.1192 - val_mae: 0.2438\n",
      "Epoch 191/200\n",
      "28/28 [==============================] - 0s 2ms/step - loss: 0.0194 - mae: 0.0923 - val_loss: 0.1178 - val_mae: 0.2515\n",
      "Epoch 192/200\n",
      "28/28 [==============================] - 0s 2ms/step - loss: 0.0181 - mae: 0.0883 - val_loss: 0.1152 - val_mae: 0.2392\n",
      "Epoch 193/200\n",
      "28/28 [==============================] - 0s 2ms/step - loss: 0.0203 - mae: 0.0956 - val_loss: 0.1159 - val_mae: 0.2446\n",
      "Epoch 194/200\n",
      "28/28 [==============================] - 0s 2ms/step - loss: 0.0183 - mae: 0.0909 - val_loss: 0.1257 - val_mae: 0.2547\n",
      "Epoch 195/200\n",
      "28/28 [==============================] - 0s 2ms/step - loss: 0.0197 - mae: 0.0917 - val_loss: 0.1185 - val_mae: 0.2536\n",
      "Epoch 196/200\n",
      "28/28 [==============================] - 0s 2ms/step - loss: 0.0191 - mae: 0.0926 - val_loss: 0.1234 - val_mae: 0.2499\n",
      "Epoch 197/200\n",
      "28/28 [==============================] - 0s 2ms/step - loss: 0.0164 - mae: 0.0844 - val_loss: 0.1223 - val_mae: 0.2472\n",
      "Epoch 198/200\n",
      "28/28 [==============================] - 0s 2ms/step - loss: 0.0173 - mae: 0.0856 - val_loss: 0.1213 - val_mae: 0.2404\n",
      "Epoch 199/200\n",
      "28/28 [==============================] - 0s 2ms/step - loss: 0.0200 - mae: 0.0934 - val_loss: 0.1232 - val_mae: 0.2430\n",
      "Epoch 200/200\n",
      "28/28 [==============================] - 0s 2ms/step - loss: 0.0201 - mae: 0.0979 - val_loss: 0.1127 - val_mae: 0.2409\n"
     ]
    }
   ],
   "source": [
    "history = network.fit(X_train,Y_train,epochs=200,validation_split=0.3, batch_size = 18)"
   ]
  },
  {
   "cell_type": "code",
   "execution_count": 23,
   "metadata": {},
   "outputs": [
    {
     "data": {
      "text/plain": [
       "dict_keys(['loss', 'mae', 'val_loss', 'val_mae'])"
      ]
     },
     "execution_count": 23,
     "metadata": {},
     "output_type": "execute_result"
    }
   ],
   "source": [
    "history.history.keys()"
   ]
  },
  {
   "cell_type": "code",
   "execution_count": 24,
   "metadata": {
    "colab": {
     "base_uri": "https://localhost:8080/"
    },
    "id": "Dke-NeOQtJ7Z",
    "outputId": "c747742c-a35c-489d-910c-49aec973df25"
   },
   "outputs": [
    {
     "name": "stdout",
     "output_type": "stream",
     "text": [
      " 1/10 [==>...........................] - ETA: 0s - loss: 0.3052 - mae: 0.3716WARNING:tensorflow:Callbacks method `on_test_batch_end` is slow compared to the batch time (batch time: 0.0000s vs `on_test_batch_end` time: 0.0010s). Check your callbacks.\n",
      "10/10 [==============================] - 0s 1ms/step - loss: 0.1193 - mae: 0.2245\n"
     ]
    }
   ],
   "source": [
    "loss,mae=network.evaluate(X_test,Y_test)"
   ]
  },
  {
   "cell_type": "code",
   "execution_count": 26,
   "metadata": {
    "colab": {
     "base_uri": "https://localhost:8080/"
    },
    "id": "CtycpTWetRiZ",
    "outputId": "c3c53923-6128-448f-a0ac-68b30a6eabaa"
   },
   "outputs": [],
   "source": [
    "val_mae = history.history['val_mae']\n",
    "val_loss = history.history['val_loss']"
   ]
  },
  {
   "cell_type": "code",
   "execution_count": 27,
   "metadata": {},
   "outputs": [
    {
     "data": {
      "image/png": "[encoded data removed]",
      "text/plain": [
       "<Figure size 432x288 with 1 Axes>"
      ]
     },
     "metadata": {
      "needs_background": "light"
     },
     "output_type": "display_data"
    }
   ],
   "source": [
    "import matplotlib.pyplot as plt \n",
    "history_dict = history.history\n",
    "loss_values = history_dict['loss']\n",
    "val_loss_values = history_dict['val_loss']\n",
    "epochs = range(200)\n",
    "plt.plot(epochs, loss_values, 'bo', label='Training loss')\n",
    "plt.plot(epochs, val_loss_values, 'b', label='Validation loss')\n",
    "plt.title('Training and validation loss')\n",
    "plt.xlabel('Epochs')\n",
    "plt.ylabel('Loss')\n",
    "plt.legend()\n",
    "plt.show()"
   ]
  },
  {
   "cell_type": "code",
   "execution_count": 28,
   "metadata": {},
   "outputs": [
    {
     "data": {
      "image/png": "[encoded data removed]",
      "text/plain": [
       "<Figure size 432x288 with 1 Axes>"
      ]
     },
     "metadata": {
      "needs_background": "light"
     },
     "output_type": "display_data"
    }
   ],
   "source": [
    "import matplotlib.pyplot as plt \n",
    "acc_values = history_dict['mae']\n",
    "val_acc_values = history_dict['val_mae']\n",
    "plt.plot(epochs, acc_values, 'bo', label='Training mae')\n",
    "plt.plot(epochs, val_acc_values, 'b', label='Validation mae')\n",
    "plt.title('Training and validation accuracy')\n",
    "plt.xlabel('Epochs')\n",
    "plt.ylabel('mae')\n",
    "plt.legend()\n",
    "plt.show()"
   ]
  },
  {
   "cell_type": "code",
   "execution_count": 29,
   "metadata": {
    "id": "AiZJuEX1tXIa"
   },
   "outputs": [],
   "source": [
    "y_pred = network.predict(X_test)"
   ]
  },
  {
   "cell_type": "code",
   "execution_count": 30,
   "metadata": {},
   "outputs": [],
   "source": [
    "def denorm(x):\n",
    "    return (x * Y_std) + Y_mean\n",
    "    "
   ]
  },
  {
   "cell_type": "code",
   "execution_count": 31,
   "metadata": {},
   "outputs": [],
   "source": [
    "y_pred = denorm(y_pred)"
   ]
  },
  {
   "cell_type": "code",
   "execution_count": 32,
   "metadata": {},
   "outputs": [],
   "source": [
    "y_true = denorm(Y_test)"
   ]
  },
  {
   "cell_type": "code",
   "execution_count": 33,
   "metadata": {},
   "outputs": [],
   "source": [
    "y_pred = y_pred.flatten()"
   ]
  },
  {
   "cell_type": "code",
   "execution_count": 34,
   "metadata": {},
   "outputs": [
    {
     "data": {
      "text/plain": [
       "(309,)"
      ]
     },
     "execution_count": 34,
     "metadata": {},
     "output_type": "execute_result"
    }
   ],
   "source": [
    "y_pred.shape"
   ]
  },
  {
   "cell_type": "code",
   "execution_count": 35,
   "metadata": {},
   "outputs": [
    {
     "data": {
      "text/plain": [
       "(309,)"
      ]
     },
     "execution_count": 35,
     "metadata": {},
     "output_type": "execute_result"
    }
   ],
   "source": [
    "y_true.shape"
   ]
  },
  {
   "cell_type": "code",
   "execution_count": 36,
   "metadata": {},
   "outputs": [
    {
     "data": {
      "text/plain": [
       "(0.0, 100.0)"
      ]
     },
     "execution_count": 36,
     "metadata": {},
     "output_type": "execute_result"
    },
    {
     "data": {
      "image/png": "[encoded data removed]",
      "text/plain": [
       "<Figure size 432x288 with 1 Axes>"
      ]
     },
     "metadata": {
      "needs_background": "light"
     },
     "output_type": "display_data"
    }
   ],
   "source": [
    "import numpy as np\n",
    "import matplotlib.pyplot as plt\n",
    "coef = np.polyfit(y_true,y_pred,1)\n",
    "poly1d_fn = np.poly1d(coef) \n",
    "# poly1d_fn is now a function which takes in x and returns an estimate for y\n",
    "plt.plot(y_true,y_pred, 'yo', y_true, poly1d_fn(y_true), '--k')\n",
    "plt.xlim(0, 100)\n",
    "plt.ylim(0, 100)"
   ]
  },
  {
   "cell_type": "code",
   "execution_count": null,
   "metadata": {},
   "outputs": [],
   "source": []
  }
 ],
 "metadata": {
  "accelerator": "TPU",
  "colab": {
   "collapsed_sections": [],
   "name": "Concrete.ipynb",
   "provenance": [],
   "toc_visible": true
  },
  "kernelspec": {
   "display_name": "Python 3",
   "language": "python",
   "name": "python3"
  },
  "language_info": {
   "codemirror_mode": {
    "name": "ipython",
    "version": 3
   },
   "file_extension": ".py",
   "mimetype": "text/x-python",
   "name": "python",
   "nbconvert_exporter": "python",
   "pygments_lexer": "ipython3",
   "version": "3.7.6"
  }
 },
 "nbformat": 4,
 "nbformat_minor": 1
}
