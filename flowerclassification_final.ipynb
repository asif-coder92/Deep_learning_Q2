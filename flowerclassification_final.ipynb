{
 "cells": [
  {
   "cell_type": "markdown",
   "metadata": {},
   "source": [
    "Assignment: Flowers Recognition\n",
    "Dataset Description:\n",
    "\n",
    "This dataset contains 4242 images of flowers.\n",
    "The data collection is based on the data flicr, google images, yandex images.\n",
    "You can use this datastet to recognize plants from the photo.\n",
    "\n",
    "Attribute Information:\n",
    "The pictures are divided into five classes: chamomile, tulip, rose, sunflower, dandelion.\n",
    "For each class there are about 800 photos. Photos are not high resolution, about 320x240 pixels.\n",
    "Also explore how to resize images in tensorflow and then resize all the images to a same size.\n",
    "This is a Multiclass Classification Problem."
   ]
  },
  {
   "cell_type": "markdown",
   "metadata": {},
   "source": [
    "WORKFLOW :\n",
    "Load Data\n",
    "Split into 60 and 40 ratio.\n",
    "Encode labels.\n",
    "Create Model\n",
    "Compilation Step (Note : Its a Multiclass Classification problem , select loss , metrics according to it)\n",
    "Train the Model.\n",
    "If the model gets overfit tune your model by changing the units , No. of layers , epochs , add dropout layer or add Regularizer according to the need .\n",
    "Prediction should be > 85%\n",
    "Evaluation Step\n",
    "Prediction\n",
    "\n",
    "Data :\n",
    "https://drive.google.com/file/d/1-OX6wn5gA-bJpjPNfSyaYQLz-A-AB_uj/view?usp=sharing\n"
   ]
  },
  {
   "cell_type": "code",
   "execution_count": 91,
   "metadata": {},
   "outputs": [],
   "source": [
    "import os\n",
    "import pandas as pd\n",
    "import pickle\n",
    "import cv2\n",
    "import matplotlib.pyplot as plt\n",
    "import numpy as np\n",
    "import tensorflow as tf\n",
    "from tensorflow.python.lib.io import file_io\n",
    "from datetime import datetime\n",
    "from tensorflow.keras.models import load_model\n",
    "from tensorflow.keras.preprocessing.image import ImageDataGenerator\n",
    "from tensorflow.keras.models import Model\n",
    "from PIL import Image"
   ]
  },
  {
   "cell_type": "code",
   "execution_count": 92,
   "metadata": {
    "colab": {
     "base_uri": "https://localhost:8080/"
    },
    "id": "gu8R1NyOv9Gv",
    "outputId": "2012785e-c9d0-470f-8721-f3cd0e984991"
   },
   "outputs": [
    {
     "name": "stdout",
     "output_type": "stream",
     "text": [
      "Found 3028 images belonging to 5 classes.\n",
      "Found 1295 images belonging to 5 classes.\n"
     ]
    }
   ],
   "source": [
    "val_batch = 10\n",
    "train_batch = 32\n",
    "train_datagen = ImageDataGenerator(\n",
    "        rescale=1./255,\n",
    "        validation_split=0.30,\n",
    "        )\n",
    "train_generator = train_datagen.flow_from_directory(\n",
    "        './data',\n",
    "        target_size=(80, 80),\n",
    "        batch_size=train_batch,\n",
    "        class_mode='categorical',\n",
    "        subset = 'training',\n",
    "        color_mode = 'grayscale',\n",
    "        shuffle = True,\n",
    "        )\n",
    "validation_generator = train_datagen.flow_from_directory(\n",
    "        './data',\n",
    "        target_size=(80, 80),\n",
    "        batch_size=val_batch,\n",
    "        class_mode='categorical',\n",
    "        subset = 'validation',\n",
    "        color_mode = 'grayscale',\n",
    "        shuffle= True)\n"
   ]
  },
  {
   "cell_type": "code",
   "execution_count": 93,
   "metadata": {
    "colab": {
     "base_uri": "https://localhost:8080/"
    },
    "id": "RR13ZEf7-zus",
    "outputId": "2f6845c0-9df3-43ca-f72b-fda785cc3f7d"
   },
   "outputs": [
    {
     "data": {
      "text/plain": [
       "{'daisy': 0, 'dandelion': 1, 'rose': 2, 'sunflower': 3, 'tulip': 4}"
      ]
     },
     "execution_count": 93,
     "metadata": {},
     "output_type": "execute_result"
    }
   ],
   "source": [
    "train_generator.class_indices"
   ]
  },
  {
   "cell_type": "code",
   "execution_count": 94,
   "metadata": {
    "colab": {
     "base_uri": "https://localhost:8080/"
    },
    "id": "LqDb5wQt9NSe",
    "outputId": "018c928c-f59e-472d-91af-d1feceff2d3e"
   },
   "outputs": [
    {
     "data": {
      "text/plain": [
       "tensorflow.python.keras.preprocessing.image.ImageDataGenerator"
      ]
     },
     "execution_count": 94,
     "metadata": {},
     "output_type": "execute_result"
    }
   ],
   "source": [
    "type(train_datagen)"
   ]
  },
  {
   "cell_type": "code",
   "execution_count": 95,
   "metadata": {},
   "outputs": [
    {
     "data": {
      "text/plain": [
       "tensorflow.python.keras.preprocessing.image.DirectoryIterator"
      ]
     },
     "execution_count": 95,
     "metadata": {},
     "output_type": "execute_result"
    }
   ],
   "source": [
    "type(train_generator)"
   ]
  },
  {
   "cell_type": "code",
   "execution_count": 96,
   "metadata": {},
   "outputs": [
    {
     "data": {
      "text/plain": [
       "(32, 5)"
      ]
     },
     "execution_count": 96,
     "metadata": {},
     "output_type": "execute_result"
    }
   ],
   "source": [
    "train_generator[31][1].shape\n"
   ]
  },
  {
   "cell_type": "code",
   "execution_count": 97,
   "metadata": {
    "id": "MECEactbpYY2"
   },
   "outputs": [],
   "source": [
    "from tensorflow.keras.models import Sequential\n",
    "from tensorflow.keras.layers import Dense, Dropout,Flatten\n",
    "model = Sequential()\n",
    "model.add(Flatten())\n",
    "model.add(Dense(10, activation='relu'))\n",
    "model.add(Dense(8, activation='relu'))\n",
    "model.add(Dense(5,  activation='softmax'))"
   ]
  },
  {
   "cell_type": "code",
   "execution_count": 98,
   "metadata": {
    "id": "2QFL7tA4D0Sa"
   },
   "outputs": [],
   "source": [
    "model.compile(optimizer='rmsprop',\n",
    "loss='categorical_crossentropy',\n",
    "metrics=['accuracy'])"
   ]
  },
  {
   "cell_type": "code",
   "execution_count": 99,
   "metadata": {
    "id": "kBJbtQp1fhfx"
   },
   "outputs": [],
   "source": [
    "\n",
    "import tensorflow as tf"
   ]
  },
  {
   "cell_type": "code",
   "execution_count": 100,
   "metadata": {
    "colab": {
     "base_uri": "https://localhost:8080/"
    },
    "id": "mwG7_qctxUBl",
    "outputId": "a657cddc-ae3a-4e12-bd0e-8bf0f672af9e"
   },
   "outputs": [
    {
     "name": "stdout",
     "output_type": "stream",
     "text": [
      "Epoch 1/25\n",
      "25/25 [==============================] - 6s 257ms/step - loss: 1.8380 - accuracy: 0.2075 - val_loss: 1.6081 - val_accuracy: 0.2463\n",
      "Epoch 2/25\n",
      "25/25 [==============================] - 6s 249ms/step - loss: 1.6093 - accuracy: 0.2375 - val_loss: 1.6073 - val_accuracy: 0.2456\n",
      "Epoch 3/25\n",
      "25/25 [==============================] - 6s 258ms/step - loss: 1.6072 - accuracy: 0.2325 - val_loss: 1.6062 - val_accuracy: 0.2456\n",
      "Epoch 4/25\n",
      "25/25 [==============================] - 6s 246ms/step - loss: 1.6061 - accuracy: 0.2438 - val_loss: 1.6053 - val_accuracy: 0.2456\n",
      "Epoch 5/25\n",
      "25/25 [==============================] - 7s 261ms/step - loss: 1.6134 - accuracy: 0.2562 - val_loss: 1.6044 - val_accuracy: 0.2432\n",
      "Epoch 6/25\n",
      "25/25 [==============================] - 6s 253ms/step - loss: 1.6044 - accuracy: 0.2537 - val_loss: 1.6037 - val_accuracy: 0.2448\n",
      "Epoch 7/25\n",
      "25/25 [==============================] - 7s 263ms/step - loss: 1.6063 - accuracy: 0.2259 - val_loss: 1.6034 - val_accuracy: 0.2432\n",
      "Epoch 8/25\n",
      "25/25 [==============================] - 7s 272ms/step - loss: 1.6026 - accuracy: 0.2562 - val_loss: 1.6028 - val_accuracy: 0.2432\n",
      "Epoch 9/25\n",
      "25/25 [==============================] - 6s 259ms/step - loss: 1.6050 - accuracy: 0.2537 - val_loss: 1.6024 - val_accuracy: 0.2432\n",
      "Epoch 10/25\n",
      "25/25 [==============================] - 7s 267ms/step - loss: 1.6003 - accuracy: 0.2538 - val_loss: 1.6018 - val_accuracy: 0.2432\n",
      "Epoch 11/25\n",
      "25/25 [==============================] - 7s 265ms/step - loss: 1.6009 - accuracy: 0.2637 - val_loss: 1.6015 - val_accuracy: 0.2432\n",
      "Epoch 12/25\n",
      "25/25 [==============================] - 7s 268ms/step - loss: 1.6060 - accuracy: 0.2262 - val_loss: 1.6014 - val_accuracy: 0.2432\n",
      "Epoch 13/25\n",
      "25/25 [==============================] - 7s 260ms/step - loss: 1.6014 - accuracy: 0.2587 - val_loss: 1.6012 - val_accuracy: 0.2432\n",
      "Epoch 14/25\n",
      "25/25 [==============================] - 7s 262ms/step - loss: 1.6011 - accuracy: 0.2525 - val_loss: 1.6010 - val_accuracy: 0.2432\n",
      "Epoch 15/25\n",
      "25/25 [==============================] - 7s 271ms/step - loss: 1.6043 - accuracy: 0.2375 - val_loss: 1.6009 - val_accuracy: 0.2432\n",
      "Epoch 16/25\n",
      "25/25 [==============================] - 6s 260ms/step - loss: 1.6012 - accuracy: 0.2425 - val_loss: 1.6007 - val_accuracy: 0.2432\n",
      "Epoch 17/25\n",
      "25/25 [==============================] - 7s 261ms/step - loss: 1.5964 - accuracy: 0.2488 - val_loss: 1.6002 - val_accuracy: 0.2432\n",
      "Epoch 18/25\n",
      "25/25 [==============================] - 6s 252ms/step - loss: 1.6017 - accuracy: 0.2400 - val_loss: 1.6000 - val_accuracy: 0.2432\n",
      "Epoch 19/25\n",
      "25/25 [==============================] - 6s 249ms/step - loss: 1.5971 - accuracy: 0.2625 - val_loss: 1.5998 - val_accuracy: 0.2432\n",
      "Epoch 20/25\n",
      "25/25 [==============================] - 6s 258ms/step - loss: 1.6047 - accuracy: 0.2411 - val_loss: 1.5999 - val_accuracy: 0.2432\n",
      "Epoch 21/25\n",
      "25/25 [==============================] - 6s 254ms/step - loss: 1.5999 - accuracy: 0.2411 - val_loss: 1.5997 - val_accuracy: 0.2432\n",
      "Epoch 22/25\n",
      "25/25 [==============================] - 7s 260ms/step - loss: 1.5993 - accuracy: 0.2438 - val_loss: 1.5995 - val_accuracy: 0.2432\n",
      "Epoch 23/25\n",
      "25/25 [==============================] - 6s 250ms/step - loss: 1.5970 - accuracy: 0.2550 - val_loss: 1.5994 - val_accuracy: 0.2432\n",
      "Epoch 24/25\n",
      "25/25 [==============================] - 6s 252ms/step - loss: 1.6035 - accuracy: 0.2438 - val_loss: 1.5995 - val_accuracy: 0.2432\n",
      "Epoch 25/25\n",
      "25/25 [==============================] - 7s 279ms/step - loss: 1.5973 - accuracy: 0.2512 - val_loss: 1.5993 - val_accuracy: 0.2432\n"
     ]
    }
   ],
   "source": [
    "with tf.device('/device:GPU:0'):\n",
    "    result = model.fit(\n",
    "          train_generator,\n",
    "          steps_per_epoch =25,\n",
    "          batch_size = train_batch,\n",
    "          validation_data = validation_generator,\n",
    "          validation_batch_size= val_batch,\n",
    "          epochs=25)"
   ]
  },
  {
   "cell_type": "code",
   "execution_count": 101,
   "metadata": {
    "colab": {
     "base_uri": "https://localhost:8080/"
    },
    "id": "kAMVOUBUhcj9",
    "outputId": "db434bb6-e8e4-472f-bdc7-cb037b48335b"
   },
   "outputs": [
    {
     "name": "stdout",
     "output_type": "stream",
     "text": [
      "130/130 [==============================] - 4s 34ms/step - loss: 1.5993 - accuracy: 0.2432\n"
     ]
    },
    {
     "data": {
      "text/plain": [
       "[1.5993447303771973, 0.2432432472705841]"
      ]
     },
     "execution_count": 101,
     "metadata": {},
     "output_type": "execute_result"
    }
   ],
   "source": [
    "model.evaluate(validation_generator)"
   ]
  },
  {
   "cell_type": "code",
   "execution_count": 102,
   "metadata": {
    "colab": {
     "base_uri": "https://localhost:8080/"
    },
    "id": "Ufw4FqsmU-g2",
    "outputId": "8f3fdd61-6da5-452f-e187-73ff2c55f313"
   },
   "outputs": [
    {
     "data": {
      "text/plain": [
       "dict_keys(['loss', 'accuracy', 'val_loss', 'val_accuracy'])"
      ]
     },
     "execution_count": 102,
     "metadata": {},
     "output_type": "execute_result"
    }
   ],
   "source": [
    "x = result.history.keys()\n",
    "x"
   ]
  },
  {
   "cell_type": "code",
   "execution_count": 103,
   "metadata": {
    "colab": {
     "base_uri": "https://localhost:8080/",
     "height": 573
    },
    "id": "dOKPsS3HWwUn",
    "outputId": "2abfc7a2-821f-43a7-bf5b-7c88fd80c488"
   },
   "outputs": [
    {
     "data": {
      "image/png": "[encoded data removed]",
      "text/plain": [
       "<Figure size 432x288 with 1 Axes>"
      ]
     },
     "metadata": {
      "needs_background": "light"
     },
     "output_type": "display_data"
    },
    {
     "data": {
      "image/png": "[encoded data removed]",
      "text/plain": [
       "<Figure size 432x288 with 1 Axes>"
      ]
     },
     "metadata": {
      "needs_background": "light"
     },
     "output_type": "display_data"
    }
   ],
   "source": [
    "\n",
    "# Visualize training history\n",
    "from keras.models import Sequential\n",
    "from keras.layers import Dense\n",
    "import matplotlib.pyplot as plt\n",
    "import numpy\n",
    "plt.plot(result.history['accuracy'])\n",
    "plt.plot(result.history['val_accuracy'])\n",
    "plt.title('model accuracy')\n",
    "plt.ylabel('accuracy')\n",
    "plt.xlabel('epoch')\n",
    "plt.legend(['train', 'test'], loc='upper left')\n",
    "plt.show()\n",
    "# summarize history for loss\n",
    "plt.plot(result.history['loss'])\n",
    "plt.plot(result.history['val_loss'])\n",
    "plt.title('model loss')\n",
    "plt.ylabel('loss')\n",
    "plt.xlabel('epoch')\n",
    "plt.legend(['train', 'test'], loc='upper left')\n",
    "plt.show()"
   ]
  },
  {
   "cell_type": "code",
   "execution_count": 111,
   "metadata": {
    "id": "u7p4aMxliqvO"
   },
   "outputs": [],
   "source": [
    "y_pred1 = model.predict(validation_generator)"
   ]
  },
  {
   "cell_type": "code",
   "execution_count": 105,
   "metadata": {
    "colab": {
     "base_uri": "https://localhost:8080/"
    },
    "id": "-qhQ6JA_i0YM",
    "outputId": "9797b44c-ae92-4003-a7e8-93fb690710fa"
   },
   "outputs": [
    {
     "data": {
      "text/plain": [
       "(1295, 5)"
      ]
     },
     "execution_count": 105,
     "metadata": {},
     "output_type": "execute_result"
    }
   ],
   "source": [
    "y_pred1.shape"
   ]
  },
  {
   "cell_type": "code",
   "execution_count": 106,
   "metadata": {
    "id": "TRKNoHsBNvdR"
   },
   "outputs": [],
   "source": [
    "list1 = []\n",
    "for i in range(0,len(validation_generator)):\n",
    "    for j in range(0,val_batch):\n",
    "        try:\n",
    "              list1.append(validation_generator[i][1][j].tolist())\n",
    "        except:\n",
    "              break"
   ]
  },
  {
   "cell_type": "code",
   "execution_count": 107,
   "metadata": {
    "id": "P9u0xdNxfeHl"
   },
   "outputs": [
    {
     "data": {
      "text/plain": [
       "array([1, 1, 1, 1, 1, 1, 1, 1, 1, 1, 1, 1, 1, 1, 1, 1, 1, 1, 1, 1, 1, 1,\n",
       "       1, 1, 1, 1, 1, 1, 1, 1], dtype=int64)"
      ]
     },
     "execution_count": 107,
     "metadata": {},
     "output_type": "execute_result"
    }
   ],
   "source": [
    "np.argmax(y_pred1, axis=1)[0:30]"
   ]
  },
  {
   "cell_type": "code",
   "execution_count": 108,
   "metadata": {
    "id": "sVy31j9On2U_"
   },
   "outputs": [
    {
     "data": {
      "text/plain": [
       "array([1, 4, 2, 1, 2, 1, 1, 0, 4, 3, 2, 1, 1, 2, 4, 2, 1, 0, 1, 4, 2, 4,\n",
       "       1, 1, 1, 4, 0, 4, 2, 4], dtype=int64)"
      ]
     },
     "execution_count": 108,
     "metadata": {},
     "output_type": "execute_result"
    }
   ],
   "source": [
    "np.argmax(list1[0:30],axis=1)"
   ]
  },
  {
   "cell_type": "code",
   "execution_count": 110,
   "metadata": {
    "id": "CvcUePAg9OoZ"
   },
   "outputs": [
    {
     "data": {
      "text/plain": [
       "1295"
      ]
     },
     "execution_count": 110,
     "metadata": {},
     "output_type": "execute_result"
    }
   ],
   "source": [
    "len(list1)"
   ]
  },
  {
   "cell_type": "code",
   "execution_count": null,
   "metadata": {},
   "outputs": [],
   "source": []
  }
 ],
 "metadata": {
  "accelerator": "GPU",
  "colab": {
   "collapsed_sections": [],
   "name": "flowerclassification_28_march.ipynb",
   "provenance": []
  },
  "kernelspec": {
   "display_name": "Python 3",
   "language": "python",
   "name": "python3"
  },
  "language_info": {
   "codemirror_mode": {
    "name": "ipython",
    "version": 3
   },
   "file_extension": ".py",
   "mimetype": "text/x-python",
   "name": "python",
   "nbconvert_exporter": "python",
   "pygments_lexer": "ipython3",
   "version": "3.8.8"
  }
 },
 "nbformat": 4,
 "nbformat_minor": 1
}
