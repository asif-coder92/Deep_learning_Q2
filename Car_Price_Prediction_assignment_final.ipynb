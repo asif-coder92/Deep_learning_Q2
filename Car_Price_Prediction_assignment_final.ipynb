{
 "cells": [
  {
   "cell_type": "markdown",
   "metadata": {
    "id": "0_HsWVrWvDNP"
   },
   "source": [
    "# Car Price Prediction::"
   ]
  },
  {
   "cell_type": "markdown",
   "metadata": {
    "id": "Neq61yUOvDNV"
   },
   "source": [
    "Download dataset from this link:\n",
    "\n",
    "https://www.kaggle.com/hellbuoy/car-price-prediction"
   ]
  },
  {
   "cell_type": "markdown",
   "metadata": {
    "id": "errs9eyZvDNW"
   },
   "source": [
    "# Problem Statement::"
   ]
  },
  {
   "cell_type": "markdown",
   "metadata": {
    "id": "zCu6NRLVvDNX"
   },
   "source": [
    "A Chinese automobile company Geely Auto aspires to enter the US market by setting up their manufacturing unit there and producing cars locally to give competition to their US and European counterparts.\n",
    "\n",
    "They have contracted an automobile consulting company to understand the factors on which the pricing of cars depends. Specifically, they want to understand the factors affecting the pricing of cars in the American market, since those may be very different from the Chinese market. The company wants to know:\n",
    "\n",
    "Which variables are significant in predicting the price of a car\n",
    "How well those variables describe the price of a car\n",
    "Based on various market surveys, the consulting firm has gathered a large data set of different types of cars across the America market.\n",
    "\n",
    "# task::\n",
    "We are required to model the price of cars with the available independent variables. It will be used by the management to understand how exactly the prices vary with the independent variables. They can accordingly manipulate the design of the cars, the business strategy etc. to meet certain price levels. Further, the model will be a good way for management to understand the pricing dynamics of a new market."
   ]
  },
  {
   "cell_type": "markdown",
   "metadata": {
    "id": "3-vI6CymvDNX"
   },
   "source": [
    "# WORKFLOW ::"
   ]
  },
  {
   "cell_type": "markdown",
   "metadata": {
    "id": "mRvlK8RBvDNX"
   },
   "source": [
    "1.Load Data\n",
    "\n",
    "2.Check Missing Values ( If Exist ; Fill each record with mean of its feature )\n",
    "\n",
    "3.Split into 50% Training(Samples,Labels) , 30% Test(Samples,Labels) and 20% Validation Data(Samples,Labels).\n",
    "\n",
    "4.Model : input Layer (No. of features ), 3 hidden layers including 10,8,6 unit & Output Layer with activation function relu/tanh (check by experiment).\n",
    "\n",
    "5.Compilation Step (Note : Its a Regression problem , select loss , metrics according to it)\n",
    "6.Train the Model with Epochs (100) and validate it\n",
    "\n",
    "7.If the model gets overfit tune your model by changing the units , No. of layers , activation function , epochs , add dropout layer or add Regularizer according to the need .\n",
    "\n",
    "8.Evaluation Step\n",
    "\n",
    "9.Prediction"
   ]
  },
  {
   "cell_type": "code",
   "execution_count": 2,
   "metadata": {
    "id": "duXMXXhZvDNY"
   },
   "outputs": [],
   "source": [
    "import pandas as pd\n",
    "import numpy as np\n",
    "import tensorflow as tf\n",
    "car_data = pd.read_csv('CarPrice_Assignment.csv')"
   ]
  },
  {
   "cell_type": "code",
   "execution_count": 3,
   "metadata": {
    "colab": {
     "base_uri": "https://localhost:8080/",
     "height": 270
    },
    "id": "hnf-BIvL5-qO",
    "outputId": "b6ad9a61-8203-49bc-fec8-9c7be751d992"
   },
   "outputs": [
    {
     "data": {
      "text/html": [
       "<div>\n",
       "<style scoped>\n",
       "    .dataframe tbody tr th:only-of-type {\n",
       "        vertical-align: middle;\n",
       "    }\n",
       "\n",
       "    .dataframe tbody tr th {\n",
       "        vertical-align: top;\n",
       "    }\n",
       "\n",
       "    .dataframe thead th {\n",
       "        text-align: right;\n",
       "    }\n",
       "</style>\n",
       "<table border=\"1\" class=\"dataframe\">\n",
       "  <thead>\n",
       "    <tr style=\"text-align: right;\">\n",
       "      <th></th>\n",
       "      <th>car_ID</th>\n",
       "      <th>symboling</th>\n",
       "      <th>CarName</th>\n",
       "      <th>fueltype</th>\n",
       "      <th>aspiration</th>\n",
       "      <th>doornumber</th>\n",
       "      <th>carbody</th>\n",
       "      <th>drivewheel</th>\n",
       "      <th>enginelocation</th>\n",
       "      <th>wheelbase</th>\n",
       "      <th>...</th>\n",
       "      <th>enginesize</th>\n",
       "      <th>fuelsystem</th>\n",
       "      <th>boreratio</th>\n",
       "      <th>stroke</th>\n",
       "      <th>compressionratio</th>\n",
       "      <th>horsepower</th>\n",
       "      <th>peakrpm</th>\n",
       "      <th>citympg</th>\n",
       "      <th>highwaympg</th>\n",
       "      <th>price</th>\n",
       "    </tr>\n",
       "  </thead>\n",
       "  <tbody>\n",
       "    <tr>\n",
       "      <th>0</th>\n",
       "      <td>1</td>\n",
       "      <td>3</td>\n",
       "      <td>alfa-romero giulia</td>\n",
       "      <td>gas</td>\n",
       "      <td>std</td>\n",
       "      <td>two</td>\n",
       "      <td>convertible</td>\n",
       "      <td>rwd</td>\n",
       "      <td>front</td>\n",
       "      <td>88.6</td>\n",
       "      <td>...</td>\n",
       "      <td>130</td>\n",
       "      <td>mpfi</td>\n",
       "      <td>3.47</td>\n",
       "      <td>2.68</td>\n",
       "      <td>9.0</td>\n",
       "      <td>111</td>\n",
       "      <td>5000</td>\n",
       "      <td>21</td>\n",
       "      <td>27</td>\n",
       "      <td>13495.0</td>\n",
       "    </tr>\n",
       "    <tr>\n",
       "      <th>1</th>\n",
       "      <td>2</td>\n",
       "      <td>3</td>\n",
       "      <td>alfa-romero stelvio</td>\n",
       "      <td>gas</td>\n",
       "      <td>std</td>\n",
       "      <td>two</td>\n",
       "      <td>convertible</td>\n",
       "      <td>rwd</td>\n",
       "      <td>front</td>\n",
       "      <td>88.6</td>\n",
       "      <td>...</td>\n",
       "      <td>130</td>\n",
       "      <td>mpfi</td>\n",
       "      <td>3.47</td>\n",
       "      <td>2.68</td>\n",
       "      <td>9.0</td>\n",
       "      <td>111</td>\n",
       "      <td>5000</td>\n",
       "      <td>21</td>\n",
       "      <td>27</td>\n",
       "      <td>16500.0</td>\n",
       "    </tr>\n",
       "    <tr>\n",
       "      <th>2</th>\n",
       "      <td>3</td>\n",
       "      <td>1</td>\n",
       "      <td>alfa-romero Quadrifoglio</td>\n",
       "      <td>gas</td>\n",
       "      <td>std</td>\n",
       "      <td>two</td>\n",
       "      <td>hatchback</td>\n",
       "      <td>rwd</td>\n",
       "      <td>front</td>\n",
       "      <td>94.5</td>\n",
       "      <td>...</td>\n",
       "      <td>152</td>\n",
       "      <td>mpfi</td>\n",
       "      <td>2.68</td>\n",
       "      <td>3.47</td>\n",
       "      <td>9.0</td>\n",
       "      <td>154</td>\n",
       "      <td>5000</td>\n",
       "      <td>19</td>\n",
       "      <td>26</td>\n",
       "      <td>16500.0</td>\n",
       "    </tr>\n",
       "    <tr>\n",
       "      <th>3</th>\n",
       "      <td>4</td>\n",
       "      <td>2</td>\n",
       "      <td>audi 100 ls</td>\n",
       "      <td>gas</td>\n",
       "      <td>std</td>\n",
       "      <td>four</td>\n",
       "      <td>sedan</td>\n",
       "      <td>fwd</td>\n",
       "      <td>front</td>\n",
       "      <td>99.8</td>\n",
       "      <td>...</td>\n",
       "      <td>109</td>\n",
       "      <td>mpfi</td>\n",
       "      <td>3.19</td>\n",
       "      <td>3.40</td>\n",
       "      <td>10.0</td>\n",
       "      <td>102</td>\n",
       "      <td>5500</td>\n",
       "      <td>24</td>\n",
       "      <td>30</td>\n",
       "      <td>13950.0</td>\n",
       "    </tr>\n",
       "    <tr>\n",
       "      <th>4</th>\n",
       "      <td>5</td>\n",
       "      <td>2</td>\n",
       "      <td>audi 100ls</td>\n",
       "      <td>gas</td>\n",
       "      <td>std</td>\n",
       "      <td>four</td>\n",
       "      <td>sedan</td>\n",
       "      <td>4wd</td>\n",
       "      <td>front</td>\n",
       "      <td>99.4</td>\n",
       "      <td>...</td>\n",
       "      <td>136</td>\n",
       "      <td>mpfi</td>\n",
       "      <td>3.19</td>\n",
       "      <td>3.40</td>\n",
       "      <td>8.0</td>\n",
       "      <td>115</td>\n",
       "      <td>5500</td>\n",
       "      <td>18</td>\n",
       "      <td>22</td>\n",
       "      <td>17450.0</td>\n",
       "    </tr>\n",
       "  </tbody>\n",
       "</table>\n",
       "<p>5 rows × 26 columns</p>\n",
       "</div>"
      ],
      "text/plain": [
       "   car_ID  symboling                   CarName fueltype aspiration doornumber  \\\n",
       "0       1          3        alfa-romero giulia      gas        std        two   \n",
       "1       2          3       alfa-romero stelvio      gas        std        two   \n",
       "2       3          1  alfa-romero Quadrifoglio      gas        std        two   \n",
       "3       4          2               audi 100 ls      gas        std       four   \n",
       "4       5          2                audi 100ls      gas        std       four   \n",
       "\n",
       "       carbody drivewheel enginelocation  wheelbase  ...  enginesize  \\\n",
       "0  convertible        rwd          front       88.6  ...         130   \n",
       "1  convertible        rwd          front       88.6  ...         130   \n",
       "2    hatchback        rwd          front       94.5  ...         152   \n",
       "3        sedan        fwd          front       99.8  ...         109   \n",
       "4        sedan        4wd          front       99.4  ...         136   \n",
       "\n",
       "   fuelsystem  boreratio  stroke compressionratio horsepower  peakrpm citympg  \\\n",
       "0        mpfi       3.47    2.68              9.0        111     5000      21   \n",
       "1        mpfi       3.47    2.68              9.0        111     5000      21   \n",
       "2        mpfi       2.68    3.47              9.0        154     5000      19   \n",
       "3        mpfi       3.19    3.40             10.0        102     5500      24   \n",
       "4        mpfi       3.19    3.40              8.0        115     5500      18   \n",
       "\n",
       "   highwaympg    price  \n",
       "0          27  13495.0  \n",
       "1          27  16500.0  \n",
       "2          26  16500.0  \n",
       "3          30  13950.0  \n",
       "4          22  17450.0  \n",
       "\n",
       "[5 rows x 26 columns]"
      ]
     },
     "execution_count": 3,
     "metadata": {},
     "output_type": "execute_result"
    }
   ],
   "source": [
    "car_data.head()"
   ]
  },
  {
   "cell_type": "code",
   "execution_count": 4,
   "metadata": {
    "colab": {
     "base_uri": "https://localhost:8080/"
    },
    "id": "-JRgNW0hzOVH",
    "outputId": "aaa30897-3839-4114-f131-5bc215e78773"
   },
   "outputs": [
    {
     "data": {
      "text/plain": [
       "array(['alfa-romero giulia', 'alfa-romero stelvio',\n",
       "       'alfa-romero Quadrifoglio', 'audi 100 ls', 'audi 100ls',\n",
       "       'audi fox', 'audi 5000', 'audi 4000', 'audi 5000s (diesel)',\n",
       "       'bmw 320i', 'bmw x1', 'bmw x3', 'bmw z4', 'bmw x4', 'bmw x5',\n",
       "       'chevrolet impala', 'chevrolet monte carlo', 'chevrolet vega 2300',\n",
       "       'dodge rampage', 'dodge challenger se', 'dodge d200',\n",
       "       'dodge monaco (sw)', 'dodge colt hardtop', 'dodge colt (sw)',\n",
       "       'dodge coronet custom', 'dodge dart custom',\n",
       "       'dodge coronet custom (sw)', 'honda civic', 'honda civic cvcc',\n",
       "       'honda accord cvcc', 'honda accord lx', 'honda civic 1500 gl',\n",
       "       'honda accord', 'honda civic 1300', 'honda prelude',\n",
       "       'honda civic (auto)', 'isuzu MU-X', 'isuzu D-Max ',\n",
       "       'isuzu D-Max V-Cross', 'jaguar xj', 'jaguar xf', 'jaguar xk',\n",
       "       'maxda rx3', 'maxda glc deluxe', 'mazda rx2 coupe', 'mazda rx-4',\n",
       "       'mazda glc deluxe', 'mazda 626', 'mazda glc', 'mazda rx-7 gs',\n",
       "       'mazda glc 4', 'mazda glc custom l', 'mazda glc custom',\n",
       "       'buick electra 225 custom', 'buick century luxus (sw)',\n",
       "       'buick century', 'buick skyhawk', 'buick opel isuzu deluxe',\n",
       "       'buick skylark', 'buick century special',\n",
       "       'buick regal sport coupe (turbo)', 'mercury cougar',\n",
       "       'mitsubishi mirage', 'mitsubishi lancer', 'mitsubishi outlander',\n",
       "       'mitsubishi g4', 'mitsubishi mirage g4', 'mitsubishi montero',\n",
       "       'mitsubishi pajero', 'Nissan versa', 'nissan gt-r', 'nissan rogue',\n",
       "       'nissan latio', 'nissan titan', 'nissan leaf', 'nissan juke',\n",
       "       'nissan note', 'nissan clipper', 'nissan nv200', 'nissan dayz',\n",
       "       'nissan fuga', 'nissan otti', 'nissan teana', 'nissan kicks',\n",
       "       'peugeot 504', 'peugeot 304', 'peugeot 504 (sw)', 'peugeot 604sl',\n",
       "       'peugeot 505s turbo diesel', 'plymouth fury iii',\n",
       "       'plymouth cricket', 'plymouth satellite custom (sw)',\n",
       "       'plymouth fury gran sedan', 'plymouth valiant', 'plymouth duster',\n",
       "       'porsche macan', 'porcshce panamera', 'porsche cayenne',\n",
       "       'porsche boxter', 'renault 12tl', 'renault 5 gtl', 'saab 99e',\n",
       "       'saab 99le', 'saab 99gle', 'subaru', 'subaru dl', 'subaru brz',\n",
       "       'subaru baja', 'subaru r1', 'subaru r2', 'subaru trezia',\n",
       "       'subaru tribeca', 'toyota corona mark ii', 'toyota corona',\n",
       "       'toyota corolla 1200', 'toyota corona hardtop',\n",
       "       'toyota corolla 1600 (sw)', 'toyota carina', 'toyota mark ii',\n",
       "       'toyota corolla', 'toyota corolla liftback',\n",
       "       'toyota celica gt liftback', 'toyota corolla tercel',\n",
       "       'toyota corona liftback', 'toyota starlet', 'toyota tercel',\n",
       "       'toyota cressida', 'toyota celica gt', 'toyouta tercel',\n",
       "       'vokswagen rabbit', 'volkswagen 1131 deluxe sedan',\n",
       "       'volkswagen model 111', 'volkswagen type 3', 'volkswagen 411 (sw)',\n",
       "       'volkswagen super beetle', 'volkswagen dasher', 'vw dasher',\n",
       "       'vw rabbit', 'volkswagen rabbit', 'volkswagen rabbit custom',\n",
       "       'volvo 145e (sw)', 'volvo 144ea', 'volvo 244dl', 'volvo 245',\n",
       "       'volvo 264gl', 'volvo diesel', 'volvo 246'], dtype=object)"
      ]
     },
     "execution_count": 4,
     "metadata": {},
     "output_type": "execute_result"
    }
   ],
   "source": [
    "car_data['CarName'].unique()"
   ]
  },
  {
   "cell_type": "code",
   "execution_count": 5,
   "metadata": {
    "colab": {
     "base_uri": "https://localhost:8080/"
    },
    "id": "H6NTeH-qvDNa",
    "outputId": "22e54046-ac09-4239-a3bc-6e028aef24cd"
   },
   "outputs": [
    {
     "data": {
      "text/plain": [
       "(array([], dtype=int64), array([], dtype=int64))"
      ]
     },
     "execution_count": 5,
     "metadata": {},
     "output_type": "execute_result"
    }
   ],
   "source": [
    "#check if there are empty cells, if there are then row and column indexes will be returned where values are empty or missing\n",
    "np.where(car_data.applymap(lambda x: x ==''))"
   ]
  },
  {
   "cell_type": "code",
   "execution_count": 6,
   "metadata": {
    "colab": {
     "base_uri": "https://localhost:8080/"
    },
    "id": "euCqFI3Y0l6h",
    "outputId": "efbc7a1d-e172-4147-92d3-be20ab65e6a0"
   },
   "outputs": [
    {
     "data": {
      "text/plain": [
       "car_ID              False\n",
       "symboling           False\n",
       "CarName             False\n",
       "fueltype            False\n",
       "aspiration          False\n",
       "doornumber          False\n",
       "carbody             False\n",
       "drivewheel          False\n",
       "enginelocation      False\n",
       "wheelbase           False\n",
       "carlength           False\n",
       "carwidth            False\n",
       "carheight           False\n",
       "curbweight          False\n",
       "enginetype          False\n",
       "cylindernumber      False\n",
       "enginesize          False\n",
       "fuelsystem          False\n",
       "boreratio           False\n",
       "stroke              False\n",
       "compressionratio    False\n",
       "horsepower          False\n",
       "peakrpm             False\n",
       "citympg             False\n",
       "highwaympg          False\n",
       "price               False\n",
       "dtype: bool"
      ]
     },
     "execution_count": 6,
     "metadata": {},
     "output_type": "execute_result"
    }
   ],
   "source": [
    "car_data.isnull().any()"
   ]
  },
  {
   "cell_type": "code",
   "execution_count": 7,
   "metadata": {
    "id": "UwZgj7IIvXRm"
   },
   "outputs": [],
   "source": [
    "# correct the name error in audi 100 ls\n",
    "car_data.iloc[3,2] = 'audi 100ls'"
   ]
  },
  {
   "cell_type": "code",
   "execution_count": 8,
   "metadata": {
    "colab": {
     "base_uri": "https://localhost:8080/"
    },
    "id": "r1cCvWApvDNZ",
    "outputId": "4d480387-4142-46eb-fff8-6326e0c57795"
   },
   "outputs": [
    {
     "data": {
      "text/plain": [
       "car_ID                int64\n",
       "symboling             int64\n",
       "CarName              object\n",
       "fueltype             object\n",
       "aspiration           object\n",
       "doornumber           object\n",
       "carbody              object\n",
       "drivewheel           object\n",
       "enginelocation       object\n",
       "wheelbase           float64\n",
       "carlength           float64\n",
       "carwidth            float64\n",
       "carheight           float64\n",
       "curbweight            int64\n",
       "enginetype           object\n",
       "cylindernumber       object\n",
       "enginesize            int64\n",
       "fuelsystem           object\n",
       "boreratio           float64\n",
       "stroke              float64\n",
       "compressionratio    float64\n",
       "horsepower            int64\n",
       "peakrpm               int64\n",
       "citympg               int64\n",
       "highwaympg            int64\n",
       "price               float64\n",
       "dtype: object"
      ]
     },
     "execution_count": 8,
     "metadata": {},
     "output_type": "execute_result"
    }
   ],
   "source": [
    "car_data.dtypes"
   ]
  },
  {
   "cell_type": "code",
   "execution_count": 9,
   "metadata": {
    "id": "yCSHog6LFfdp"
   },
   "outputs": [],
   "source": [
    "car_data.drop(columns=['car_ID'], inplace = True)"
   ]
  },
  {
   "cell_type": "code",
   "execution_count": 10,
   "metadata": {
    "colab": {
     "base_uri": "https://localhost:8080/"
    },
    "id": "BN6vZOZr5EpP",
    "outputId": "0a6ce9f1-1def-4f5b-f4b7-d0880a0b914e"
   },
   "outputs": [
    {
     "data": {
      "text/plain": [
       "Index(['symboling', 'CarName', 'fueltype', 'aspiration', 'doornumber',\n",
       "       'carbody', 'drivewheel', 'enginelocation', 'wheelbase', 'carlength',\n",
       "       'carwidth', 'carheight', 'curbweight', 'enginetype', 'cylindernumber',\n",
       "       'enginesize', 'fuelsystem', 'boreratio', 'stroke', 'compressionratio',\n",
       "       'horsepower', 'peakrpm', 'citympg', 'highwaympg', 'price'],\n",
       "      dtype='object')"
      ]
     },
     "execution_count": 10,
     "metadata": {},
     "output_type": "execute_result"
    }
   ],
   "source": [
    "# get columns so that we can use the column names for onehot encoding of catagorical featrues in next cell\n",
    "car_data.columns"
   ]
  },
  {
   "cell_type": "code",
   "execution_count": 11,
   "metadata": {
    "id": "nqvKX-JyvDNa"
   },
   "outputs": [],
   "source": [
    "# onehot encode all catagorical columns\n",
    "final_car = pd.get_dummies(car_data, columns=['CarName','symboling','fueltype',\t'aspiration',\t'doornumber',\t'carbody',\t'drivewheel',\t'enginelocation',\t'enginetype',\t'cylindernumber',\t'fuelsystem'], drop_first = True)\n"
   ]
  },
  {
   "cell_type": "code",
   "execution_count": 15,
   "metadata": {
    "colab": {
     "base_uri": "https://localhost:8080/",
     "height": 282
    },
    "id": "VUW7m4p1C_Iz",
    "outputId": "f93de7f1-94a6-45b2-c548-7423bb04778c"
   },
   "outputs": [
    {
     "data": {
      "text/html": [
       "<div>\n",
       "<style scoped>\n",
       "    .dataframe tbody tr th:only-of-type {\n",
       "        vertical-align: middle;\n",
       "    }\n",
       "\n",
       "    .dataframe tbody tr th {\n",
       "        vertical-align: top;\n",
       "    }\n",
       "\n",
       "    .dataframe thead th {\n",
       "        text-align: right;\n",
       "    }\n",
       "</style>\n",
       "<table border=\"1\" class=\"dataframe\">\n",
       "  <thead>\n",
       "    <tr style=\"text-align: right;\">\n",
       "      <th></th>\n",
       "      <th>wheelbase</th>\n",
       "      <th>carlength</th>\n",
       "      <th>carwidth</th>\n",
       "      <th>carheight</th>\n",
       "      <th>curbweight</th>\n",
       "      <th>enginesize</th>\n",
       "      <th>boreratio</th>\n",
       "      <th>stroke</th>\n",
       "      <th>compressionratio</th>\n",
       "      <th>horsepower</th>\n",
       "      <th>...</th>\n",
       "      <th>cylindernumber_three</th>\n",
       "      <th>cylindernumber_twelve</th>\n",
       "      <th>cylindernumber_two</th>\n",
       "      <th>fuelsystem_2bbl</th>\n",
       "      <th>fuelsystem_4bbl</th>\n",
       "      <th>fuelsystem_idi</th>\n",
       "      <th>fuelsystem_mfi</th>\n",
       "      <th>fuelsystem_mpfi</th>\n",
       "      <th>fuelsystem_spdi</th>\n",
       "      <th>fuelsystem_spfi</th>\n",
       "    </tr>\n",
       "  </thead>\n",
       "  <tbody>\n",
       "    <tr>\n",
       "      <th>0</th>\n",
       "      <td>88.6</td>\n",
       "      <td>168.8</td>\n",
       "      <td>64.1</td>\n",
       "      <td>48.8</td>\n",
       "      <td>2548</td>\n",
       "      <td>130</td>\n",
       "      <td>3.47</td>\n",
       "      <td>2.68</td>\n",
       "      <td>9.0</td>\n",
       "      <td>111</td>\n",
       "      <td>...</td>\n",
       "      <td>0</td>\n",
       "      <td>0</td>\n",
       "      <td>0</td>\n",
       "      <td>0</td>\n",
       "      <td>0</td>\n",
       "      <td>0</td>\n",
       "      <td>0</td>\n",
       "      <td>1</td>\n",
       "      <td>0</td>\n",
       "      <td>0</td>\n",
       "    </tr>\n",
       "    <tr>\n",
       "      <th>1</th>\n",
       "      <td>88.6</td>\n",
       "      <td>168.8</td>\n",
       "      <td>64.1</td>\n",
       "      <td>48.8</td>\n",
       "      <td>2548</td>\n",
       "      <td>130</td>\n",
       "      <td>3.47</td>\n",
       "      <td>2.68</td>\n",
       "      <td>9.0</td>\n",
       "      <td>111</td>\n",
       "      <td>...</td>\n",
       "      <td>0</td>\n",
       "      <td>0</td>\n",
       "      <td>0</td>\n",
       "      <td>0</td>\n",
       "      <td>0</td>\n",
       "      <td>0</td>\n",
       "      <td>0</td>\n",
       "      <td>1</td>\n",
       "      <td>0</td>\n",
       "      <td>0</td>\n",
       "    </tr>\n",
       "    <tr>\n",
       "      <th>2</th>\n",
       "      <td>94.5</td>\n",
       "      <td>171.2</td>\n",
       "      <td>65.5</td>\n",
       "      <td>52.4</td>\n",
       "      <td>2823</td>\n",
       "      <td>152</td>\n",
       "      <td>2.68</td>\n",
       "      <td>3.47</td>\n",
       "      <td>9.0</td>\n",
       "      <td>154</td>\n",
       "      <td>...</td>\n",
       "      <td>0</td>\n",
       "      <td>0</td>\n",
       "      <td>0</td>\n",
       "      <td>0</td>\n",
       "      <td>0</td>\n",
       "      <td>0</td>\n",
       "      <td>0</td>\n",
       "      <td>1</td>\n",
       "      <td>0</td>\n",
       "      <td>0</td>\n",
       "    </tr>\n",
       "    <tr>\n",
       "      <th>3</th>\n",
       "      <td>99.8</td>\n",
       "      <td>176.6</td>\n",
       "      <td>66.2</td>\n",
       "      <td>54.3</td>\n",
       "      <td>2337</td>\n",
       "      <td>109</td>\n",
       "      <td>3.19</td>\n",
       "      <td>3.40</td>\n",
       "      <td>10.0</td>\n",
       "      <td>102</td>\n",
       "      <td>...</td>\n",
       "      <td>0</td>\n",
       "      <td>0</td>\n",
       "      <td>0</td>\n",
       "      <td>0</td>\n",
       "      <td>0</td>\n",
       "      <td>0</td>\n",
       "      <td>0</td>\n",
       "      <td>1</td>\n",
       "      <td>0</td>\n",
       "      <td>0</td>\n",
       "    </tr>\n",
       "    <tr>\n",
       "      <th>4</th>\n",
       "      <td>99.4</td>\n",
       "      <td>176.6</td>\n",
       "      <td>66.4</td>\n",
       "      <td>54.3</td>\n",
       "      <td>2824</td>\n",
       "      <td>136</td>\n",
       "      <td>3.19</td>\n",
       "      <td>3.40</td>\n",
       "      <td>8.0</td>\n",
       "      <td>115</td>\n",
       "      <td>...</td>\n",
       "      <td>0</td>\n",
       "      <td>0</td>\n",
       "      <td>0</td>\n",
       "      <td>0</td>\n",
       "      <td>0</td>\n",
       "      <td>0</td>\n",
       "      <td>0</td>\n",
       "      <td>1</td>\n",
       "      <td>0</td>\n",
       "      <td>0</td>\n",
       "    </tr>\n",
       "  </tbody>\n",
       "</table>\n",
       "<p>5 rows × 193 columns</p>\n",
       "</div>"
      ],
      "text/plain": [
       "   wheelbase  carlength  carwidth  carheight  curbweight  enginesize  \\\n",
       "0       88.6      168.8      64.1       48.8        2548         130   \n",
       "1       88.6      168.8      64.1       48.8        2548         130   \n",
       "2       94.5      171.2      65.5       52.4        2823         152   \n",
       "3       99.8      176.6      66.2       54.3        2337         109   \n",
       "4       99.4      176.6      66.4       54.3        2824         136   \n",
       "\n",
       "   boreratio  stroke  compressionratio  horsepower  ...  cylindernumber_three  \\\n",
       "0       3.47    2.68               9.0         111  ...                     0   \n",
       "1       3.47    2.68               9.0         111  ...                     0   \n",
       "2       2.68    3.47               9.0         154  ...                     0   \n",
       "3       3.19    3.40              10.0         102  ...                     0   \n",
       "4       3.19    3.40               8.0         115  ...                     0   \n",
       "\n",
       "   cylindernumber_twelve  cylindernumber_two  fuelsystem_2bbl  \\\n",
       "0                      0                   0                0   \n",
       "1                      0                   0                0   \n",
       "2                      0                   0                0   \n",
       "3                      0                   0                0   \n",
       "4                      0                   0                0   \n",
       "\n",
       "   fuelsystem_4bbl  fuelsystem_idi  fuelsystem_mfi  fuelsystem_mpfi  \\\n",
       "0                0               0               0                1   \n",
       "1                0               0               0                1   \n",
       "2                0               0               0                1   \n",
       "3                0               0               0                1   \n",
       "4                0               0               0                1   \n",
       "\n",
       "   fuelsystem_spdi  fuelsystem_spfi  \n",
       "0                0                0  \n",
       "1                0                0  \n",
       "2                0                0  \n",
       "3                0                0  \n",
       "4                0                0  \n",
       "\n",
       "[5 rows x 193 columns]"
      ]
     },
     "execution_count": 15,
     "metadata": {},
     "output_type": "execute_result"
    }
   ],
   "source": [
    "final_car.head()\n"
   ]
  },
  {
   "cell_type": "code",
   "execution_count": 10,
   "metadata": {
    "colab": {
     "base_uri": "https://localhost:8080/",
     "height": 372
    },
    "id": "hgIZc8J6UswW",
    "outputId": "17db7f3d-8ebf-46cf-cbba-b5b5c7557ca0"
   },
   "outputs": [
    {
     "data": {
      "text/html": [
       "<div>\n",
       "<style scoped>\n",
       "    .dataframe tbody tr th:only-of-type {\n",
       "        vertical-align: middle;\n",
       "    }\n",
       "\n",
       "    .dataframe tbody tr th {\n",
       "        vertical-align: top;\n",
       "    }\n",
       "\n",
       "    .dataframe thead th {\n",
       "        text-align: right;\n",
       "    }\n",
       "</style>\n",
       "<table border=\"1\" class=\"dataframe\">\n",
       "  <thead>\n",
       "    <tr style=\"text-align: right;\">\n",
       "      <th></th>\n",
       "      <th>wheelbase</th>\n",
       "      <th>carlength</th>\n",
       "      <th>carwidth</th>\n",
       "      <th>carheight</th>\n",
       "      <th>curbweight</th>\n",
       "      <th>enginesize</th>\n",
       "      <th>boreratio</th>\n",
       "      <th>stroke</th>\n",
       "      <th>compressionratio</th>\n",
       "      <th>horsepower</th>\n",
       "      <th>...</th>\n",
       "      <th>cylindernumber_three</th>\n",
       "      <th>cylindernumber_twelve</th>\n",
       "      <th>cylindernumber_two</th>\n",
       "      <th>fuelsystem_2bbl</th>\n",
       "      <th>fuelsystem_4bbl</th>\n",
       "      <th>fuelsystem_idi</th>\n",
       "      <th>fuelsystem_mfi</th>\n",
       "      <th>fuelsystem_mpfi</th>\n",
       "      <th>fuelsystem_spdi</th>\n",
       "      <th>fuelsystem_spfi</th>\n",
       "    </tr>\n",
       "  </thead>\n",
       "  <tbody>\n",
       "    <tr>\n",
       "      <th>count</th>\n",
       "      <td>205.000000</td>\n",
       "      <td>205.000000</td>\n",
       "      <td>205.000000</td>\n",
       "      <td>205.000000</td>\n",
       "      <td>205.000000</td>\n",
       "      <td>205.000000</td>\n",
       "      <td>205.000000</td>\n",
       "      <td>205.000000</td>\n",
       "      <td>205.000000</td>\n",
       "      <td>205.000000</td>\n",
       "      <td>...</td>\n",
       "      <td>205.000000</td>\n",
       "      <td>205.000000</td>\n",
       "      <td>205.000000</td>\n",
       "      <td>205.000000</td>\n",
       "      <td>205.000000</td>\n",
       "      <td>205.000000</td>\n",
       "      <td>205.000000</td>\n",
       "      <td>205.000000</td>\n",
       "      <td>205.000000</td>\n",
       "      <td>205.000000</td>\n",
       "    </tr>\n",
       "    <tr>\n",
       "      <th>mean</th>\n",
       "      <td>98.756585</td>\n",
       "      <td>174.049268</td>\n",
       "      <td>65.907805</td>\n",
       "      <td>53.724878</td>\n",
       "      <td>2555.565854</td>\n",
       "      <td>126.907317</td>\n",
       "      <td>3.329756</td>\n",
       "      <td>3.255415</td>\n",
       "      <td>10.142537</td>\n",
       "      <td>104.117073</td>\n",
       "      <td>...</td>\n",
       "      <td>0.004878</td>\n",
       "      <td>0.004878</td>\n",
       "      <td>0.019512</td>\n",
       "      <td>0.321951</td>\n",
       "      <td>0.014634</td>\n",
       "      <td>0.097561</td>\n",
       "      <td>0.004878</td>\n",
       "      <td>0.458537</td>\n",
       "      <td>0.043902</td>\n",
       "      <td>0.004878</td>\n",
       "    </tr>\n",
       "    <tr>\n",
       "      <th>std</th>\n",
       "      <td>6.021776</td>\n",
       "      <td>12.337289</td>\n",
       "      <td>2.145204</td>\n",
       "      <td>2.443522</td>\n",
       "      <td>520.680204</td>\n",
       "      <td>41.642693</td>\n",
       "      <td>0.270844</td>\n",
       "      <td>0.313597</td>\n",
       "      <td>3.972040</td>\n",
       "      <td>39.544167</td>\n",
       "      <td>...</td>\n",
       "      <td>0.069843</td>\n",
       "      <td>0.069843</td>\n",
       "      <td>0.138655</td>\n",
       "      <td>0.468368</td>\n",
       "      <td>0.120377</td>\n",
       "      <td>0.297446</td>\n",
       "      <td>0.069843</td>\n",
       "      <td>0.499498</td>\n",
       "      <td>0.205380</td>\n",
       "      <td>0.069843</td>\n",
       "    </tr>\n",
       "    <tr>\n",
       "      <th>min</th>\n",
       "      <td>86.600000</td>\n",
       "      <td>141.100000</td>\n",
       "      <td>60.300000</td>\n",
       "      <td>47.800000</td>\n",
       "      <td>1488.000000</td>\n",
       "      <td>61.000000</td>\n",
       "      <td>2.540000</td>\n",
       "      <td>2.070000</td>\n",
       "      <td>7.000000</td>\n",
       "      <td>48.000000</td>\n",
       "      <td>...</td>\n",
       "      <td>0.000000</td>\n",
       "      <td>0.000000</td>\n",
       "      <td>0.000000</td>\n",
       "      <td>0.000000</td>\n",
       "      <td>0.000000</td>\n",
       "      <td>0.000000</td>\n",
       "      <td>0.000000</td>\n",
       "      <td>0.000000</td>\n",
       "      <td>0.000000</td>\n",
       "      <td>0.000000</td>\n",
       "    </tr>\n",
       "    <tr>\n",
       "      <th>25%</th>\n",
       "      <td>94.500000</td>\n",
       "      <td>166.300000</td>\n",
       "      <td>64.100000</td>\n",
       "      <td>52.000000</td>\n",
       "      <td>2145.000000</td>\n",
       "      <td>97.000000</td>\n",
       "      <td>3.150000</td>\n",
       "      <td>3.110000</td>\n",
       "      <td>8.600000</td>\n",
       "      <td>70.000000</td>\n",
       "      <td>...</td>\n",
       "      <td>0.000000</td>\n",
       "      <td>0.000000</td>\n",
       "      <td>0.000000</td>\n",
       "      <td>0.000000</td>\n",
       "      <td>0.000000</td>\n",
       "      <td>0.000000</td>\n",
       "      <td>0.000000</td>\n",
       "      <td>0.000000</td>\n",
       "      <td>0.000000</td>\n",
       "      <td>0.000000</td>\n",
       "    </tr>\n",
       "    <tr>\n",
       "      <th>50%</th>\n",
       "      <td>97.000000</td>\n",
       "      <td>173.200000</td>\n",
       "      <td>65.500000</td>\n",
       "      <td>54.100000</td>\n",
       "      <td>2414.000000</td>\n",
       "      <td>120.000000</td>\n",
       "      <td>3.310000</td>\n",
       "      <td>3.290000</td>\n",
       "      <td>9.000000</td>\n",
       "      <td>95.000000</td>\n",
       "      <td>...</td>\n",
       "      <td>0.000000</td>\n",
       "      <td>0.000000</td>\n",
       "      <td>0.000000</td>\n",
       "      <td>0.000000</td>\n",
       "      <td>0.000000</td>\n",
       "      <td>0.000000</td>\n",
       "      <td>0.000000</td>\n",
       "      <td>0.000000</td>\n",
       "      <td>0.000000</td>\n",
       "      <td>0.000000</td>\n",
       "    </tr>\n",
       "    <tr>\n",
       "      <th>75%</th>\n",
       "      <td>102.400000</td>\n",
       "      <td>183.100000</td>\n",
       "      <td>66.900000</td>\n",
       "      <td>55.500000</td>\n",
       "      <td>2935.000000</td>\n",
       "      <td>141.000000</td>\n",
       "      <td>3.580000</td>\n",
       "      <td>3.410000</td>\n",
       "      <td>9.400000</td>\n",
       "      <td>116.000000</td>\n",
       "      <td>...</td>\n",
       "      <td>0.000000</td>\n",
       "      <td>0.000000</td>\n",
       "      <td>0.000000</td>\n",
       "      <td>1.000000</td>\n",
       "      <td>0.000000</td>\n",
       "      <td>0.000000</td>\n",
       "      <td>0.000000</td>\n",
       "      <td>1.000000</td>\n",
       "      <td>0.000000</td>\n",
       "      <td>0.000000</td>\n",
       "    </tr>\n",
       "    <tr>\n",
       "      <th>max</th>\n",
       "      <td>120.900000</td>\n",
       "      <td>208.100000</td>\n",
       "      <td>72.300000</td>\n",
       "      <td>59.800000</td>\n",
       "      <td>4066.000000</td>\n",
       "      <td>326.000000</td>\n",
       "      <td>3.940000</td>\n",
       "      <td>4.170000</td>\n",
       "      <td>23.000000</td>\n",
       "      <td>288.000000</td>\n",
       "      <td>...</td>\n",
       "      <td>1.000000</td>\n",
       "      <td>1.000000</td>\n",
       "      <td>1.000000</td>\n",
       "      <td>1.000000</td>\n",
       "      <td>1.000000</td>\n",
       "      <td>1.000000</td>\n",
       "      <td>1.000000</td>\n",
       "      <td>1.000000</td>\n",
       "      <td>1.000000</td>\n",
       "      <td>1.000000</td>\n",
       "    </tr>\n",
       "  </tbody>\n",
       "</table>\n",
       "<p>8 rows × 194 columns</p>\n",
       "</div>"
      ],
      "text/plain": [
       "        wheelbase   carlength    carwidth   carheight   curbweight  \\\n",
       "count  205.000000  205.000000  205.000000  205.000000   205.000000   \n",
       "mean    98.756585  174.049268   65.907805   53.724878  2555.565854   \n",
       "std      6.021776   12.337289    2.145204    2.443522   520.680204   \n",
       "min     86.600000  141.100000   60.300000   47.800000  1488.000000   \n",
       "25%     94.500000  166.300000   64.100000   52.000000  2145.000000   \n",
       "50%     97.000000  173.200000   65.500000   54.100000  2414.000000   \n",
       "75%    102.400000  183.100000   66.900000   55.500000  2935.000000   \n",
       "max    120.900000  208.100000   72.300000   59.800000  4066.000000   \n",
       "\n",
       "       enginesize   boreratio      stroke  compressionratio  horsepower  ...  \\\n",
       "count  205.000000  205.000000  205.000000        205.000000  205.000000  ...   \n",
       "mean   126.907317    3.329756    3.255415         10.142537  104.117073  ...   \n",
       "std     41.642693    0.270844    0.313597          3.972040   39.544167  ...   \n",
       "min     61.000000    2.540000    2.070000          7.000000   48.000000  ...   \n",
       "25%     97.000000    3.150000    3.110000          8.600000   70.000000  ...   \n",
       "50%    120.000000    3.310000    3.290000          9.000000   95.000000  ...   \n",
       "75%    141.000000    3.580000    3.410000          9.400000  116.000000  ...   \n",
       "max    326.000000    3.940000    4.170000         23.000000  288.000000  ...   \n",
       "\n",
       "       cylindernumber_three  cylindernumber_twelve  cylindernumber_two  \\\n",
       "count            205.000000             205.000000          205.000000   \n",
       "mean               0.004878               0.004878            0.019512   \n",
       "std                0.069843               0.069843            0.138655   \n",
       "min                0.000000               0.000000            0.000000   \n",
       "25%                0.000000               0.000000            0.000000   \n",
       "50%                0.000000               0.000000            0.000000   \n",
       "75%                0.000000               0.000000            0.000000   \n",
       "max                1.000000               1.000000            1.000000   \n",
       "\n",
       "       fuelsystem_2bbl  fuelsystem_4bbl  fuelsystem_idi  fuelsystem_mfi  \\\n",
       "count       205.000000       205.000000      205.000000      205.000000   \n",
       "mean          0.321951         0.014634        0.097561        0.004878   \n",
       "std           0.468368         0.120377        0.297446        0.069843   \n",
       "min           0.000000         0.000000        0.000000        0.000000   \n",
       "25%           0.000000         0.000000        0.000000        0.000000   \n",
       "50%           0.000000         0.000000        0.000000        0.000000   \n",
       "75%           1.000000         0.000000        0.000000        0.000000   \n",
       "max           1.000000         1.000000        1.000000        1.000000   \n",
       "\n",
       "       fuelsystem_mpfi  fuelsystem_spdi  fuelsystem_spfi  \n",
       "count       205.000000       205.000000       205.000000  \n",
       "mean          0.458537         0.043902         0.004878  \n",
       "std           0.499498         0.205380         0.069843  \n",
       "min           0.000000         0.000000         0.000000  \n",
       "25%           0.000000         0.000000         0.000000  \n",
       "50%           0.000000         0.000000         0.000000  \n",
       "75%           1.000000         0.000000         0.000000  \n",
       "max           1.000000         1.000000         1.000000  \n",
       "\n",
       "[8 rows x 194 columns]"
      ]
     },
     "execution_count": 10,
     "metadata": {},
     "output_type": "execute_result"
    }
   ],
   "source": [
    "#check statistical data to see abnormal values and outliers\n",
    "final_car.describe()"
   ]
  },
  {
   "cell_type": "code",
   "execution_count": 21,
   "metadata": {
    "id": "q_sikuUQAGD4"
   },
   "outputs": [],
   "source": [
    "#initialize a seed value so that each time we can get the same random number sequence, it will help us  as a team\n",
    "# working on a common project to work on the same random data. Each new seed will generate a particular sequnce\n",
    "#of random number. You can choose any seed value here of your choice\n",
    "# 0.72 means we have taken 72% values for training set as we will make 72/4 = 18 rows of k fold validation data, where\n",
    "# value of k will be 4 when we compile and fit our model for validation\n",
    "np.random.seed(11111)\n",
    "msk = np.random.rand(len(final_car)) < 0.72\n",
    "train_total = final_car[msk]\n",
    "test_total = final_car[~msk]\n"
   ]
  },
  {
   "cell_type": "code",
   "execution_count": 22,
   "metadata": {
    "colab": {
     "base_uri": "https://localhost:8080/"
    },
    "id": "JSjX5UckTu1_",
    "outputId": "178c3bdb-a34e-4502-b1e7-3508270965b2"
   },
   "outputs": [
    {
     "name": "stdout",
     "output_type": "stream",
     "text": [
      "141\n",
      "64\n"
     ]
    }
   ],
   "source": [
    "#check the length of our test and train datasets\n",
    "print(len(train_total))\n",
    "print(len(test_total))\n"
   ]
  },
  {
   "cell_type": "code",
   "execution_count": 23,
   "metadata": {
    "colab": {
     "base_uri": "https://localhost:8080/",
     "height": 432
    },
    "id": "a4njPsfOfLJP",
    "outputId": "e5f50d61-f5c1-4d7d-f40c-a7ee06beddef"
   },
   "outputs": [
    {
     "data": {
      "text/html": [
       "<div>\n",
       "<style scoped>\n",
       "    .dataframe tbody tr th:only-of-type {\n",
       "        vertical-align: middle;\n",
       "    }\n",
       "\n",
       "    .dataframe tbody tr th {\n",
       "        vertical-align: top;\n",
       "    }\n",
       "\n",
       "    .dataframe thead th {\n",
       "        text-align: right;\n",
       "    }\n",
       "</style>\n",
       "<table border=\"1\" class=\"dataframe\">\n",
       "  <thead>\n",
       "    <tr style=\"text-align: right;\">\n",
       "      <th></th>\n",
       "      <th>wheelbase</th>\n",
       "      <th>carlength</th>\n",
       "      <th>carwidth</th>\n",
       "      <th>carheight</th>\n",
       "      <th>curbweight</th>\n",
       "      <th>enginesize</th>\n",
       "      <th>boreratio</th>\n",
       "      <th>stroke</th>\n",
       "      <th>compressionratio</th>\n",
       "      <th>horsepower</th>\n",
       "      <th>...</th>\n",
       "      <th>cylindernumber_three</th>\n",
       "      <th>cylindernumber_twelve</th>\n",
       "      <th>cylindernumber_two</th>\n",
       "      <th>fuelsystem_2bbl</th>\n",
       "      <th>fuelsystem_4bbl</th>\n",
       "      <th>fuelsystem_idi</th>\n",
       "      <th>fuelsystem_mfi</th>\n",
       "      <th>fuelsystem_mpfi</th>\n",
       "      <th>fuelsystem_spdi</th>\n",
       "      <th>fuelsystem_spfi</th>\n",
       "    </tr>\n",
       "  </thead>\n",
       "  <tbody>\n",
       "    <tr>\n",
       "      <th>1</th>\n",
       "      <td>88.6</td>\n",
       "      <td>168.8</td>\n",
       "      <td>64.1</td>\n",
       "      <td>48.8</td>\n",
       "      <td>2548</td>\n",
       "      <td>130</td>\n",
       "      <td>3.47</td>\n",
       "      <td>2.68</td>\n",
       "      <td>9.0</td>\n",
       "      <td>111</td>\n",
       "      <td>...</td>\n",
       "      <td>0</td>\n",
       "      <td>0</td>\n",
       "      <td>0</td>\n",
       "      <td>0</td>\n",
       "      <td>0</td>\n",
       "      <td>0</td>\n",
       "      <td>0</td>\n",
       "      <td>1</td>\n",
       "      <td>0</td>\n",
       "      <td>0</td>\n",
       "    </tr>\n",
       "    <tr>\n",
       "      <th>2</th>\n",
       "      <td>94.5</td>\n",
       "      <td>171.2</td>\n",
       "      <td>65.5</td>\n",
       "      <td>52.4</td>\n",
       "      <td>2823</td>\n",
       "      <td>152</td>\n",
       "      <td>2.68</td>\n",
       "      <td>3.47</td>\n",
       "      <td>9.0</td>\n",
       "      <td>154</td>\n",
       "      <td>...</td>\n",
       "      <td>0</td>\n",
       "      <td>0</td>\n",
       "      <td>0</td>\n",
       "      <td>0</td>\n",
       "      <td>0</td>\n",
       "      <td>0</td>\n",
       "      <td>0</td>\n",
       "      <td>1</td>\n",
       "      <td>0</td>\n",
       "      <td>0</td>\n",
       "    </tr>\n",
       "    <tr>\n",
       "      <th>3</th>\n",
       "      <td>99.8</td>\n",
       "      <td>176.6</td>\n",
       "      <td>66.2</td>\n",
       "      <td>54.3</td>\n",
       "      <td>2337</td>\n",
       "      <td>109</td>\n",
       "      <td>3.19</td>\n",
       "      <td>3.40</td>\n",
       "      <td>10.0</td>\n",
       "      <td>102</td>\n",
       "      <td>...</td>\n",
       "      <td>0</td>\n",
       "      <td>0</td>\n",
       "      <td>0</td>\n",
       "      <td>0</td>\n",
       "      <td>0</td>\n",
       "      <td>0</td>\n",
       "      <td>0</td>\n",
       "      <td>1</td>\n",
       "      <td>0</td>\n",
       "      <td>0</td>\n",
       "    </tr>\n",
       "    <tr>\n",
       "      <th>4</th>\n",
       "      <td>99.4</td>\n",
       "      <td>176.6</td>\n",
       "      <td>66.4</td>\n",
       "      <td>54.3</td>\n",
       "      <td>2824</td>\n",
       "      <td>136</td>\n",
       "      <td>3.19</td>\n",
       "      <td>3.40</td>\n",
       "      <td>8.0</td>\n",
       "      <td>115</td>\n",
       "      <td>...</td>\n",
       "      <td>0</td>\n",
       "      <td>0</td>\n",
       "      <td>0</td>\n",
       "      <td>0</td>\n",
       "      <td>0</td>\n",
       "      <td>0</td>\n",
       "      <td>0</td>\n",
       "      <td>1</td>\n",
       "      <td>0</td>\n",
       "      <td>0</td>\n",
       "    </tr>\n",
       "    <tr>\n",
       "      <th>5</th>\n",
       "      <td>99.8</td>\n",
       "      <td>177.3</td>\n",
       "      <td>66.3</td>\n",
       "      <td>53.1</td>\n",
       "      <td>2507</td>\n",
       "      <td>136</td>\n",
       "      <td>3.19</td>\n",
       "      <td>3.40</td>\n",
       "      <td>8.5</td>\n",
       "      <td>110</td>\n",
       "      <td>...</td>\n",
       "      <td>0</td>\n",
       "      <td>0</td>\n",
       "      <td>0</td>\n",
       "      <td>0</td>\n",
       "      <td>0</td>\n",
       "      <td>0</td>\n",
       "      <td>0</td>\n",
       "      <td>1</td>\n",
       "      <td>0</td>\n",
       "      <td>0</td>\n",
       "    </tr>\n",
       "    <tr>\n",
       "      <th>6</th>\n",
       "      <td>105.8</td>\n",
       "      <td>192.7</td>\n",
       "      <td>71.4</td>\n",
       "      <td>55.7</td>\n",
       "      <td>2844</td>\n",
       "      <td>136</td>\n",
       "      <td>3.19</td>\n",
       "      <td>3.40</td>\n",
       "      <td>8.5</td>\n",
       "      <td>110</td>\n",
       "      <td>...</td>\n",
       "      <td>0</td>\n",
       "      <td>0</td>\n",
       "      <td>0</td>\n",
       "      <td>0</td>\n",
       "      <td>0</td>\n",
       "      <td>0</td>\n",
       "      <td>0</td>\n",
       "      <td>1</td>\n",
       "      <td>0</td>\n",
       "      <td>0</td>\n",
       "    </tr>\n",
       "    <tr>\n",
       "      <th>7</th>\n",
       "      <td>105.8</td>\n",
       "      <td>192.7</td>\n",
       "      <td>71.4</td>\n",
       "      <td>55.7</td>\n",
       "      <td>2954</td>\n",
       "      <td>136</td>\n",
       "      <td>3.19</td>\n",
       "      <td>3.40</td>\n",
       "      <td>8.5</td>\n",
       "      <td>110</td>\n",
       "      <td>...</td>\n",
       "      <td>0</td>\n",
       "      <td>0</td>\n",
       "      <td>0</td>\n",
       "      <td>0</td>\n",
       "      <td>0</td>\n",
       "      <td>0</td>\n",
       "      <td>0</td>\n",
       "      <td>1</td>\n",
       "      <td>0</td>\n",
       "      <td>0</td>\n",
       "    </tr>\n",
       "    <tr>\n",
       "      <th>8</th>\n",
       "      <td>105.8</td>\n",
       "      <td>192.7</td>\n",
       "      <td>71.4</td>\n",
       "      <td>55.9</td>\n",
       "      <td>3086</td>\n",
       "      <td>131</td>\n",
       "      <td>3.13</td>\n",
       "      <td>3.40</td>\n",
       "      <td>8.3</td>\n",
       "      <td>140</td>\n",
       "      <td>...</td>\n",
       "      <td>0</td>\n",
       "      <td>0</td>\n",
       "      <td>0</td>\n",
       "      <td>0</td>\n",
       "      <td>0</td>\n",
       "      <td>0</td>\n",
       "      <td>0</td>\n",
       "      <td>1</td>\n",
       "      <td>0</td>\n",
       "      <td>0</td>\n",
       "    </tr>\n",
       "    <tr>\n",
       "      <th>9</th>\n",
       "      <td>99.5</td>\n",
       "      <td>178.2</td>\n",
       "      <td>67.9</td>\n",
       "      <td>52.0</td>\n",
       "      <td>3053</td>\n",
       "      <td>131</td>\n",
       "      <td>3.13</td>\n",
       "      <td>3.40</td>\n",
       "      <td>7.0</td>\n",
       "      <td>160</td>\n",
       "      <td>...</td>\n",
       "      <td>0</td>\n",
       "      <td>0</td>\n",
       "      <td>0</td>\n",
       "      <td>0</td>\n",
       "      <td>0</td>\n",
       "      <td>0</td>\n",
       "      <td>0</td>\n",
       "      <td>1</td>\n",
       "      <td>0</td>\n",
       "      <td>0</td>\n",
       "    </tr>\n",
       "    <tr>\n",
       "      <th>11</th>\n",
       "      <td>101.2</td>\n",
       "      <td>176.8</td>\n",
       "      <td>64.8</td>\n",
       "      <td>54.3</td>\n",
       "      <td>2395</td>\n",
       "      <td>108</td>\n",
       "      <td>3.50</td>\n",
       "      <td>2.80</td>\n",
       "      <td>8.8</td>\n",
       "      <td>101</td>\n",
       "      <td>...</td>\n",
       "      <td>0</td>\n",
       "      <td>0</td>\n",
       "      <td>0</td>\n",
       "      <td>0</td>\n",
       "      <td>0</td>\n",
       "      <td>0</td>\n",
       "      <td>0</td>\n",
       "      <td>1</td>\n",
       "      <td>0</td>\n",
       "      <td>0</td>\n",
       "    </tr>\n",
       "  </tbody>\n",
       "</table>\n",
       "<p>10 rows × 193 columns</p>\n",
       "</div>"
      ],
      "text/plain": [
       "    wheelbase  carlength  carwidth  carheight  curbweight  enginesize  \\\n",
       "1        88.6      168.8      64.1       48.8        2548         130   \n",
       "2        94.5      171.2      65.5       52.4        2823         152   \n",
       "3        99.8      176.6      66.2       54.3        2337         109   \n",
       "4        99.4      176.6      66.4       54.3        2824         136   \n",
       "5        99.8      177.3      66.3       53.1        2507         136   \n",
       "6       105.8      192.7      71.4       55.7        2844         136   \n",
       "7       105.8      192.7      71.4       55.7        2954         136   \n",
       "8       105.8      192.7      71.4       55.9        3086         131   \n",
       "9        99.5      178.2      67.9       52.0        3053         131   \n",
       "11      101.2      176.8      64.8       54.3        2395         108   \n",
       "\n",
       "    boreratio  stroke  compressionratio  horsepower  ...  \\\n",
       "1        3.47    2.68               9.0         111  ...   \n",
       "2        2.68    3.47               9.0         154  ...   \n",
       "3        3.19    3.40              10.0         102  ...   \n",
       "4        3.19    3.40               8.0         115  ...   \n",
       "5        3.19    3.40               8.5         110  ...   \n",
       "6        3.19    3.40               8.5         110  ...   \n",
       "7        3.19    3.40               8.5         110  ...   \n",
       "8        3.13    3.40               8.3         140  ...   \n",
       "9        3.13    3.40               7.0         160  ...   \n",
       "11       3.50    2.80               8.8         101  ...   \n",
       "\n",
       "    cylindernumber_three  cylindernumber_twelve  cylindernumber_two  \\\n",
       "1                      0                      0                   0   \n",
       "2                      0                      0                   0   \n",
       "3                      0                      0                   0   \n",
       "4                      0                      0                   0   \n",
       "5                      0                      0                   0   \n",
       "6                      0                      0                   0   \n",
       "7                      0                      0                   0   \n",
       "8                      0                      0                   0   \n",
       "9                      0                      0                   0   \n",
       "11                     0                      0                   0   \n",
       "\n",
       "    fuelsystem_2bbl  fuelsystem_4bbl  fuelsystem_idi  fuelsystem_mfi  \\\n",
       "1                 0                0               0               0   \n",
       "2                 0                0               0               0   \n",
       "3                 0                0               0               0   \n",
       "4                 0                0               0               0   \n",
       "5                 0                0               0               0   \n",
       "6                 0                0               0               0   \n",
       "7                 0                0               0               0   \n",
       "8                 0                0               0               0   \n",
       "9                 0                0               0               0   \n",
       "11                0                0               0               0   \n",
       "\n",
       "    fuelsystem_mpfi  fuelsystem_spdi  fuelsystem_spfi  \n",
       "1                 1                0                0  \n",
       "2                 1                0                0  \n",
       "3                 1                0                0  \n",
       "4                 1                0                0  \n",
       "5                 1                0                0  \n",
       "6                 1                0                0  \n",
       "7                 1                0                0  \n",
       "8                 1                0                0  \n",
       "9                 1                0                0  \n",
       "11                1                0                0  \n",
       "\n",
       "[10 rows x 193 columns]"
      ]
     },
     "execution_count": 23,
     "metadata": {},
     "output_type": "execute_result"
    }
   ],
   "source": [
    "train_total.head(10)"
   ]
  },
  {
   "cell_type": "code",
   "execution_count": 24,
   "metadata": {
    "colab": {
     "base_uri": "https://localhost:8080/",
     "height": 372
    },
    "id": "BeYOhn1Eiams",
    "outputId": "692801ab-7caa-487d-970a-ce41e76e3563"
   },
   "outputs": [
    {
     "data": {
      "text/html": [
       "<div>\n",
       "<style scoped>\n",
       "    .dataframe tbody tr th:only-of-type {\n",
       "        vertical-align: middle;\n",
       "    }\n",
       "\n",
       "    .dataframe tbody tr th {\n",
       "        vertical-align: top;\n",
       "    }\n",
       "\n",
       "    .dataframe thead th {\n",
       "        text-align: right;\n",
       "    }\n",
       "</style>\n",
       "<table border=\"1\" class=\"dataframe\">\n",
       "  <thead>\n",
       "    <tr style=\"text-align: right;\">\n",
       "      <th></th>\n",
       "      <th>wheelbase</th>\n",
       "      <th>carlength</th>\n",
       "      <th>carwidth</th>\n",
       "      <th>carheight</th>\n",
       "      <th>curbweight</th>\n",
       "      <th>enginesize</th>\n",
       "      <th>boreratio</th>\n",
       "      <th>stroke</th>\n",
       "      <th>compressionratio</th>\n",
       "      <th>horsepower</th>\n",
       "      <th>...</th>\n",
       "      <th>cylindernumber_three</th>\n",
       "      <th>cylindernumber_twelve</th>\n",
       "      <th>cylindernumber_two</th>\n",
       "      <th>fuelsystem_2bbl</th>\n",
       "      <th>fuelsystem_4bbl</th>\n",
       "      <th>fuelsystem_idi</th>\n",
       "      <th>fuelsystem_mfi</th>\n",
       "      <th>fuelsystem_mpfi</th>\n",
       "      <th>fuelsystem_spdi</th>\n",
       "      <th>fuelsystem_spfi</th>\n",
       "    </tr>\n",
       "  </thead>\n",
       "  <tbody>\n",
       "    <tr>\n",
       "      <th>count</th>\n",
       "      <td>141.000000</td>\n",
       "      <td>141.000000</td>\n",
       "      <td>141.000000</td>\n",
       "      <td>141.000000</td>\n",
       "      <td>141.000000</td>\n",
       "      <td>141.000000</td>\n",
       "      <td>141.000000</td>\n",
       "      <td>141.000000</td>\n",
       "      <td>141.000000</td>\n",
       "      <td>141.000000</td>\n",
       "      <td>...</td>\n",
       "      <td>141.0</td>\n",
       "      <td>141.000000</td>\n",
       "      <td>141.000000</td>\n",
       "      <td>141.000000</td>\n",
       "      <td>141.000000</td>\n",
       "      <td>141.000000</td>\n",
       "      <td>141.000000</td>\n",
       "      <td>141.000000</td>\n",
       "      <td>141.000000</td>\n",
       "      <td>141.000000</td>\n",
       "    </tr>\n",
       "    <tr>\n",
       "      <th>mean</th>\n",
       "      <td>98.692199</td>\n",
       "      <td>173.658156</td>\n",
       "      <td>65.875887</td>\n",
       "      <td>53.648227</td>\n",
       "      <td>2546.787234</td>\n",
       "      <td>125.666667</td>\n",
       "      <td>3.324184</td>\n",
       "      <td>3.256809</td>\n",
       "      <td>10.070355</td>\n",
       "      <td>103.702128</td>\n",
       "      <td>...</td>\n",
       "      <td>0.0</td>\n",
       "      <td>0.007092</td>\n",
       "      <td>0.028369</td>\n",
       "      <td>0.326241</td>\n",
       "      <td>0.021277</td>\n",
       "      <td>0.092199</td>\n",
       "      <td>0.007092</td>\n",
       "      <td>0.453901</td>\n",
       "      <td>0.035461</td>\n",
       "      <td>0.007092</td>\n",
       "    </tr>\n",
       "    <tr>\n",
       "      <th>std</th>\n",
       "      <td>6.005665</td>\n",
       "      <td>12.320089</td>\n",
       "      <td>2.188604</td>\n",
       "      <td>2.508204</td>\n",
       "      <td>529.769152</td>\n",
       "      <td>41.733451</td>\n",
       "      <td>0.266123</td>\n",
       "      <td>0.296387</td>\n",
       "      <td>3.868579</td>\n",
       "      <td>38.424275</td>\n",
       "      <td>...</td>\n",
       "      <td>0.0</td>\n",
       "      <td>0.084215</td>\n",
       "      <td>0.166616</td>\n",
       "      <td>0.470508</td>\n",
       "      <td>0.144819</td>\n",
       "      <td>0.290337</td>\n",
       "      <td>0.084215</td>\n",
       "      <td>0.499645</td>\n",
       "      <td>0.185601</td>\n",
       "      <td>0.084215</td>\n",
       "    </tr>\n",
       "    <tr>\n",
       "      <th>min</th>\n",
       "      <td>86.600000</td>\n",
       "      <td>144.600000</td>\n",
       "      <td>61.800000</td>\n",
       "      <td>47.800000</td>\n",
       "      <td>1713.000000</td>\n",
       "      <td>70.000000</td>\n",
       "      <td>2.680000</td>\n",
       "      <td>2.190000</td>\n",
       "      <td>7.000000</td>\n",
       "      <td>55.000000</td>\n",
       "      <td>...</td>\n",
       "      <td>0.0</td>\n",
       "      <td>0.000000</td>\n",
       "      <td>0.000000</td>\n",
       "      <td>0.000000</td>\n",
       "      <td>0.000000</td>\n",
       "      <td>0.000000</td>\n",
       "      <td>0.000000</td>\n",
       "      <td>0.000000</td>\n",
       "      <td>0.000000</td>\n",
       "      <td>0.000000</td>\n",
       "    </tr>\n",
       "    <tr>\n",
       "      <th>25%</th>\n",
       "      <td>94.500000</td>\n",
       "      <td>166.300000</td>\n",
       "      <td>64.000000</td>\n",
       "      <td>51.600000</td>\n",
       "      <td>2128.000000</td>\n",
       "      <td>97.000000</td>\n",
       "      <td>3.150000</td>\n",
       "      <td>3.150000</td>\n",
       "      <td>8.500000</td>\n",
       "      <td>70.000000</td>\n",
       "      <td>...</td>\n",
       "      <td>0.0</td>\n",
       "      <td>0.000000</td>\n",
       "      <td>0.000000</td>\n",
       "      <td>0.000000</td>\n",
       "      <td>0.000000</td>\n",
       "      <td>0.000000</td>\n",
       "      <td>0.000000</td>\n",
       "      <td>0.000000</td>\n",
       "      <td>0.000000</td>\n",
       "      <td>0.000000</td>\n",
       "    </tr>\n",
       "    <tr>\n",
       "      <th>50%</th>\n",
       "      <td>96.500000</td>\n",
       "      <td>172.400000</td>\n",
       "      <td>65.400000</td>\n",
       "      <td>53.900000</td>\n",
       "      <td>2410.000000</td>\n",
       "      <td>110.000000</td>\n",
       "      <td>3.310000</td>\n",
       "      <td>3.290000</td>\n",
       "      <td>9.000000</td>\n",
       "      <td>95.000000</td>\n",
       "      <td>...</td>\n",
       "      <td>0.0</td>\n",
       "      <td>0.000000</td>\n",
       "      <td>0.000000</td>\n",
       "      <td>0.000000</td>\n",
       "      <td>0.000000</td>\n",
       "      <td>0.000000</td>\n",
       "      <td>0.000000</td>\n",
       "      <td>0.000000</td>\n",
       "      <td>0.000000</td>\n",
       "      <td>0.000000</td>\n",
       "    </tr>\n",
       "    <tr>\n",
       "      <th>75%</th>\n",
       "      <td>102.400000</td>\n",
       "      <td>180.300000</td>\n",
       "      <td>66.600000</td>\n",
       "      <td>55.500000</td>\n",
       "      <td>2952.000000</td>\n",
       "      <td>141.000000</td>\n",
       "      <td>3.580000</td>\n",
       "      <td>3.400000</td>\n",
       "      <td>9.400000</td>\n",
       "      <td>116.000000</td>\n",
       "      <td>...</td>\n",
       "      <td>0.0</td>\n",
       "      <td>0.000000</td>\n",
       "      <td>0.000000</td>\n",
       "      <td>1.000000</td>\n",
       "      <td>0.000000</td>\n",
       "      <td>0.000000</td>\n",
       "      <td>0.000000</td>\n",
       "      <td>1.000000</td>\n",
       "      <td>0.000000</td>\n",
       "      <td>0.000000</td>\n",
       "    </tr>\n",
       "    <tr>\n",
       "      <th>max</th>\n",
       "      <td>115.600000</td>\n",
       "      <td>202.600000</td>\n",
       "      <td>72.000000</td>\n",
       "      <td>59.800000</td>\n",
       "      <td>4066.000000</td>\n",
       "      <td>326.000000</td>\n",
       "      <td>3.940000</td>\n",
       "      <td>4.170000</td>\n",
       "      <td>23.000000</td>\n",
       "      <td>262.000000</td>\n",
       "      <td>...</td>\n",
       "      <td>0.0</td>\n",
       "      <td>1.000000</td>\n",
       "      <td>1.000000</td>\n",
       "      <td>1.000000</td>\n",
       "      <td>1.000000</td>\n",
       "      <td>1.000000</td>\n",
       "      <td>1.000000</td>\n",
       "      <td>1.000000</td>\n",
       "      <td>1.000000</td>\n",
       "      <td>1.000000</td>\n",
       "    </tr>\n",
       "  </tbody>\n",
       "</table>\n",
       "<p>8 rows × 193 columns</p>\n",
       "</div>"
      ],
      "text/plain": [
       "        wheelbase   carlength    carwidth   carheight   curbweight  \\\n",
       "count  141.000000  141.000000  141.000000  141.000000   141.000000   \n",
       "mean    98.692199  173.658156   65.875887   53.648227  2546.787234   \n",
       "std      6.005665   12.320089    2.188604    2.508204   529.769152   \n",
       "min     86.600000  144.600000   61.800000   47.800000  1713.000000   \n",
       "25%     94.500000  166.300000   64.000000   51.600000  2128.000000   \n",
       "50%     96.500000  172.400000   65.400000   53.900000  2410.000000   \n",
       "75%    102.400000  180.300000   66.600000   55.500000  2952.000000   \n",
       "max    115.600000  202.600000   72.000000   59.800000  4066.000000   \n",
       "\n",
       "       enginesize   boreratio      stroke  compressionratio  horsepower  ...  \\\n",
       "count  141.000000  141.000000  141.000000        141.000000  141.000000  ...   \n",
       "mean   125.666667    3.324184    3.256809         10.070355  103.702128  ...   \n",
       "std     41.733451    0.266123    0.296387          3.868579   38.424275  ...   \n",
       "min     70.000000    2.680000    2.190000          7.000000   55.000000  ...   \n",
       "25%     97.000000    3.150000    3.150000          8.500000   70.000000  ...   \n",
       "50%    110.000000    3.310000    3.290000          9.000000   95.000000  ...   \n",
       "75%    141.000000    3.580000    3.400000          9.400000  116.000000  ...   \n",
       "max    326.000000    3.940000    4.170000         23.000000  262.000000  ...   \n",
       "\n",
       "       cylindernumber_three  cylindernumber_twelve  cylindernumber_two  \\\n",
       "count                 141.0             141.000000          141.000000   \n",
       "mean                    0.0               0.007092            0.028369   \n",
       "std                     0.0               0.084215            0.166616   \n",
       "min                     0.0               0.000000            0.000000   \n",
       "25%                     0.0               0.000000            0.000000   \n",
       "50%                     0.0               0.000000            0.000000   \n",
       "75%                     0.0               0.000000            0.000000   \n",
       "max                     0.0               1.000000            1.000000   \n",
       "\n",
       "       fuelsystem_2bbl  fuelsystem_4bbl  fuelsystem_idi  fuelsystem_mfi  \\\n",
       "count       141.000000       141.000000      141.000000      141.000000   \n",
       "mean          0.326241         0.021277        0.092199        0.007092   \n",
       "std           0.470508         0.144819        0.290337        0.084215   \n",
       "min           0.000000         0.000000        0.000000        0.000000   \n",
       "25%           0.000000         0.000000        0.000000        0.000000   \n",
       "50%           0.000000         0.000000        0.000000        0.000000   \n",
       "75%           1.000000         0.000000        0.000000        0.000000   \n",
       "max           1.000000         1.000000        1.000000        1.000000   \n",
       "\n",
       "       fuelsystem_mpfi  fuelsystem_spdi  fuelsystem_spfi  \n",
       "count       141.000000       141.000000       141.000000  \n",
       "mean          0.453901         0.035461         0.007092  \n",
       "std           0.499645         0.185601         0.084215  \n",
       "min           0.000000         0.000000         0.000000  \n",
       "25%           0.000000         0.000000         0.000000  \n",
       "50%           0.000000         0.000000         0.000000  \n",
       "75%           1.000000         0.000000         0.000000  \n",
       "max           1.000000         1.000000         1.000000  \n",
       "\n",
       "[8 rows x 193 columns]"
      ]
     },
     "execution_count": 24,
     "metadata": {},
     "output_type": "execute_result"
    }
   ],
   "source": [
    "# check statistical overview if there are some outliers and abnormal values\n",
    "train_total.describe()"
   ]
  },
  {
   "cell_type": "code",
   "execution_count": 25,
   "metadata": {
    "colab": {
     "base_uri": "https://localhost:8080/"
    },
    "id": "Iwv0k5MXkjiU",
    "outputId": "88cc1ac0-d8d8-480c-cb7c-87e3eae13574"
   },
   "outputs": [
    {
     "name": "stdout",
     "output_type": "stream",
     "text": [
      "wheelbase          float64\n",
      "carlength          float64\n",
      "carwidth           float64\n",
      "carheight          float64\n",
      "curbweight           int64\n",
      "                    ...   \n",
      "fuelsystem_idi       uint8\n",
      "fuelsystem_mfi       uint8\n",
      "fuelsystem_mpfi      uint8\n",
      "fuelsystem_spdi      uint8\n",
      "fuelsystem_spfi      uint8\n",
      "Length: 193, dtype: object\n"
     ]
    }
   ],
   "source": [
    "print(train_total.dtypes)"
   ]
  },
  {
   "cell_type": "code",
   "execution_count": 26,
   "metadata": {
    "id": "UMVbWuxTzEUh"
   },
   "outputs": [],
   "source": [
    "# get our price labels and store in another dataframe\n",
    "train_label = train_total.loc[:,'price']\n",
    "test_label = test_total.loc[:,'price']"
   ]
  },
  {
   "cell_type": "code",
   "execution_count": 27,
   "metadata": {
    "colab": {
     "base_uri": "https://localhost:8080/"
    },
    "id": "ok93gWC0V7RC",
    "outputId": "97581347-076b-4283-b1e3-61786533265c"
   },
   "outputs": [
    {
     "data": {
      "text/plain": [
       "1      16500.0\n",
       "2      16500.0\n",
       "3      13950.0\n",
       "4      17450.0\n",
       "5      15250.0\n",
       "        ...   \n",
       "200    16845.0\n",
       "201    19045.0\n",
       "202    21485.0\n",
       "203    22470.0\n",
       "204    22625.0\n",
       "Name: price, Length: 141, dtype: float64"
      ]
     },
     "execution_count": 27,
     "metadata": {},
     "output_type": "execute_result"
    }
   ],
   "source": [
    "train_label"
   ]
  },
  {
   "cell_type": "code",
   "execution_count": 28,
   "metadata": {
    "id": "0pj0hGliz6ld"
   },
   "outputs": [],
   "source": [
    "# drop price from oroginal training and test dataset , as price is not needed there\n",
    "test_data= test_total.drop(columns = ['price'])\n",
    "train_data= train_total.drop(columns = ['price'])"
   ]
  },
  {
   "cell_type": "code",
   "execution_count": 29,
   "metadata": {
    "colab": {
     "base_uri": "https://localhost:8080/"
    },
    "id": "7uw8yz0e1RjS",
    "outputId": "98132e77-f91e-454e-d555-07d8c2c546a2"
   },
   "outputs": [
    {
     "data": {
      "text/plain": [
       "(141, 192)"
      ]
     },
     "execution_count": 29,
     "metadata": {},
     "output_type": "execute_result"
    }
   ],
   "source": [
    "train_data.shape"
   ]
  },
  {
   "cell_type": "code",
   "execution_count": 18,
   "metadata": {
    "colab": {
     "base_uri": "https://localhost:8080/",
     "height": 462
    },
    "id": "ic0-eZgDZjsV",
    "outputId": "637fe0ec-53e7-4298-96d8-33417af3e19e"
   },
   "outputs": [
    {
     "data": {
      "text/html": [
       "<div>\n",
       "<style scoped>\n",
       "    .dataframe tbody tr th:only-of-type {\n",
       "        vertical-align: middle;\n",
       "    }\n",
       "\n",
       "    .dataframe tbody tr th {\n",
       "        vertical-align: top;\n",
       "    }\n",
       "\n",
       "    .dataframe thead th {\n",
       "        text-align: right;\n",
       "    }\n",
       "</style>\n",
       "<table border=\"1\" class=\"dataframe\">\n",
       "  <thead>\n",
       "    <tr style=\"text-align: right;\">\n",
       "      <th></th>\n",
       "      <th>wheelbase</th>\n",
       "      <th>carlength</th>\n",
       "      <th>carwidth</th>\n",
       "      <th>carheight</th>\n",
       "      <th>curbweight</th>\n",
       "      <th>enginesize</th>\n",
       "      <th>boreratio</th>\n",
       "      <th>stroke</th>\n",
       "      <th>compressionratio</th>\n",
       "      <th>horsepower</th>\n",
       "      <th>...</th>\n",
       "      <th>cylindernumber_three</th>\n",
       "      <th>cylindernumber_twelve</th>\n",
       "      <th>cylindernumber_two</th>\n",
       "      <th>fuelsystem_2bbl</th>\n",
       "      <th>fuelsystem_4bbl</th>\n",
       "      <th>fuelsystem_idi</th>\n",
       "      <th>fuelsystem_mfi</th>\n",
       "      <th>fuelsystem_mpfi</th>\n",
       "      <th>fuelsystem_spdi</th>\n",
       "      <th>fuelsystem_spfi</th>\n",
       "    </tr>\n",
       "  </thead>\n",
       "  <tbody>\n",
       "    <tr>\n",
       "      <th>1</th>\n",
       "      <td>88.6</td>\n",
       "      <td>168.8</td>\n",
       "      <td>64.1</td>\n",
       "      <td>48.8</td>\n",
       "      <td>2548</td>\n",
       "      <td>130</td>\n",
       "      <td>3.47</td>\n",
       "      <td>2.68</td>\n",
       "      <td>9.0</td>\n",
       "      <td>111</td>\n",
       "      <td>...</td>\n",
       "      <td>0</td>\n",
       "      <td>0</td>\n",
       "      <td>0</td>\n",
       "      <td>0</td>\n",
       "      <td>0</td>\n",
       "      <td>0</td>\n",
       "      <td>0</td>\n",
       "      <td>1</td>\n",
       "      <td>0</td>\n",
       "      <td>0</td>\n",
       "    </tr>\n",
       "    <tr>\n",
       "      <th>2</th>\n",
       "      <td>94.5</td>\n",
       "      <td>171.2</td>\n",
       "      <td>65.5</td>\n",
       "      <td>52.4</td>\n",
       "      <td>2823</td>\n",
       "      <td>152</td>\n",
       "      <td>2.68</td>\n",
       "      <td>3.47</td>\n",
       "      <td>9.0</td>\n",
       "      <td>154</td>\n",
       "      <td>...</td>\n",
       "      <td>0</td>\n",
       "      <td>0</td>\n",
       "      <td>0</td>\n",
       "      <td>0</td>\n",
       "      <td>0</td>\n",
       "      <td>0</td>\n",
       "      <td>0</td>\n",
       "      <td>1</td>\n",
       "      <td>0</td>\n",
       "      <td>0</td>\n",
       "    </tr>\n",
       "    <tr>\n",
       "      <th>3</th>\n",
       "      <td>99.8</td>\n",
       "      <td>176.6</td>\n",
       "      <td>66.2</td>\n",
       "      <td>54.3</td>\n",
       "      <td>2337</td>\n",
       "      <td>109</td>\n",
       "      <td>3.19</td>\n",
       "      <td>3.40</td>\n",
       "      <td>10.0</td>\n",
       "      <td>102</td>\n",
       "      <td>...</td>\n",
       "      <td>0</td>\n",
       "      <td>0</td>\n",
       "      <td>0</td>\n",
       "      <td>0</td>\n",
       "      <td>0</td>\n",
       "      <td>0</td>\n",
       "      <td>0</td>\n",
       "      <td>1</td>\n",
       "      <td>0</td>\n",
       "      <td>0</td>\n",
       "    </tr>\n",
       "    <tr>\n",
       "      <th>4</th>\n",
       "      <td>99.4</td>\n",
       "      <td>176.6</td>\n",
       "      <td>66.4</td>\n",
       "      <td>54.3</td>\n",
       "      <td>2824</td>\n",
       "      <td>136</td>\n",
       "      <td>3.19</td>\n",
       "      <td>3.40</td>\n",
       "      <td>8.0</td>\n",
       "      <td>115</td>\n",
       "      <td>...</td>\n",
       "      <td>0</td>\n",
       "      <td>0</td>\n",
       "      <td>0</td>\n",
       "      <td>0</td>\n",
       "      <td>0</td>\n",
       "      <td>0</td>\n",
       "      <td>0</td>\n",
       "      <td>1</td>\n",
       "      <td>0</td>\n",
       "      <td>0</td>\n",
       "    </tr>\n",
       "    <tr>\n",
       "      <th>5</th>\n",
       "      <td>99.8</td>\n",
       "      <td>177.3</td>\n",
       "      <td>66.3</td>\n",
       "      <td>53.1</td>\n",
       "      <td>2507</td>\n",
       "      <td>136</td>\n",
       "      <td>3.19</td>\n",
       "      <td>3.40</td>\n",
       "      <td>8.5</td>\n",
       "      <td>110</td>\n",
       "      <td>...</td>\n",
       "      <td>0</td>\n",
       "      <td>0</td>\n",
       "      <td>0</td>\n",
       "      <td>0</td>\n",
       "      <td>0</td>\n",
       "      <td>0</td>\n",
       "      <td>0</td>\n",
       "      <td>1</td>\n",
       "      <td>0</td>\n",
       "      <td>0</td>\n",
       "    </tr>\n",
       "    <tr>\n",
       "      <th>...</th>\n",
       "      <td>...</td>\n",
       "      <td>...</td>\n",
       "      <td>...</td>\n",
       "      <td>...</td>\n",
       "      <td>...</td>\n",
       "      <td>...</td>\n",
       "      <td>...</td>\n",
       "      <td>...</td>\n",
       "      <td>...</td>\n",
       "      <td>...</td>\n",
       "      <td>...</td>\n",
       "      <td>...</td>\n",
       "      <td>...</td>\n",
       "      <td>...</td>\n",
       "      <td>...</td>\n",
       "      <td>...</td>\n",
       "      <td>...</td>\n",
       "      <td>...</td>\n",
       "      <td>...</td>\n",
       "      <td>...</td>\n",
       "      <td>...</td>\n",
       "    </tr>\n",
       "    <tr>\n",
       "      <th>200</th>\n",
       "      <td>109.1</td>\n",
       "      <td>188.8</td>\n",
       "      <td>68.9</td>\n",
       "      <td>55.5</td>\n",
       "      <td>2952</td>\n",
       "      <td>141</td>\n",
       "      <td>3.78</td>\n",
       "      <td>3.15</td>\n",
       "      <td>9.5</td>\n",
       "      <td>114</td>\n",
       "      <td>...</td>\n",
       "      <td>0</td>\n",
       "      <td>0</td>\n",
       "      <td>0</td>\n",
       "      <td>0</td>\n",
       "      <td>0</td>\n",
       "      <td>0</td>\n",
       "      <td>0</td>\n",
       "      <td>1</td>\n",
       "      <td>0</td>\n",
       "      <td>0</td>\n",
       "    </tr>\n",
       "    <tr>\n",
       "      <th>201</th>\n",
       "      <td>109.1</td>\n",
       "      <td>188.8</td>\n",
       "      <td>68.8</td>\n",
       "      <td>55.5</td>\n",
       "      <td>3049</td>\n",
       "      <td>141</td>\n",
       "      <td>3.78</td>\n",
       "      <td>3.15</td>\n",
       "      <td>8.7</td>\n",
       "      <td>160</td>\n",
       "      <td>...</td>\n",
       "      <td>0</td>\n",
       "      <td>0</td>\n",
       "      <td>0</td>\n",
       "      <td>0</td>\n",
       "      <td>0</td>\n",
       "      <td>0</td>\n",
       "      <td>0</td>\n",
       "      <td>1</td>\n",
       "      <td>0</td>\n",
       "      <td>0</td>\n",
       "    </tr>\n",
       "    <tr>\n",
       "      <th>202</th>\n",
       "      <td>109.1</td>\n",
       "      <td>188.8</td>\n",
       "      <td>68.9</td>\n",
       "      <td>55.5</td>\n",
       "      <td>3012</td>\n",
       "      <td>173</td>\n",
       "      <td>3.58</td>\n",
       "      <td>2.87</td>\n",
       "      <td>8.8</td>\n",
       "      <td>134</td>\n",
       "      <td>...</td>\n",
       "      <td>0</td>\n",
       "      <td>0</td>\n",
       "      <td>0</td>\n",
       "      <td>0</td>\n",
       "      <td>0</td>\n",
       "      <td>0</td>\n",
       "      <td>0</td>\n",
       "      <td>1</td>\n",
       "      <td>0</td>\n",
       "      <td>0</td>\n",
       "    </tr>\n",
       "    <tr>\n",
       "      <th>203</th>\n",
       "      <td>109.1</td>\n",
       "      <td>188.8</td>\n",
       "      <td>68.9</td>\n",
       "      <td>55.5</td>\n",
       "      <td>3217</td>\n",
       "      <td>145</td>\n",
       "      <td>3.01</td>\n",
       "      <td>3.40</td>\n",
       "      <td>23.0</td>\n",
       "      <td>106</td>\n",
       "      <td>...</td>\n",
       "      <td>0</td>\n",
       "      <td>0</td>\n",
       "      <td>0</td>\n",
       "      <td>0</td>\n",
       "      <td>0</td>\n",
       "      <td>1</td>\n",
       "      <td>0</td>\n",
       "      <td>0</td>\n",
       "      <td>0</td>\n",
       "      <td>0</td>\n",
       "    </tr>\n",
       "    <tr>\n",
       "      <th>204</th>\n",
       "      <td>109.1</td>\n",
       "      <td>188.8</td>\n",
       "      <td>68.9</td>\n",
       "      <td>55.5</td>\n",
       "      <td>3062</td>\n",
       "      <td>141</td>\n",
       "      <td>3.78</td>\n",
       "      <td>3.15</td>\n",
       "      <td>9.5</td>\n",
       "      <td>114</td>\n",
       "      <td>...</td>\n",
       "      <td>0</td>\n",
       "      <td>0</td>\n",
       "      <td>0</td>\n",
       "      <td>0</td>\n",
       "      <td>0</td>\n",
       "      <td>0</td>\n",
       "      <td>0</td>\n",
       "      <td>1</td>\n",
       "      <td>0</td>\n",
       "      <td>0</td>\n",
       "    </tr>\n",
       "  </tbody>\n",
       "</table>\n",
       "<p>141 rows × 193 columns</p>\n",
       "</div>"
      ],
      "text/plain": [
       "     wheelbase  carlength  carwidth  carheight  curbweight  enginesize  \\\n",
       "1         88.6      168.8      64.1       48.8        2548         130   \n",
       "2         94.5      171.2      65.5       52.4        2823         152   \n",
       "3         99.8      176.6      66.2       54.3        2337         109   \n",
       "4         99.4      176.6      66.4       54.3        2824         136   \n",
       "5         99.8      177.3      66.3       53.1        2507         136   \n",
       "..         ...        ...       ...        ...         ...         ...   \n",
       "200      109.1      188.8      68.9       55.5        2952         141   \n",
       "201      109.1      188.8      68.8       55.5        3049         141   \n",
       "202      109.1      188.8      68.9       55.5        3012         173   \n",
       "203      109.1      188.8      68.9       55.5        3217         145   \n",
       "204      109.1      188.8      68.9       55.5        3062         141   \n",
       "\n",
       "     boreratio  stroke  compressionratio  horsepower  ...  \\\n",
       "1         3.47    2.68               9.0         111  ...   \n",
       "2         2.68    3.47               9.0         154  ...   \n",
       "3         3.19    3.40              10.0         102  ...   \n",
       "4         3.19    3.40               8.0         115  ...   \n",
       "5         3.19    3.40               8.5         110  ...   \n",
       "..         ...     ...               ...         ...  ...   \n",
       "200       3.78    3.15               9.5         114  ...   \n",
       "201       3.78    3.15               8.7         160  ...   \n",
       "202       3.58    2.87               8.8         134  ...   \n",
       "203       3.01    3.40              23.0         106  ...   \n",
       "204       3.78    3.15               9.5         114  ...   \n",
       "\n",
       "     cylindernumber_three  cylindernumber_twelve  cylindernumber_two  \\\n",
       "1                       0                      0                   0   \n",
       "2                       0                      0                   0   \n",
       "3                       0                      0                   0   \n",
       "4                       0                      0                   0   \n",
       "5                       0                      0                   0   \n",
       "..                    ...                    ...                 ...   \n",
       "200                     0                      0                   0   \n",
       "201                     0                      0                   0   \n",
       "202                     0                      0                   0   \n",
       "203                     0                      0                   0   \n",
       "204                     0                      0                   0   \n",
       "\n",
       "     fuelsystem_2bbl  fuelsystem_4bbl  fuelsystem_idi  fuelsystem_mfi  \\\n",
       "1                  0                0               0               0   \n",
       "2                  0                0               0               0   \n",
       "3                  0                0               0               0   \n",
       "4                  0                0               0               0   \n",
       "5                  0                0               0               0   \n",
       "..               ...              ...             ...             ...   \n",
       "200                0                0               0               0   \n",
       "201                0                0               0               0   \n",
       "202                0                0               0               0   \n",
       "203                0                0               1               0   \n",
       "204                0                0               0               0   \n",
       "\n",
       "     fuelsystem_mpfi  fuelsystem_spdi  fuelsystem_spfi  \n",
       "1                  1                0                0  \n",
       "2                  1                0                0  \n",
       "3                  1                0                0  \n",
       "4                  1                0                0  \n",
       "5                  1                0                0  \n",
       "..               ...              ...              ...  \n",
       "200                1                0                0  \n",
       "201                1                0                0  \n",
       "202                1                0                0  \n",
       "203                0                0                0  \n",
       "204                1                0                0  \n",
       "\n",
       "[141 rows x 193 columns]"
      ]
     },
     "execution_count": 18,
     "metadata": {},
     "output_type": "execute_result"
    }
   ],
   "source": [
    "train_data"
   ]
  },
  {
   "cell_type": "code",
   "execution_count": 30,
   "metadata": {
    "colab": {
     "base_uri": "https://localhost:8080/"
    },
    "id": "jTXSdXZs5InD",
    "outputId": "8a478a65-7b1b-4202-b516-581f968b5507"
   },
   "outputs": [
    {
     "data": {
      "text/plain": [
       "{0: 'wheelbase',\n",
       " 1: 'carlength',\n",
       " 2: 'carwidth',\n",
       " 3: 'carheight',\n",
       " 4: 'curbweight',\n",
       " 5: 'enginesize',\n",
       " 6: 'boreratio',\n",
       " 7: 'stroke',\n",
       " 8: 'compressionratio',\n",
       " 9: 'horsepower',\n",
       " 10: 'peakrpm',\n",
       " 11: 'citympg',\n",
       " 12: 'highwaympg',\n",
       " 13: 'CarName_alfa-romero Quadrifoglio',\n",
       " 14: 'CarName_alfa-romero giulia',\n",
       " 15: 'CarName_alfa-romero stelvio',\n",
       " 16: 'CarName_audi 100ls',\n",
       " 17: 'CarName_audi 4000',\n",
       " 18: 'CarName_audi 5000',\n",
       " 19: 'CarName_audi 5000s (diesel)',\n",
       " 20: 'CarName_audi fox',\n",
       " 21: 'CarName_bmw 320i',\n",
       " 22: 'CarName_bmw x1',\n",
       " 23: 'CarName_bmw x3',\n",
       " 24: 'CarName_bmw x4',\n",
       " 25: 'CarName_bmw x5',\n",
       " 26: 'CarName_bmw z4',\n",
       " 27: 'CarName_buick century',\n",
       " 28: 'CarName_buick century luxus (sw)',\n",
       " 29: 'CarName_buick century special',\n",
       " 30: 'CarName_buick electra 225 custom',\n",
       " 31: 'CarName_buick opel isuzu deluxe',\n",
       " 32: 'CarName_buick regal sport coupe (turbo)',\n",
       " 33: 'CarName_buick skyhawk',\n",
       " 34: 'CarName_buick skylark',\n",
       " 35: 'CarName_chevrolet impala',\n",
       " 36: 'CarName_chevrolet monte carlo',\n",
       " 37: 'CarName_chevrolet vega 2300',\n",
       " 38: 'CarName_dodge challenger se',\n",
       " 39: 'CarName_dodge colt (sw)',\n",
       " 40: 'CarName_dodge colt hardtop',\n",
       " 41: 'CarName_dodge coronet custom',\n",
       " 42: 'CarName_dodge coronet custom (sw)',\n",
       " 43: 'CarName_dodge d200',\n",
       " 44: 'CarName_dodge dart custom',\n",
       " 45: 'CarName_dodge monaco (sw)',\n",
       " 46: 'CarName_dodge rampage',\n",
       " 47: 'CarName_honda accord',\n",
       " 48: 'CarName_honda accord cvcc',\n",
       " 49: 'CarName_honda accord lx',\n",
       " 50: 'CarName_honda civic',\n",
       " 51: 'CarName_honda civic (auto)',\n",
       " 52: 'CarName_honda civic 1300',\n",
       " 53: 'CarName_honda civic 1500 gl',\n",
       " 54: 'CarName_honda civic cvcc',\n",
       " 55: 'CarName_honda prelude',\n",
       " 56: 'CarName_isuzu D-Max ',\n",
       " 57: 'CarName_isuzu D-Max V-Cross',\n",
       " 58: 'CarName_isuzu MU-X',\n",
       " 59: 'CarName_jaguar xf',\n",
       " 60: 'CarName_jaguar xj',\n",
       " 61: 'CarName_jaguar xk',\n",
       " 62: 'CarName_maxda glc deluxe',\n",
       " 63: 'CarName_maxda rx3',\n",
       " 64: 'CarName_mazda 626',\n",
       " 65: 'CarName_mazda glc',\n",
       " 66: 'CarName_mazda glc 4',\n",
       " 67: 'CarName_mazda glc custom',\n",
       " 68: 'CarName_mazda glc custom l',\n",
       " 69: 'CarName_mazda glc deluxe',\n",
       " 70: 'CarName_mazda rx-4',\n",
       " 71: 'CarName_mazda rx-7 gs',\n",
       " 72: 'CarName_mazda rx2 coupe',\n",
       " 73: 'CarName_mercury cougar',\n",
       " 74: 'CarName_mitsubishi g4',\n",
       " 75: 'CarName_mitsubishi lancer',\n",
       " 76: 'CarName_mitsubishi mirage',\n",
       " 77: 'CarName_mitsubishi mirage g4',\n",
       " 78: 'CarName_mitsubishi montero',\n",
       " 79: 'CarName_mitsubishi outlander',\n",
       " 80: 'CarName_mitsubishi pajero',\n",
       " 81: 'CarName_nissan clipper',\n",
       " 82: 'CarName_nissan dayz',\n",
       " 83: 'CarName_nissan fuga',\n",
       " 84: 'CarName_nissan gt-r',\n",
       " 85: 'CarName_nissan juke',\n",
       " 86: 'CarName_nissan kicks',\n",
       " 87: 'CarName_nissan latio',\n",
       " 88: 'CarName_nissan leaf',\n",
       " 89: 'CarName_nissan note',\n",
       " 90: 'CarName_nissan nv200',\n",
       " 91: 'CarName_nissan otti',\n",
       " 92: 'CarName_nissan rogue',\n",
       " 93: 'CarName_nissan teana',\n",
       " 94: 'CarName_nissan titan',\n",
       " 95: 'CarName_peugeot 304',\n",
       " 96: 'CarName_peugeot 504',\n",
       " 97: 'CarName_peugeot 504 (sw)',\n",
       " 98: 'CarName_peugeot 505s turbo diesel',\n",
       " 99: 'CarName_peugeot 604sl',\n",
       " 100: 'CarName_plymouth cricket',\n",
       " 101: 'CarName_plymouth duster',\n",
       " 102: 'CarName_plymouth fury gran sedan',\n",
       " 103: 'CarName_plymouth fury iii',\n",
       " 104: 'CarName_plymouth satellite custom (sw)',\n",
       " 105: 'CarName_plymouth valiant',\n",
       " 106: 'CarName_porcshce panamera',\n",
       " 107: 'CarName_porsche boxter',\n",
       " 108: 'CarName_porsche cayenne',\n",
       " 109: 'CarName_porsche macan',\n",
       " 110: 'CarName_renault 12tl',\n",
       " 111: 'CarName_renault 5 gtl',\n",
       " 112: 'CarName_saab 99e',\n",
       " 113: 'CarName_saab 99gle',\n",
       " 114: 'CarName_saab 99le',\n",
       " 115: 'CarName_subaru',\n",
       " 116: 'CarName_subaru baja',\n",
       " 117: 'CarName_subaru brz',\n",
       " 118: 'CarName_subaru dl',\n",
       " 119: 'CarName_subaru r1',\n",
       " 120: 'CarName_subaru r2',\n",
       " 121: 'CarName_subaru trezia',\n",
       " 122: 'CarName_subaru tribeca',\n",
       " 123: 'CarName_toyota carina',\n",
       " 124: 'CarName_toyota celica gt',\n",
       " 125: 'CarName_toyota celica gt liftback',\n",
       " 126: 'CarName_toyota corolla',\n",
       " 127: 'CarName_toyota corolla 1200',\n",
       " 128: 'CarName_toyota corolla 1600 (sw)',\n",
       " 129: 'CarName_toyota corolla liftback',\n",
       " 130: 'CarName_toyota corolla tercel',\n",
       " 131: 'CarName_toyota corona',\n",
       " 132: 'CarName_toyota corona hardtop',\n",
       " 133: 'CarName_toyota corona liftback',\n",
       " 134: 'CarName_toyota corona mark ii',\n",
       " 135: 'CarName_toyota cressida',\n",
       " 136: 'CarName_toyota mark ii',\n",
       " 137: 'CarName_toyota starlet',\n",
       " 138: 'CarName_toyota tercel',\n",
       " 139: 'CarName_toyouta tercel',\n",
       " 140: 'CarName_vokswagen rabbit',\n",
       " 141: 'CarName_volkswagen 1131 deluxe sedan',\n",
       " 142: 'CarName_volkswagen 411 (sw)',\n",
       " 143: 'CarName_volkswagen dasher',\n",
       " 144: 'CarName_volkswagen model 111',\n",
       " 145: 'CarName_volkswagen rabbit',\n",
       " 146: 'CarName_volkswagen rabbit custom',\n",
       " 147: 'CarName_volkswagen super beetle',\n",
       " 148: 'CarName_volkswagen type 3',\n",
       " 149: 'CarName_volvo 144ea',\n",
       " 150: 'CarName_volvo 145e (sw)',\n",
       " 151: 'CarName_volvo 244dl',\n",
       " 152: 'CarName_volvo 245',\n",
       " 153: 'CarName_volvo 246',\n",
       " 154: 'CarName_volvo 264gl',\n",
       " 155: 'CarName_volvo diesel',\n",
       " 156: 'CarName_vw dasher',\n",
       " 157: 'CarName_vw rabbit',\n",
       " 158: 'symboling_-1',\n",
       " 159: 'symboling_0',\n",
       " 160: 'symboling_1',\n",
       " 161: 'symboling_2',\n",
       " 162: 'symboling_3',\n",
       " 163: 'fueltype_gas',\n",
       " 164: 'aspiration_turbo',\n",
       " 165: 'doornumber_two',\n",
       " 166: 'carbody_hardtop',\n",
       " 167: 'carbody_hatchback',\n",
       " 168: 'carbody_sedan',\n",
       " 169: 'carbody_wagon',\n",
       " 170: 'drivewheel_fwd',\n",
       " 171: 'drivewheel_rwd',\n",
       " 172: 'enginelocation_rear',\n",
       " 173: 'enginetype_dohcv',\n",
       " 174: 'enginetype_l',\n",
       " 175: 'enginetype_ohc',\n",
       " 176: 'enginetype_ohcf',\n",
       " 177: 'enginetype_ohcv',\n",
       " 178: 'enginetype_rotor',\n",
       " 179: 'cylindernumber_five',\n",
       " 180: 'cylindernumber_four',\n",
       " 181: 'cylindernumber_six',\n",
       " 182: 'cylindernumber_three',\n",
       " 183: 'cylindernumber_twelve',\n",
       " 184: 'cylindernumber_two',\n",
       " 185: 'fuelsystem_2bbl',\n",
       " 186: 'fuelsystem_4bbl',\n",
       " 187: 'fuelsystem_idi',\n",
       " 188: 'fuelsystem_mfi',\n",
       " 189: 'fuelsystem_mpfi',\n",
       " 190: 'fuelsystem_spdi',\n",
       " 191: 'fuelsystem_spfi'}"
      ]
     },
     "execution_count": 30,
     "metadata": {},
     "output_type": "execute_result"
    }
   ],
   "source": [
    "#get indices of the columns so that we can know how many columns we have to normalize, as catagorical columns which we\n",
    "# have added with onehot encoding, do not need to be normalized.. normalizing will be done in next cell\n",
    "{train_data.columns.get_loc(c): c for idx, c in enumerate(train_data.columns)}"
   ]
  },
  {
   "cell_type": "code",
   "execution_count": null,
   "metadata": {
    "id": "CTvnqjLaFSYr"
   },
   "outputs": [],
   "source": []
  },
  {
   "cell_type": "code",
   "execution_count": 31,
   "metadata": {
    "id": "1h5vhggTyRyw"
   },
   "outputs": [],
   "source": [
    "## we normalize data because data has big vlaues in decimal and it will worsen performance of our model, may overfit \n",
    "## or  we may face hardware resource high usage\n",
    "# we will apply the formula normalized_train_data = (train_data - mean)/ stadrad_deviation\n",
    "## firt take mean of training, then subtract mean from each value of the array slice train_data.iloc[:,0:13]\n",
    "mean = train_data.iloc[:,0:13].mean(axis=0) # taking the mean of \n",
    "train_data.iloc[:,0:13] -= mean\n",
    "std = train_data.iloc[:,0:13].std(axis=0)\n",
    "train_data.iloc[:,0:13] /= std\n",
    "test_data.iloc[:,0:13] -= mean\n",
    "test_data.iloc[:,0:13] /= std\n",
    "\n"
   ]
  },
  {
   "cell_type": "code",
   "execution_count": 32,
   "metadata": {
    "colab": {
     "base_uri": "https://localhost:8080/"
    },
    "id": "XdXge3xhAyiN",
    "outputId": "e3e1a79a-2b05-495c-91a2-4d94e2329518"
   },
   "outputs": [
    {
     "data": {
      "text/plain": [
       "wheelbase             98.692199\n",
       "carlength            173.658156\n",
       "carwidth              65.875887\n",
       "carheight             53.648227\n",
       "curbweight          2546.787234\n",
       "enginesize           125.666667\n",
       "boreratio              3.324184\n",
       "stroke                 3.256809\n",
       "compressionratio      10.070355\n",
       "horsepower           103.702128\n",
       "peakrpm             5143.971631\n",
       "citympg               25.113475\n",
       "highwaympg            30.581560\n",
       "dtype: float64"
      ]
     },
     "execution_count": 32,
     "metadata": {},
     "output_type": "execute_result"
    }
   ],
   "source": [
    "mean"
   ]
  },
  {
   "cell_type": "code",
   "execution_count": 33,
   "metadata": {
    "colab": {
     "base_uri": "https://localhost:8080/"
    },
    "id": "1dKIOrdXIEDr",
    "outputId": "09c7d66a-5ab9-426f-9bbf-f5ca8c31e199"
   },
   "outputs": [
    {
     "data": {
      "text/plain": [
       "wheelbase             6.005665\n",
       "carlength            12.320089\n",
       "carwidth              2.188604\n",
       "carheight             2.508204\n",
       "curbweight          529.769152\n",
       "enginesize           41.733451\n",
       "boreratio             0.266123\n",
       "stroke                0.296387\n",
       "compressionratio      3.868579\n",
       "horsepower           38.424275\n",
       "peakrpm             474.472458\n",
       "citympg               6.509435\n",
       "highwaympg            6.734937\n",
       "dtype: float64"
      ]
     },
     "execution_count": 33,
     "metadata": {},
     "output_type": "execute_result"
    }
   ],
   "source": [
    "std"
   ]
  },
  {
   "cell_type": "code",
   "execution_count": 34,
   "metadata": {
    "id": "CZYfOs0cfaGE"
   },
   "outputs": [],
   "source": [
    "mean_label = train_label.mean()\n",
    "train_label -= mean_label\n",
    "std_label = train_label.std()\n",
    "train_label /= std_label\n",
    "test_label -= mean_label\n",
    "test_label /= std_label\n"
   ]
  },
  {
   "cell_type": "code",
   "execution_count": 35,
   "metadata": {
    "colab": {
     "base_uri": "https://localhost:8080/"
    },
    "id": "0UwH-6fJG4RB",
    "outputId": "f37b4cdd-5c0a-4102-acdf-c710b6679aec"
   },
   "outputs": [
    {
     "data": {
      "text/plain": [
       "13379.132390070921"
      ]
     },
     "execution_count": 35,
     "metadata": {},
     "output_type": "execute_result"
    }
   ],
   "source": [
    "mean_label"
   ]
  },
  {
   "cell_type": "code",
   "execution_count": 36,
   "metadata": {
    "colab": {
     "base_uri": "https://localhost:8080/"
    },
    "id": "J0HkwMimH-9W",
    "outputId": "93cf8400-5552-46d4-c5ec-dfb9476a02be"
   },
   "outputs": [
    {
     "data": {
      "text/plain": [
       "8189.49456801062"
      ]
     },
     "execution_count": 36,
     "metadata": {},
     "output_type": "execute_result"
    }
   ],
   "source": [
    "std_label"
   ]
  },
  {
   "cell_type": "code",
   "execution_count": 37,
   "metadata": {
    "colab": {
     "base_uri": "https://localhost:8080/"
    },
    "id": "2mc7B1amLmsx",
    "outputId": "8e9985fe-9470-46f4-e150-65d597726601"
   },
   "outputs": [
    {
     "name": "stdout",
     "output_type": "stream",
     "text": [
      "13379.132390070921\n"
     ]
    }
   ],
   "source": [
    "print(mean_label)"
   ]
  },
  {
   "cell_type": "code",
   "execution_count": 38,
   "metadata": {
    "colab": {
     "base_uri": "https://localhost:8080/"
    },
    "id": "g8uIRUHEw7g4",
    "outputId": "4abdb45d-c6ca-446c-d674-43b868d0e9ef"
   },
   "outputs": [
    {
     "data": {
      "text/plain": [
       "0      0.014148\n",
       "10     0.372534\n",
       "14     1.365880\n",
       "15     2.122337\n",
       "18    -1.004718\n",
       "         ...   \n",
       "192    0.056886\n",
       "193   -0.132991\n",
       "194   -0.053621\n",
       "196    0.318196\n",
       "198    0.615529\n",
       "Name: price, Length: 64, dtype: float64"
      ]
     },
     "execution_count": 38,
     "metadata": {},
     "output_type": "execute_result"
    }
   ],
   "source": [
    "test_label"
   ]
  },
  {
   "cell_type": "code",
   "execution_count": 39,
   "metadata": {
    "colab": {
     "base_uri": "https://localhost:8080/"
    },
    "id": "ZwYKROqCyWwi",
    "outputId": "d9f2017a-1793-4d72-b22d-22e059810a1a"
   },
   "outputs": [
    {
     "data": {
      "text/plain": [
       "(141, 192)"
      ]
     },
     "execution_count": 39,
     "metadata": {},
     "output_type": "execute_result"
    }
   ],
   "source": [
    "train_data.shape"
   ]
  },
  {
   "cell_type": "code",
   "execution_count": 40,
   "metadata": {
    "id": "ejyRo91P9Klh"
   },
   "outputs": [],
   "source": [
    "#store in numpy array"
   ]
  },
  {
   "cell_type": "code",
   "execution_count": 41,
   "metadata": {
    "id": "eLTpt0qn-R5y"
   },
   "outputs": [],
   "source": [
    "test = np.array(test_data.iloc[:]).astype('float32')"
   ]
  },
  {
   "cell_type": "code",
   "execution_count": 42,
   "metadata": {
    "id": "6ym52Tun-vhn"
   },
   "outputs": [],
   "source": [
    "train = np.array(train_data.iloc[:]).astype('float32')"
   ]
  },
  {
   "cell_type": "code",
   "execution_count": 43,
   "metadata": {
    "id": "TnFGfxGn_d1b"
   },
   "outputs": [],
   "source": [
    "test_l= np.array(test_label.astype('float32'))"
   ]
  },
  {
   "cell_type": "code",
   "execution_count": 44,
   "metadata": {
    "id": "kklQZ0za_qZb"
   },
   "outputs": [],
   "source": [
    "train_l= np.array(train_label.astype('float32'))"
   ]
  },
  {
   "cell_type": "code",
   "execution_count": 45,
   "metadata": {
    "colab": {
     "base_uri": "https://localhost:8080/"
    },
    "id": "mVbXDcGe5cY2",
    "outputId": "79f6cf2c-a5ae-44bf-e8cd-57e3a8fd811f"
   },
   "outputs": [
    {
     "data": {
      "text/plain": [
       "192"
      ]
     },
     "execution_count": 45,
     "metadata": {},
     "output_type": "execute_result"
    }
   ],
   "source": [
    "train.shape[1]\n"
   ]
  },
  {
   "cell_type": "code",
   "execution_count": 46,
   "metadata": {
    "colab": {
     "base_uri": "https://localhost:8080/"
    },
    "id": "ArLkQAzx9W0f",
    "outputId": "13d9d83f-fe2f-4250-ba53-53cfb235036a"
   },
   "outputs": [
    {
     "data": {
      "text/plain": [
       "192"
      ]
     },
     "execution_count": 46,
     "metadata": {},
     "output_type": "execute_result"
    }
   ],
   "source": [
    "(141,192)[1]"
   ]
  },
  {
   "cell_type": "code",
   "execution_count": 47,
   "metadata": {
    "colab": {
     "base_uri": "https://localhost:8080/"
    },
    "id": "MS0mDY0d9y3Q",
    "outputId": "a49598a3-7696-4847-bc0a-90dcd664efb6"
   },
   "outputs": [
    {
     "data": {
      "text/plain": [
       "dtype('float32')"
      ]
     },
     "execution_count": 47,
     "metadata": {},
     "output_type": "execute_result"
    }
   ],
   "source": [
    "train.dtype"
   ]
  },
  {
   "cell_type": "markdown",
   "metadata": {
    "id": "Mm416iVz953_"
   },
   "source": [
    "\n",
    "# Models section\n",
    "```\n",
    "#WE will configure different models here according to relu, tanh , regularization, dropout etc..\n",
    "```\n",
    "\n"
   ]
  },
  {
   "cell_type": "code",
   "execution_count": 48,
   "metadata": {
    "id": "EqOJjh8n8fMU"
   },
   "outputs": [],
   "source": [
    "# we are passing activation function as a parameter here so that we can call this function with tanh or relu while\n",
    "# fitting and training the model\n",
    "from keras import models\n",
    "from keras import layers\n",
    "def build_model(act):\n",
    "  model = models.Sequential()\n",
    "  model.add(layers.Dense(128, activation= act,input_shape=(train.shape[1],)))\n",
    "  model.add(layers.Dense(64, activation= act))\n",
    "  model.add(layers.Dense(32, activation= act))\n",
    "  model.add(layers.Dense(1))\n",
    "  model.compile(optimizer='rmsprop', loss='mse', metrics=['mae'])\n",
    "  return model"
   ]
  },
  {
   "cell_type": "code",
   "execution_count": 49,
   "metadata": {
    "colab": {
     "base_uri": "https://localhost:8080/"
    },
    "id": "ZKs2Axd19Rsx",
    "outputId": "8cdb4563-3513-4d70-be95-cab84b1d663b"
   },
   "outputs": [
    {
     "name": "stdout",
     "output_type": "stream",
     "text": [
      "Model: \"sequential\"\n",
      "_________________________________________________________________\n",
      "Layer (type)                 Output Shape              Param #   \n",
      "=================================================================\n",
      "dense (Dense)                (None, 128)               24704     \n",
      "_________________________________________________________________\n",
      "dense_1 (Dense)              (None, 64)                8256      \n",
      "_________________________________________________________________\n",
      "dense_2 (Dense)              (None, 32)                2080      \n",
      "_________________________________________________________________\n",
      "dense_3 (Dense)              (None, 1)                 33        \n",
      "=================================================================\n",
      "Total params: 35,073\n",
      "Trainable params: 35,073\n",
      "Non-trainable params: 0\n",
      "_________________________________________________________________\n"
     ]
    }
   ],
   "source": [
    "build_model('relu').summary()"
   ]
  },
  {
   "cell_type": "code",
   "execution_count": 50,
   "metadata": {
    "colab": {
     "base_uri": "https://localhost:8080/"
    },
    "id": "ShTLMMUPWE2E",
    "outputId": "2ecfba3b-9b92-446f-8754-6835b089f62f"
   },
   "outputs": [
    {
     "name": "stdout",
     "output_type": "stream",
     "text": [
      "Model: \"sequential_1\"\n",
      "_________________________________________________________________\n",
      "Layer (type)                 Output Shape              Param #   \n",
      "=================================================================\n",
      "dense_4 (Dense)              (None, 128)               24704     \n",
      "_________________________________________________________________\n",
      "dense_5 (Dense)              (None, 64)                8256      \n",
      "_________________________________________________________________\n",
      "dense_6 (Dense)              (None, 32)                2080      \n",
      "_________________________________________________________________\n",
      "dense_7 (Dense)              (None, 1)                 33        \n",
      "=================================================================\n",
      "Total params: 35,073\n",
      "Trainable params: 35,073\n",
      "Non-trainable params: 0\n",
      "_________________________________________________________________\n"
     ]
    }
   ],
   "source": [
    "build_model('tanh').summary()"
   ]
  },
  {
   "cell_type": "code",
   "execution_count": 51,
   "metadata": {
    "id": "iLNbzXjKqGSw"
   },
   "outputs": [],
   "source": [
    "# Regularized model\n",
    "from keras import regularizers\n",
    "def build_model_regular(act):\n",
    "  model = models.Sequential()\n",
    "  model.add(layers.Dense(10, activation= act,kernel_regularizer= regularizers.l1_l2(l1=0.001, l2=0.001),input_shape=(train.shape[1],)))\n",
    "  model.add(layers.Dense(8, activation= act,kernel_regularizer= regularizers.l1_l2(l1=0.001, l2=0.001)))\n",
    "  model.add(layers.Dense(6, activation= act,kernel_regularizer= regularizers.l1_l2(l1=0.001, l2=0.001)))\n",
    "  model.add(layers.Dense(1))\n",
    "  model.compile(optimizer='rmsprop', loss='mse', metrics=['mae'])\n",
    "  return model"
   ]
  },
  {
   "cell_type": "code",
   "execution_count": 52,
   "metadata": {
    "colab": {
     "base_uri": "https://localhost:8080/"
    },
    "id": "afnNh94NrncJ",
    "outputId": "bebc621d-155c-47ae-d1d4-6f7def305f1a"
   },
   "outputs": [
    {
     "name": "stdout",
     "output_type": "stream",
     "text": [
      "Model: \"sequential_2\"\n",
      "_________________________________________________________________\n",
      "Layer (type)                 Output Shape              Param #   \n",
      "=================================================================\n",
      "dense_8 (Dense)              (None, 10)                1930      \n",
      "_________________________________________________________________\n",
      "dense_9 (Dense)              (None, 8)                 88        \n",
      "_________________________________________________________________\n",
      "dense_10 (Dense)             (None, 6)                 54        \n",
      "_________________________________________________________________\n",
      "dense_11 (Dense)             (None, 1)                 7         \n",
      "=================================================================\n",
      "Total params: 2,079\n",
      "Trainable params: 2,079\n",
      "Non-trainable params: 0\n",
      "_________________________________________________________________\n"
     ]
    }
   ],
   "source": [
    "build_model_regular('tanh').summary()"
   ]
  },
  {
   "cell_type": "code",
   "execution_count": 53,
   "metadata": {
    "id": "hKOI8TLD1SHd"
   },
   "outputs": [],
   "source": [
    "# dropout model\n",
    "from keras import regularizers\n",
    "def build_model_drop(act):\n",
    "  model = models.Sequential()\n",
    "  model.add(layers.Dense(10, activation= act,input_shape=(train.shape[1],)))\n",
    "  model.add(layers.Dropout(0.2))\n",
    "  model.add(layers.Dense(8, activation= act))\n",
    "  model.add(layers.Dropout(0.2))\n",
    "  model.add(layers.Dense(6, activation= act))\n",
    "  model.add(layers.Dropout(0.2))\n",
    "  model.add(layers.Dense(1))\n",
    "  model.compile(optimizer='rmsprop', loss='mse', metrics=['mae'])\n",
    "  return model"
   ]
  },
  {
   "cell_type": "code",
   "execution_count": 54,
   "metadata": {
    "colab": {
     "base_uri": "https://localhost:8080/"
    },
    "id": "r_3icFwvKuGy",
    "outputId": "d656902f-2070-49fb-8e13-54edbcdf2da5"
   },
   "outputs": [
    {
     "name": "stdout",
     "output_type": "stream",
     "text": [
      "Model: \"sequential_3\"\n",
      "_________________________________________________________________\n",
      "Layer (type)                 Output Shape              Param #   \n",
      "=================================================================\n",
      "dense_12 (Dense)             (None, 10)                1930      \n",
      "_________________________________________________________________\n",
      "dropout (Dropout)            (None, 10)                0         \n",
      "_________________________________________________________________\n",
      "dense_13 (Dense)             (None, 8)                 88        \n",
      "_________________________________________________________________\n",
      "dropout_1 (Dropout)          (None, 8)                 0         \n",
      "_________________________________________________________________\n",
      "dense_14 (Dense)             (None, 6)                 54        \n",
      "_________________________________________________________________\n",
      "dropout_2 (Dropout)          (None, 6)                 0         \n",
      "_________________________________________________________________\n",
      "dense_15 (Dense)             (None, 1)                 7         \n",
      "=================================================================\n",
      "Total params: 2,079\n",
      "Trainable params: 2,079\n",
      "Non-trainable params: 0\n",
      "_________________________________________________________________\n"
     ]
    }
   ],
   "source": [
    "build_model_drop('relu').summary()"
   ]
  },
  {
   "cell_type": "markdown",
   "metadata": {
    "id": "YwAm7RMr_eMa"
   },
   "source": [
    "# K Fold validation section\n",
    "## here we will use len(train)//k to make 141//4 = 36 rows for validation in each validation test and collect the validation scores for relu , tanh , regularization , and dropout"
   ]
  },
  {
   "cell_type": "code",
   "execution_count": 55,
   "metadata": {
    "colab": {
     "base_uri": "https://localhost:8080/"
    },
    "id": "hTizsf6znpb7",
    "outputId": "261835b1-9c40-46ac-a474-0d48fac97940"
   },
   "outputs": [
    {
     "name": "stdout",
     "output_type": "stream",
     "text": [
      "processing fold # 0\n",
      "processing fold # 1\n",
      "processing fold # 2\n",
      "processing fold # 3\n"
     ]
    }
   ],
   "source": [
    "#k fold validation with relu\n",
    "# 141/4\n",
    "import numpy as np\n",
    "k =  4\n",
    "num_val_samples = len(train) // k\n",
    "num_epochs = 100\n",
    "all_scores_relu = []\n",
    "for i in range(k):\n",
    "  print('processing fold #', i)\n",
    "  val_data = train[i * num_val_samples: (i + 1) * num_val_samples]\n",
    "  val_targets = train_l[i * num_val_samples: (i + 1) * num_val_samples]\n",
    "  partial_train_data = np.concatenate([train[:i * num_val_samples],train[(i + 1) * num_val_samples:]],  axis=0)\n",
    "  # print(partial_train_data)\n",
    "  partial_train_targets = np.concatenate([train_l[:i * num_val_samples],train_l[(i + 1) * num_val_samples:]],axis=0)\n",
    "  model = build_model('relu')\n",
    "  model.fit(partial_train_data, partial_train_targets,epochs=num_epochs, batch_size=1, verbose=0)\n",
    "  val_mse, val_mae = model.evaluate(val_data, val_targets, verbose=0)\n",
    "  all_scores_relu.append(val_mae)\n"
   ]
  },
  {
   "cell_type": "code",
   "execution_count": 56,
   "metadata": {
    "colab": {
     "base_uri": "https://localhost:8080/"
    },
    "id": "HaXgBohaz4WI",
    "outputId": "8857bde4-60de-45f9-a826-116725f0a32b"
   },
   "outputs": [
    {
     "name": "stdout",
     "output_type": "stream",
     "text": [
      "processing fold # 0\n",
      "WARNING:tensorflow:5 out of the last 9 calls to <function Model.make_test_function.<locals>.test_function at 0x000000AA3754A9D0> triggered tf.function retracing. Tracing is expensive and the excessive number of tracings could be due to (1) creating @tf.function repeatedly in a loop, (2) passing tensors with different shapes, (3) passing Python objects instead of tensors. For (1), please define your @tf.function outside of the loop. For (2), @tf.function has experimental_relax_shapes=True option that relaxes argument shapes that can avoid unnecessary retracing. For (3), please refer to https://www.tensorflow.org/tutorials/customization/performance#python_or_tensor_args and https://www.tensorflow.org/api_docs/python/tf/function for  more details.\n",
      "processing fold # 1\n",
      "WARNING:tensorflow:6 out of the last 11 calls to <function Model.make_test_function.<locals>.test_function at 0x000000AA3875BAF0> triggered tf.function retracing. Tracing is expensive and the excessive number of tracings could be due to (1) creating @tf.function repeatedly in a loop, (2) passing tensors with different shapes, (3) passing Python objects instead of tensors. For (1), please define your @tf.function outside of the loop. For (2), @tf.function has experimental_relax_shapes=True option that relaxes argument shapes that can avoid unnecessary retracing. For (3), please refer to https://www.tensorflow.org/tutorials/customization/performance#python_or_tensor_args and https://www.tensorflow.org/api_docs/python/tf/function for  more details.\n",
      "processing fold # 2\n",
      "WARNING:tensorflow:6 out of the last 11 calls to <function Model.make_test_function.<locals>.test_function at 0x000000AA3754A820> triggered tf.function retracing. Tracing is expensive and the excessive number of tracings could be due to (1) creating @tf.function repeatedly in a loop, (2) passing tensors with different shapes, (3) passing Python objects instead of tensors. For (1), please define your @tf.function outside of the loop. For (2), @tf.function has experimental_relax_shapes=True option that relaxes argument shapes that can avoid unnecessary retracing. For (3), please refer to https://www.tensorflow.org/tutorials/customization/performance#python_or_tensor_args and https://www.tensorflow.org/api_docs/python/tf/function for  more details.\n",
      "processing fold # 3\n",
      "WARNING:tensorflow:6 out of the last 11 calls to <function Model.make_test_function.<locals>.test_function at 0x000000AA3BFDB040> triggered tf.function retracing. Tracing is expensive and the excessive number of tracings could be due to (1) creating @tf.function repeatedly in a loop, (2) passing tensors with different shapes, (3) passing Python objects instead of tensors. For (1), please define your @tf.function outside of the loop. For (2), @tf.function has experimental_relax_shapes=True option that relaxes argument shapes that can avoid unnecessary retracing. For (3), please refer to https://www.tensorflow.org/tutorials/customization/performance#python_or_tensor_args and https://www.tensorflow.org/api_docs/python/tf/function for  more details.\n"
     ]
    }
   ],
   "source": [
    "# 141/4\n",
    "#k fold validation with tanh\n",
    "import numpy as np\n",
    "k =  4\n",
    "num_val_samples = len(train) // k\n",
    "num_epochs = 100\n",
    "all_scores_tanh = []\n",
    "for i in range(k):\n",
    "  print('processing fold #', i)\n",
    "  val_data = train[i * num_val_samples: (i + 1) * num_val_samples]\n",
    "  val_targets = train_l[i * num_val_samples: (i + 1) * num_val_samples]\n",
    "  partial_train_data = np.concatenate([train[:i * num_val_samples],train[(i + 1) * num_val_samples:]],  axis=0)\n",
    "  # print(partial_train_data)\n",
    "  partial_train_targets = np.concatenate([train_l[:i * num_val_samples],train_l[(i + 1) * num_val_samples:]],axis=0)\n",
    "  model = build_model('tanh')\n",
    "  model.fit(partial_train_data, partial_train_targets,epochs=num_epochs, batch_size=1, verbose=0)\n",
    "  val_mse, val_mae = model.evaluate(val_data, val_targets, verbose=0)\n",
    "  all_scores_tanh.append(val_mae)"
   ]
  },
  {
   "cell_type": "code",
   "execution_count": 57,
   "metadata": {
    "colab": {
     "base_uri": "https://localhost:8080/"
    },
    "id": "SD6TuagJb54U",
    "outputId": "550972d4-a37d-4875-c384-ad21aa82413c"
   },
   "outputs": [
    {
     "name": "stdout",
     "output_type": "stream",
     "text": [
      "processing fold # 0\n",
      "WARNING:tensorflow:6 out of the last 11 calls to <function Model.make_test_function.<locals>.test_function at 0x000000AA374AA940> triggered tf.function retracing. Tracing is expensive and the excessive number of tracings could be due to (1) creating @tf.function repeatedly in a loop, (2) passing tensors with different shapes, (3) passing Python objects instead of tensors. For (1), please define your @tf.function outside of the loop. For (2), @tf.function has experimental_relax_shapes=True option that relaxes argument shapes that can avoid unnecessary retracing. For (3), please refer to https://www.tensorflow.org/tutorials/customization/performance#python_or_tensor_args and https://www.tensorflow.org/api_docs/python/tf/function for  more details.\n",
      "processing fold # 1\n",
      "WARNING:tensorflow:6 out of the last 11 calls to <function Model.make_test_function.<locals>.test_function at 0x000000AA3754AE50> triggered tf.function retracing. Tracing is expensive and the excessive number of tracings could be due to (1) creating @tf.function repeatedly in a loop, (2) passing tensors with different shapes, (3) passing Python objects instead of tensors. For (1), please define your @tf.function outside of the loop. For (2), @tf.function has experimental_relax_shapes=True option that relaxes argument shapes that can avoid unnecessary retracing. For (3), please refer to https://www.tensorflow.org/tutorials/customization/performance#python_or_tensor_args and https://www.tensorflow.org/api_docs/python/tf/function for  more details.\n",
      "processing fold # 2\n",
      "WARNING:tensorflow:6 out of the last 11 calls to <function Model.make_test_function.<locals>.test_function at 0x000000AA3BFDB430> triggered tf.function retracing. Tracing is expensive and the excessive number of tracings could be due to (1) creating @tf.function repeatedly in a loop, (2) passing tensors with different shapes, (3) passing Python objects instead of tensors. For (1), please define your @tf.function outside of the loop. For (2), @tf.function has experimental_relax_shapes=True option that relaxes argument shapes that can avoid unnecessary retracing. For (3), please refer to https://www.tensorflow.org/tutorials/customization/performance#python_or_tensor_args and https://www.tensorflow.org/api_docs/python/tf/function for  more details.\n",
      "processing fold # 3\n",
      "WARNING:tensorflow:6 out of the last 11 calls to <function Model.make_test_function.<locals>.test_function at 0x000000AA3754A820> triggered tf.function retracing. Tracing is expensive and the excessive number of tracings could be due to (1) creating @tf.function repeatedly in a loop, (2) passing tensors with different shapes, (3) passing Python objects instead of tensors. For (1), please define your @tf.function outside of the loop. For (2), @tf.function has experimental_relax_shapes=True option that relaxes argument shapes that can avoid unnecessary retracing. For (3), please refer to https://www.tensorflow.org/tutorials/customization/performance#python_or_tensor_args and https://www.tensorflow.org/api_docs/python/tf/function for  more details.\n"
     ]
    }
   ],
   "source": [
    "#k-fold validtion with regularization\n",
    "import numpy as np\n",
    "k =  4\n",
    "num_val_samples = len(train) // k\n",
    "num_epochs = 100\n",
    "all_scores_regular = []\n",
    "for i in range(k):\n",
    "  print('processing fold #', i)\n",
    "  val_data = train[i * num_val_samples: (i + 1) * num_val_samples]\n",
    "  val_targets = train_l[i * num_val_samples: (i + 1) * num_val_samples]\n",
    "  partial_train_data = np.concatenate([train[:i * num_val_samples],train[(i + 1) * num_val_samples:]],  axis=0)\n",
    "  # print(partial_train_data)\n",
    "  partial_train_targets = np.concatenate([train_l[:i * num_val_samples],train_l[(i + 1) * num_val_samples:]],axis=0)\n",
    "  model = build_model_regular('relu')\n",
    "  model.fit(partial_train_data, partial_train_targets,epochs=num_epochs, batch_size=1, verbose=0)\n",
    "  val_mse, val_mae = model.evaluate(val_data, val_targets, verbose=0)\n",
    "  all_scores_regular.append(val_mae)"
   ]
  },
  {
   "cell_type": "code",
   "execution_count": 58,
   "metadata": {
    "colab": {
     "base_uri": "https://localhost:8080/"
    },
    "id": "B3ENBDAMrHtb",
    "outputId": "721753a6-a2ff-4f04-be56-2d8ad89f5d52"
   },
   "outputs": [
    {
     "name": "stdout",
     "output_type": "stream",
     "text": [
      "processing fold # 0\n",
      "Epoch 1/100\n",
      "106/106 [==============================] - 0s 1ms/step - loss: 0.9137 - mae: 0.6636\n",
      "Epoch 2/100\n",
      "106/106 [==============================] - 0s 1ms/step - loss: 0.8276 - mae: 0.5864\n",
      "Epoch 3/100\n",
      "106/106 [==============================] - 0s 1ms/step - loss: 0.8245 - mae: 0.6050\n",
      "Epoch 4/100\n",
      "106/106 [==============================] - 0s 1ms/step - loss: 0.7712 - mae: 0.5601\n",
      "Epoch 5/100\n",
      "106/106 [==============================] - 0s 1ms/step - loss: 0.7483 - mae: 0.5375\n",
      "Epoch 6/100\n",
      "106/106 [==============================] - 0s 906us/step - loss: 0.8089 - mae: 0.5948\n",
      "Epoch 7/100\n",
      "106/106 [==============================] - 0s 925us/step - loss: 0.7495 - mae: 0.5469\n",
      "Epoch 8/100\n",
      "106/106 [==============================] - 0s 849us/step - loss: 0.7634 - mae: 0.5758\n",
      "Epoch 9/100\n",
      "106/106 [==============================] - 0s 1ms/step - loss: 0.7241 - mae: 0.5406\n",
      "Epoch 10/100\n",
      "106/106 [==============================] - 0s 840us/step - loss: 0.7053 - mae: 0.5407\n",
      "Epoch 11/100\n",
      "106/106 [==============================] - 0s 812us/step - loss: 0.6767 - mae: 0.5191\n",
      "Epoch 12/100\n",
      "106/106 [==============================] - 0s 915us/step - loss: 0.7109 - mae: 0.5442\n",
      "Epoch 13/100\n",
      "106/106 [==============================] - 0s 991us/step - loss: 0.6499 - mae: 0.5139\n",
      "Epoch 14/100\n",
      "106/106 [==============================] - 0s 802us/step - loss: 0.7138 - mae: 0.5491\n",
      "Epoch 15/100\n",
      "106/106 [==============================] - 0s 840us/step - loss: 0.6694 - mae: 0.5337\n",
      "Epoch 16/100\n",
      "106/106 [==============================] - 0s 812us/step - loss: 0.6196 - mae: 0.5060\n",
      "Epoch 17/100\n",
      "106/106 [==============================] - 0s 821us/step - loss: 0.5694 - mae: 0.4568\n",
      "Epoch 18/100\n",
      "106/106 [==============================] - 0s 812us/step - loss: 0.6436 - mae: 0.5428\n",
      "Epoch 19/100\n",
      "106/106 [==============================] - 0s 840us/step - loss: 0.5343 - mae: 0.4643\n",
      "Epoch 20/100\n",
      "106/106 [==============================] - 0s 1ms/step - loss: 0.5525 - mae: 0.4951\n",
      "Epoch 21/100\n",
      "106/106 [==============================] - 0s 849us/step - loss: 0.5573 - mae: 0.4740\n",
      "Epoch 22/100\n",
      "106/106 [==============================] - 0s 821us/step - loss: 0.5468 - mae: 0.5004\n",
      "Epoch 23/100\n",
      "106/106 [==============================] - 0s 852us/step - loss: 0.4363 - mae: 0.4078\n",
      "Epoch 24/100\n",
      "106/106 [==============================] - 0s 1ms/step - loss: 0.5312 - mae: 0.4961\n",
      "Epoch 25/100\n",
      "106/106 [==============================] - 0s 849us/step - loss: 0.5234 - mae: 0.4612\n",
      "Epoch 26/100\n",
      "106/106 [==============================] - 0s 821us/step - loss: 0.4863 - mae: 0.4584\n",
      "Epoch 27/100\n",
      "106/106 [==============================] - 0s 830us/step - loss: 0.4881 - mae: 0.4324\n",
      "Epoch 28/100\n",
      "106/106 [==============================] - 0s 802us/step - loss: 0.3788 - mae: 0.4100\n",
      "Epoch 29/100\n",
      "106/106 [==============================] - 0s 840us/step - loss: 0.4612 - mae: 0.4397\n",
      "Epoch 30/100\n",
      "106/106 [==============================] - 0s 840us/step - loss: 0.4530 - mae: 0.4210\n",
      "Epoch 31/100\n",
      "106/106 [==============================] - 0s 1ms/step - loss: 0.3783 - mae: 0.4001\n",
      "Epoch 32/100\n",
      "106/106 [==============================] - 0s 1ms/step - loss: 0.4928 - mae: 0.4649\n",
      "Epoch 33/100\n",
      "106/106 [==============================] - 0s 840us/step - loss: 0.3700 - mae: 0.3961\n",
      "Epoch 34/100\n",
      "106/106 [==============================] - 0s 972us/step - loss: 0.4856 - mae: 0.4349\n",
      "Epoch 35/100\n",
      "106/106 [==============================] - 0s 934us/step - loss: 0.3398 - mae: 0.3738\n",
      "Epoch 36/100\n",
      "106/106 [==============================] - 0s 793us/step - loss: 0.4408 - mae: 0.4344\n",
      "Epoch 37/100\n",
      "106/106 [==============================] - 0s 849us/step - loss: 0.3363 - mae: 0.3767\n",
      "Epoch 38/100\n",
      "106/106 [==============================] - 0s 849us/step - loss: 0.3982 - mae: 0.3876\n",
      "Epoch 39/100\n",
      "106/106 [==============================] - 0s 859us/step - loss: 0.4446 - mae: 0.3717\n",
      "Epoch 40/100\n",
      "106/106 [==============================] - 0s 793us/step - loss: 0.5231 - mae: 0.4041\n",
      "Epoch 41/100\n",
      "106/106 [==============================] - 0s 849us/step - loss: 0.2866 - mae: 0.3946\n",
      "Epoch 42/100\n",
      "106/106 [==============================] - 0s 1ms/step - loss: 0.2450 - mae: 0.3403\n",
      "Epoch 43/100\n",
      "106/106 [==============================] - 0s 821us/step - loss: 0.3369 - mae: 0.3426\n",
      "Epoch 44/100\n",
      "106/106 [==============================] - 0s 915us/step - loss: 0.4344 - mae: 0.3623\n",
      "Epoch 45/100\n",
      "106/106 [==============================] - 0s 1ms/step - loss: 0.4878 - mae: 0.3853\n",
      "Epoch 46/100\n",
      "106/106 [==============================] - 0s 991us/step - loss: 0.4100 - mae: 0.3903\n",
      "Epoch 47/100\n",
      "106/106 [==============================] - 0s 802us/step - loss: 0.4915 - mae: 0.4147\n",
      "Epoch 48/100\n",
      "106/106 [==============================] - 0s 830us/step - loss: 0.3385 - mae: 0.3562\n",
      "Epoch 49/100\n",
      "106/106 [==============================] - 0s 849us/step - loss: 0.4269 - mae: 0.3916\n",
      "Epoch 50/100\n",
      "106/106 [==============================] - 0s 868us/step - loss: 0.4888 - mae: 0.4129\n",
      "Epoch 51/100\n",
      "106/106 [==============================] - 0s 821us/step - loss: 0.2915 - mae: 0.3191\n",
      "Epoch 52/100\n",
      "106/106 [==============================] - 0s 972us/step - loss: 0.4375 - mae: 0.4290\n",
      "Epoch 53/100\n",
      "106/106 [==============================] - 0s 1ms/step - loss: 0.4326 - mae: 0.3909\n",
      "Epoch 54/100\n",
      "106/106 [==============================] - 0s 755us/step - loss: 0.5051 - mae: 0.4432\n",
      "Epoch 55/100\n",
      "106/106 [==============================] - 0s 830us/step - loss: 0.3873 - mae: 0.3586\n",
      "Epoch 56/100\n",
      "106/106 [==============================] - 0s 991us/step - loss: 0.3276 - mae: 0.3245\n",
      "Epoch 57/100\n",
      "106/106 [==============================] - 0s 906us/step - loss: 0.2708 - mae: 0.3124\n",
      "Epoch 58/100\n",
      "106/106 [==============================] - 0s 764us/step - loss: 0.4087 - mae: 0.3843\n",
      "Epoch 59/100\n",
      "106/106 [==============================] - 0s 783us/step - loss: 0.2512 - mae: 0.2746\n",
      "Epoch 60/100\n",
      "106/106 [==============================] - 0s 774us/step - loss: 0.2498 - mae: 0.3254\n",
      "Epoch 61/100\n",
      "106/106 [==============================] - 0s 741us/step - loss: 0.2370 - mae: 0.3322\n",
      "Epoch 62/100\n",
      "106/106 [==============================] - 0s 802us/step - loss: 0.4124 - mae: 0.3606\n",
      "Epoch 63/100\n",
      "106/106 [==============================] - 0s 793us/step - loss: 0.4721 - mae: 0.3808\n",
      "Epoch 64/100\n",
      "106/106 [==============================] - 0s 1ms/step - loss: 0.2943 - mae: 0.3542\n",
      "Epoch 65/100\n",
      "106/106 [==============================] - 0s 793us/step - loss: 0.2409 - mae: 0.3181\n",
      "Epoch 66/100\n",
      "106/106 [==============================] - 0s 812us/step - loss: 0.2707 - mae: 0.3091\n",
      "Epoch 67/100\n",
      "106/106 [==============================] - 0s 963us/step - loss: 0.3231 - mae: 0.3262\n",
      "Epoch 68/100\n",
      "106/106 [==============================] - 0s 934us/step - loss: 0.2778 - mae: 0.3200\n",
      "Epoch 69/100\n",
      "106/106 [==============================] - 0s 774us/step - loss: 0.4879 - mae: 0.3807\n",
      "Epoch 70/100\n",
      "106/106 [==============================] - 0s 802us/step - loss: 0.1736 - mae: 0.2774\n",
      "Epoch 71/100\n",
      "106/106 [==============================] - 0s 774us/step - loss: 0.3375 - mae: 0.3429\n",
      "Epoch 72/100\n",
      "106/106 [==============================] - 0s 774us/step - loss: 0.2534 - mae: 0.3157\n",
      "Epoch 73/100\n",
      "106/106 [==============================] - 0s 802us/step - loss: 0.2597 - mae: 0.3093\n",
      "Epoch 74/100\n",
      "106/106 [==============================] - 0s 766us/step - loss: 0.2913 - mae: 0.3050\n",
      "Epoch 75/100\n",
      "106/106 [==============================] - 0s 1ms/step - loss: 0.3656 - mae: 0.3573\n",
      "Epoch 76/100\n",
      "106/106 [==============================] - 0s 849us/step - loss: 0.1908 - mae: 0.2554\n",
      "Epoch 77/100\n",
      "106/106 [==============================] - 0s 849us/step - loss: 0.3178 - mae: 0.3434\n",
      "Epoch 78/100\n",
      "106/106 [==============================] - 0s 812us/step - loss: 0.3509 - mae: 0.3486\n",
      "Epoch 79/100\n",
      "106/106 [==============================] - 0s 1ms/step - loss: 0.3247 - mae: 0.3187\n",
      "Epoch 80/100\n",
      "106/106 [==============================] - 0s 1ms/step - loss: 0.1945 - mae: 0.3159\n",
      "Epoch 81/100\n",
      "106/106 [==============================] - 0s 878us/step - loss: 0.2109 - mae: 0.2754\n",
      "Epoch 82/100\n",
      "106/106 [==============================] - 0s 878us/step - loss: 0.2322 - mae: 0.2773\n",
      "Epoch 83/100\n",
      "106/106 [==============================] - 0s 1ms/step - loss: 0.1928 - mae: 0.2750\n",
      "Epoch 84/100\n"
     ]
    },
    {
     "name": "stdout",
     "output_type": "stream",
     "text": [
      "106/106 [==============================] - 0s 840us/step - loss: 0.4311 - mae: 0.3489\n",
      "Epoch 85/100\n",
      "106/106 [==============================] - 0s 764us/step - loss: 0.4477 - mae: 0.3602\n",
      "Epoch 86/100\n",
      "106/106 [==============================] - 0s 862us/step - loss: 0.1029 - mae: 0.2178\n",
      "Epoch 87/100\n",
      "106/106 [==============================] - 0s 776us/step - loss: 0.3330 - mae: 0.2971\n",
      "Epoch 88/100\n",
      "106/106 [==============================] - 0s 764us/step - loss: 0.3529 - mae: 0.3074\n",
      "Epoch 89/100\n",
      "106/106 [==============================] - 0s 915us/step - loss: 0.4273 - mae: 0.3237\n",
      "Epoch 90/100\n",
      "106/106 [==============================] - 0s 1ms/step - loss: 0.3743 - mae: 0.3795\n",
      "Epoch 91/100\n",
      "106/106 [==============================] - 0s 1ms/step - loss: 0.2235 - mae: 0.3205\n",
      "Epoch 92/100\n",
      "106/106 [==============================] - 0s 736us/step - loss: 0.2086 - mae: 0.2749\n",
      "Epoch 93/100\n",
      "106/106 [==============================] - 0s 764us/step - loss: 0.2543 - mae: 0.3097\n",
      "Epoch 94/100\n",
      "106/106 [==============================] - 0s 736us/step - loss: 0.3443 - mae: 0.3476\n",
      "Epoch 95/100\n",
      "106/106 [==============================] - 0s 739us/step - loss: 0.3756 - mae: 0.3171\n",
      "Epoch 96/100\n",
      "106/106 [==============================] - 0s 736us/step - loss: 0.3753 - mae: 0.3576\n",
      "Epoch 97/100\n",
      "106/106 [==============================] - 0s 1ms/step - loss: 0.0999 - mae: 0.2292\n",
      "Epoch 98/100\n",
      "106/106 [==============================] - 0s 717us/step - loss: 0.3176 - mae: 0.3299\n",
      "Epoch 99/100\n",
      "106/106 [==============================] - 0s 746us/step - loss: 0.3055 - mae: 0.3141\n",
      "Epoch 100/100\n",
      "106/106 [==============================] - 0s 755us/step - loss: 0.2476 - mae: 0.2782\n",
      "WARNING:tensorflow:6 out of the last 11 calls to <function Model.make_test_function.<locals>.test_function at 0x000000AA3A14B790> triggered tf.function retracing. Tracing is expensive and the excessive number of tracings could be due to (1) creating @tf.function repeatedly in a loop, (2) passing tensors with different shapes, (3) passing Python objects instead of tensors. For (1), please define your @tf.function outside of the loop. For (2), @tf.function has experimental_relax_shapes=True option that relaxes argument shapes that can avoid unnecessary retracing. For (3), please refer to https://www.tensorflow.org/tutorials/customization/performance#python_or_tensor_args and https://www.tensorflow.org/api_docs/python/tf/function for  more details.\n",
      "1/2 [==============>...............] - ETA: 0s - loss: 0.3925 - mae: 0.4574WARNING:tensorflow:Callbacks method `on_test_batch_end` is slow compared to the batch time (batch time: 0.0000s vs `on_test_batch_end` time: 0.0010s). Check your callbacks.\n",
      "2/2 [==============================] - 0s 3ms/step - loss: 0.3741 - mae: 0.4404\n",
      "processing fold # 1\n",
      "Epoch 1/100\n",
      "106/106 [==============================] - 0s 949us/step - loss: 0.7625 - mae: 0.6721\n",
      "Epoch 2/100\n",
      "106/106 [==============================] - 0s 906us/step - loss: 0.6835 - mae: 0.6131\n",
      "Epoch 3/100\n",
      "106/106 [==============================] - 0s 748us/step - loss: 0.6351 - mae: 0.5594\n",
      "Epoch 4/100\n",
      "106/106 [==============================] - 0s 774us/step - loss: 0.5157 - mae: 0.4847\n",
      "Epoch 5/100\n",
      "106/106 [==============================] - 0s 764us/step - loss: 0.4626 - mae: 0.4577\n",
      "Epoch 6/100\n",
      "106/106 [==============================] - 0s 764us/step - loss: 0.4810 - mae: 0.4496\n",
      "Epoch 7/100\n",
      "106/106 [==============================] - 0s 764us/step - loss: 0.5789 - mae: 0.5231\n",
      "Epoch 8/100\n",
      "106/106 [==============================] - 0s 821us/step - loss: 0.3912 - mae: 0.4491\n",
      "Epoch 9/100\n",
      "106/106 [==============================] - 0s 1ms/step - loss: 0.4149 - mae: 0.4331\n",
      "Epoch 10/100\n",
      "106/106 [==============================] - 0s 727us/step - loss: 0.3490 - mae: 0.4055\n",
      "Epoch 11/100\n",
      "106/106 [==============================] - 0s 812us/step - loss: 0.4756 - mae: 0.4608\n",
      "Epoch 12/100\n",
      "106/106 [==============================] - 0s 774us/step - loss: 0.3770 - mae: 0.4054\n",
      "Epoch 13/100\n",
      "106/106 [==============================] - 0s 925us/step - loss: 0.4024 - mae: 0.4354\n",
      "Epoch 14/100\n",
      "106/106 [==============================] - 0s 944us/step - loss: 0.3745 - mae: 0.4315\n",
      "Epoch 15/100\n",
      "106/106 [==============================] - 0s 783us/step - loss: 0.3582 - mae: 0.4081\n",
      "Epoch 16/100\n",
      "106/106 [==============================] - 0s 746us/step - loss: 0.1856 - mae: 0.3386\n",
      "Epoch 17/100\n",
      "106/106 [==============================] - 0s 774us/step - loss: 0.3723 - mae: 0.3909\n",
      "Epoch 18/100\n",
      "106/106 [==============================] - 0s 764us/step - loss: 0.3618 - mae: 0.3896\n",
      "Epoch 19/100\n",
      "106/106 [==============================] - 0s 755us/step - loss: 0.4203 - mae: 0.4211\n",
      "Epoch 20/100\n",
      "106/106 [==============================] - 0s 860us/step - loss: 0.4363 - mae: 0.4308\n",
      "Epoch 21/100\n",
      "106/106 [==============================] - 0s 878us/step - loss: 0.3211 - mae: 0.3716\n",
      "Epoch 22/100\n",
      "106/106 [==============================] - 0s 714us/step - loss: 0.3336 - mae: 0.3756\n",
      "Epoch 23/100\n",
      "106/106 [==============================] - 0s 727us/step - loss: 0.3119 - mae: 0.3655\n",
      "Epoch 24/100\n",
      "106/106 [==============================] - 0s 802us/step - loss: 0.2717 - mae: 0.3553\n",
      "Epoch 25/100\n",
      "106/106 [==============================] - 0s 887us/step - loss: 0.4002 - mae: 0.3877\n",
      "Epoch 26/100\n",
      "106/106 [==============================] - 0s 896us/step - loss: 0.2861 - mae: 0.3817\n",
      "Epoch 27/100\n",
      "106/106 [==============================] - 0s 783us/step - loss: 0.3318 - mae: 0.4192\n",
      "Epoch 28/100\n",
      "106/106 [==============================] - 0s 764us/step - loss: 0.3001 - mae: 0.3529\n",
      "Epoch 29/100\n",
      "106/106 [==============================] - 0s 821us/step - loss: 0.2500 - mae: 0.3274\n",
      "Epoch 30/100\n",
      "106/106 [==============================] - 0s 802us/step - loss: 0.2199 - mae: 0.3109\n",
      "Epoch 31/100\n",
      "106/106 [==============================] - 0s 764us/step - loss: 0.2366 - mae: 0.3113\n",
      "Epoch 32/100\n",
      "106/106 [==============================] - 0s 972us/step - loss: 0.3345 - mae: 0.3223\n",
      "Epoch 33/100\n",
      "106/106 [==============================] - 0s 887us/step - loss: 0.1801 - mae: 0.3075\n",
      "Epoch 34/100\n",
      "106/106 [==============================] - 0s 736us/step - loss: 0.2644 - mae: 0.3576\n",
      "Epoch 35/100\n",
      "106/106 [==============================] - 0s 812us/step - loss: 0.2733 - mae: 0.3471\n",
      "Epoch 36/100\n",
      "106/106 [==============================] - 0s 925us/step - loss: 0.2795 - mae: 0.3554\n",
      "Epoch 37/100\n",
      "106/106 [==============================] - 0s 840us/step - loss: 0.2656 - mae: 0.3406\n",
      "Epoch 38/100\n",
      "106/106 [==============================] - 0s 840us/step - loss: 0.2974 - mae: 0.3125\n",
      "Epoch 39/100\n",
      "106/106 [==============================] - 0s 868us/step - loss: 0.2623 - mae: 0.3415\n",
      "Epoch 40/100\n",
      "106/106 [==============================] - 0s 802us/step - loss: 0.2444 - mae: 0.3476\n",
      "Epoch 41/100\n",
      "106/106 [==============================] - 0s 812us/step - loss: 0.2422 - mae: 0.3058\n",
      "Epoch 42/100\n",
      "106/106 [==============================] - 0s 774us/step - loss: 0.2269 - mae: 0.3291\n",
      "Epoch 43/100\n",
      "106/106 [==============================] - 0s 859us/step - loss: 0.2715 - mae: 0.3068\n",
      "Epoch 44/100\n",
      "106/106 [==============================] - 0s 1ms/step - loss: 0.2794 - mae: 0.3133\n",
      "Epoch 45/100\n",
      "106/106 [==============================] - 0s 746us/step - loss: 0.3038 - mae: 0.3231\n",
      "Epoch 46/100\n",
      "106/106 [==============================] - 0s 783us/step - loss: 0.2169 - mae: 0.3037\n",
      "Epoch 47/100\n",
      "106/106 [==============================] - 0s 812us/step - loss: 0.1759 - mae: 0.2852\n",
      "Epoch 48/100\n",
      "106/106 [==============================] - 0s 925us/step - loss: 0.3124 - mae: 0.3223\n",
      "Epoch 49/100\n",
      "106/106 [==============================] - 0s 1ms/step - loss: 0.1947 - mae: 0.2805\n",
      "Epoch 50/100\n",
      "106/106 [==============================] - 0s 1ms/step - loss: 0.3131 - mae: 0.3449\n",
      "Epoch 51/100\n",
      "106/106 [==============================] - 0s 1ms/step - loss: 0.2479 - mae: 0.2927\n",
      "Epoch 52/100\n",
      "106/106 [==============================] - 0s 1ms/step - loss: 0.1965 - mae: 0.2781\n",
      "Epoch 53/100\n",
      "106/106 [==============================] - 0s 1ms/step - loss: 0.2442 - mae: 0.3079\n",
      "Epoch 54/100\n",
      "106/106 [==============================] - 0s 1ms/step - loss: 0.2223 - mae: 0.3039\n",
      "Epoch 55/100\n",
      "106/106 [==============================] - 0s 1ms/step - loss: 0.2191 - mae: 0.3045\n",
      "Epoch 56/100\n"
     ]
    },
    {
     "name": "stdout",
     "output_type": "stream",
     "text": [
      "106/106 [==============================] - 0s 1ms/step - loss: 0.2768 - mae: 0.3144\n",
      "Epoch 57/100\n",
      "106/106 [==============================] - 0s 1ms/step - loss: 0.1433 - mae: 0.2539\n",
      "Epoch 58/100\n",
      "106/106 [==============================] - 0s 1ms/step - loss: 0.2002 - mae: 0.3221\n",
      "Epoch 59/100\n",
      "106/106 [==============================] - 0s 998us/step - loss: 0.1842 - mae: 0.2738\n",
      "Epoch 60/100\n",
      "106/106 [==============================] - 0s 889us/step - loss: 0.1683 - mae: 0.3071\n",
      "Epoch 61/100\n",
      "106/106 [==============================] - 0s 1ms/step - loss: 0.1471 - mae: 0.2583\n",
      "Epoch 62/100\n",
      "106/106 [==============================] - 0s 1ms/step - loss: 0.1327 - mae: 0.2622\n",
      "Epoch 63/100\n",
      "106/106 [==============================] - 0s 897us/step - loss: 0.1739 - mae: 0.2568 \n",
      "Epoch 64/100\n",
      "106/106 [==============================] - 0s 783us/step - loss: 0.3261 - mae: 0.3208\n",
      "Epoch 65/100\n",
      "106/106 [==============================] - 0s 736us/step - loss: 0.1776 - mae: 0.2798\n",
      "Epoch 66/100\n",
      "106/106 [==============================] - 0s 780us/step - loss: 0.1348 - mae: 0.2546\n",
      "Epoch 67/100\n",
      "106/106 [==============================] - 0s 840us/step - loss: 0.2019 - mae: 0.2934\n",
      "Epoch 68/100\n",
      "106/106 [==============================] - 0s 887us/step - loss: 0.2711 - mae: 0.3286\n",
      "Epoch 69/100\n",
      "106/106 [==============================] - 0s 727us/step - loss: 0.1256 - mae: 0.2571\n",
      "Epoch 70/100\n",
      "106/106 [==============================] - 0s 717us/step - loss: 0.1856 - mae: 0.2934\n",
      "Epoch 71/100\n",
      "106/106 [==============================] - 0s 746us/step - loss: 0.1616 - mae: 0.2880\n",
      "Epoch 72/100\n",
      "106/106 [==============================] - 0s 746us/step - loss: 0.1827 - mae: 0.2686\n",
      "Epoch 73/100\n",
      "106/106 [==============================] - 0s 764us/step - loss: 0.3009 - mae: 0.2786\n",
      "Epoch 74/100\n",
      "106/106 [==============================] - 0s 925us/step - loss: 0.2279 - mae: 0.2939\n",
      "Epoch 75/100\n",
      "106/106 [==============================] - 0s 849us/step - loss: 0.1832 - mae: 0.2725\n",
      "Epoch 76/100\n",
      "106/106 [==============================] - 0s 708us/step - loss: 0.2765 - mae: 0.3088\n",
      "Epoch 77/100\n",
      "106/106 [==============================] - 0s 736us/step - loss: 0.1769 - mae: 0.2657\n",
      "Epoch 78/100\n",
      "106/106 [==============================] - 0s 727us/step - loss: 0.2987 - mae: 0.3335\n",
      "Epoch 79/100\n",
      "106/106 [==============================] - 0s 897us/step - loss: 0.2450 - mae: 0.2914\n",
      "Epoch 80/100\n",
      "106/106 [==============================] - 0s 868us/step - loss: 0.1728 - mae: 0.2616\n",
      "Epoch 81/100\n",
      "106/106 [==============================] - 0s 755us/step - loss: 0.2519 - mae: 0.3095\n",
      "Epoch 82/100\n",
      "106/106 [==============================] - 0s 736us/step - loss: 0.1903 - mae: 0.2771\n",
      "Epoch 83/100\n",
      "106/106 [==============================] - 0s 755us/step - loss: 0.2710 - mae: 0.3026\n",
      "Epoch 84/100\n",
      "106/106 [==============================] - 0s 736us/step - loss: 0.1576 - mae: 0.2676\n",
      "Epoch 85/100\n",
      "106/106 [==============================] - 0s 753us/step - loss: 0.2178 - mae: 0.2804\n",
      "Epoch 86/100\n",
      "106/106 [==============================] - 0s 913us/step - loss: 0.1884 - mae: 0.2596\n",
      "Epoch 87/100\n",
      "106/106 [==============================] - 0s 906us/step - loss: 0.0950 - mae: 0.2267\n",
      "Epoch 88/100\n",
      "106/106 [==============================] - 0s 736us/step - loss: 0.2104 - mae: 0.2543\n",
      "Epoch 89/100\n",
      "106/106 [==============================] - 0s 774us/step - loss: 0.1688 - mae: 0.2758\n",
      "Epoch 90/100\n",
      "106/106 [==============================] - 0s 735us/step - loss: 0.1173 - mae: 0.2453\n",
      "Epoch 91/100\n",
      "106/106 [==============================] - 0s 906us/step - loss: 0.1891 - mae: 0.2940\n",
      "Epoch 92/100\n",
      "106/106 [==============================] - 0s 897us/step - loss: 0.2177 - mae: 0.2651\n",
      "Epoch 93/100\n",
      "106/106 [==============================] - 0s 793us/step - loss: 0.2354 - mae: 0.2853\n",
      "Epoch 94/100\n",
      "106/106 [==============================] - 0s 727us/step - loss: 0.2310 - mae: 0.3123\n",
      "Epoch 95/100\n",
      "106/106 [==============================] - 0s 755us/step - loss: 0.0896 - mae: 0.2155\n",
      "Epoch 96/100\n",
      "106/106 [==============================] - 0s 764us/step - loss: 0.1620 - mae: 0.2562\n",
      "Epoch 97/100\n",
      "106/106 [==============================] - 0s 749us/step - loss: 0.1507 - mae: 0.2513\n",
      "Epoch 98/100\n",
      "106/106 [==============================] - 0s 887us/step - loss: 0.1452 - mae: 0.2486\n",
      "Epoch 99/100\n",
      "106/106 [==============================] - 0s 911us/step - loss: 0.1399 - mae: 0.2416\n",
      "Epoch 100/100\n",
      "106/106 [==============================] - 0s 764us/step - loss: 0.2384 - mae: 0.2809\n",
      "WARNING:tensorflow:6 out of the last 11 calls to <function Model.make_test_function.<locals>.test_function at 0x000000AA3754A3A0> triggered tf.function retracing. Tracing is expensive and the excessive number of tracings could be due to (1) creating @tf.function repeatedly in a loop, (2) passing tensors with different shapes, (3) passing Python objects instead of tensors. For (1), please define your @tf.function outside of the loop. For (2), @tf.function has experimental_relax_shapes=True option that relaxes argument shapes that can avoid unnecessary retracing. For (3), please refer to https://www.tensorflow.org/tutorials/customization/performance#python_or_tensor_args and https://www.tensorflow.org/api_docs/python/tf/function for  more details.\n",
      "2/2 [==============================] - 0s 0s/step - loss: 0.5792 - mae: 0.5115\n",
      "processing fold # 2\n",
      "Epoch 1/100\n",
      "106/106 [==============================] - 0s 918us/step - loss: 0.7162 - mae: 0.6256\n",
      "Epoch 2/100\n",
      "106/106 [==============================] - 0s 774us/step - loss: 0.4824 - mae: 0.5209\n",
      "Epoch 3/100\n",
      "106/106 [==============================] - 0s 787us/step - loss: 0.4467 - mae: 0.4823\n",
      "Epoch 4/100\n",
      "106/106 [==============================] - 0s 897us/step - loss: 0.3721 - mae: 0.4163\n",
      "Epoch 5/100\n",
      "106/106 [==============================] - 0s 767us/step - loss: 0.4715 - mae: 0.4444\n",
      "Epoch 6/100\n",
      "106/106 [==============================] - 0s 849us/step - loss: 0.3499 - mae: 0.4132\n",
      "Epoch 7/100\n",
      "106/106 [==============================] - 0s 815us/step - loss: 0.3990 - mae: 0.4687\n",
      "Epoch 8/100\n",
      "106/106 [==============================] - 0s 812us/step - loss: 0.4135 - mae: 0.4300\n",
      "Epoch 9/100\n",
      "106/106 [==============================] - 0s 764us/step - loss: 0.2251 - mae: 0.3175\n",
      "Epoch 10/100\n",
      "106/106 [==============================] - 0s 793us/step - loss: 0.2921 - mae: 0.3613\n",
      "Epoch 11/100\n",
      "106/106 [==============================] - 0s 878us/step - loss: 0.3034 - mae: 0.3526\n",
      "Epoch 12/100\n",
      "106/106 [==============================] - 0s 963us/step - loss: 0.4096 - mae: 0.4166\n",
      "Epoch 13/100\n",
      "106/106 [==============================] - 0s 802us/step - loss: 0.2528 - mae: 0.3131\n",
      "Epoch 14/100\n",
      "106/106 [==============================] - 0s 793us/step - loss: 0.2879 - mae: 0.3406\n",
      "Epoch 15/100\n",
      "106/106 [==============================] - 0s 755us/step - loss: 0.4435 - mae: 0.3870\n",
      "Epoch 16/100\n",
      "106/106 [==============================] - 0s 925us/step - loss: 0.4641 - mae: 0.4344\n",
      "Epoch 17/100\n",
      "106/106 [==============================] - 0s 991us/step - loss: 0.2278 - mae: 0.3093\n",
      "Epoch 18/100\n",
      "106/106 [==============================] - 0s 746us/step - loss: 0.3859 - mae: 0.3938\n",
      "Epoch 19/100\n",
      "106/106 [==============================] - 0s 802us/step - loss: 0.2262 - mae: 0.3038\n",
      "Epoch 20/100\n",
      "106/106 [==============================] - 0s 764us/step - loss: 0.2766 - mae: 0.3455\n",
      "Epoch 21/100\n",
      "106/106 [==============================] - 0s 793us/step - loss: 0.1959 - mae: 0.3089\n",
      "Epoch 22/100\n",
      "106/106 [==============================] - 0s 755us/step - loss: 0.3469 - mae: 0.3538\n",
      "Epoch 23/100\n",
      "106/106 [==============================] - 0s 897us/step - loss: 0.2145 - mae: 0.3035\n",
      "Epoch 24/100\n",
      "106/106 [==============================] - 0s 925us/step - loss: 0.3133 - mae: 0.3495\n",
      "Epoch 25/100\n",
      "106/106 [==============================] - 0s 783us/step - loss: 0.1932 - mae: 0.2803\n",
      "Epoch 26/100\n",
      "106/106 [==============================] - 0s 812us/step - loss: 0.3709 - mae: 0.3610\n",
      "Epoch 27/100\n",
      "106/106 [==============================] - 0s 821us/step - loss: 0.3335 - mae: 0.3421\n",
      "Epoch 28/100\n",
      "106/106 [==============================] - 0s 849us/step - loss: 0.2916 - mae: 0.3426\n",
      "Epoch 29/100\n",
      "106/106 [==============================] - 0s 934us/step - loss: 0.3275 - mae: 0.3239\n",
      "Epoch 30/100\n",
      "106/106 [==============================] - 0s 774us/step - loss: 0.2487 - mae: 0.3248\n",
      "Epoch 31/100\n",
      "106/106 [==============================] - 0s 755us/step - loss: 0.1733 - mae: 0.2651\n",
      "Epoch 32/100\n",
      "106/106 [==============================] - 0s 727us/step - loss: 0.3317 - mae: 0.3466\n",
      "Epoch 33/100\n",
      "106/106 [==============================] - 0s 746us/step - loss: 0.1969 - mae: 0.3071\n",
      "Epoch 34/100\n",
      "106/106 [==============================] - 0s 755us/step - loss: 0.3121 - mae: 0.3023\n",
      "Epoch 35/100\n",
      "106/106 [==============================] - 0s 868us/step - loss: 0.2965 - mae: 0.3443\n",
      "Epoch 36/100\n",
      "106/106 [==============================] - 0s 953us/step - loss: 0.2137 - mae: 0.3033\n",
      "Epoch 37/100\n",
      "106/106 [==============================] - 0s 707us/step - loss: 0.1658 - mae: 0.2869\n",
      "Epoch 38/100\n",
      "106/106 [==============================] - 0s 735us/step - loss: 0.2870 - mae: 0.2933\n",
      "Epoch 39/100\n",
      "106/106 [==============================] - 0s 764us/step - loss: 0.1102 - mae: 0.2416\n",
      "Epoch 40/100\n",
      "106/106 [==============================] - 0s 849us/step - loss: 0.3810 - mae: 0.3343\n",
      "Epoch 41/100\n",
      "106/106 [==============================] - 0s 887us/step - loss: 0.2386 - mae: 0.3327\n",
      "Epoch 42/100\n",
      "106/106 [==============================] - 0s 783us/step - loss: 0.1912 - mae: 0.3089\n",
      "Epoch 43/100\n",
      "106/106 [==============================] - 0s 755us/step - loss: 0.2760 - mae: 0.3128\n",
      "Epoch 44/100\n",
      "106/106 [==============================] - 0s 755us/step - loss: 0.1554 - mae: 0.2706\n",
      "Epoch 45/100\n",
      "106/106 [==============================] - 0s 755us/step - loss: 0.1541 - mae: 0.2787\n",
      "Epoch 46/100\n",
      "106/106 [==============================] - 0s 746us/step - loss: 0.3261 - mae: 0.3245\n",
      "Epoch 47/100\n",
      "106/106 [==============================] - 0s 868us/step - loss: 0.1468 - mae: 0.2587\n",
      "Epoch 48/100\n",
      "106/106 [==============================] - 0s 859us/step - loss: 0.2485 - mae: 0.2670\n",
      "Epoch 49/100\n",
      "106/106 [==============================] - 0s 700us/step - loss: 0.2033 - mae: 0.2907\n",
      "Epoch 50/100\n",
      "106/106 [==============================] - 0s 750us/step - loss: 0.3275 - mae: 0.3303\n",
      "Epoch 51/100\n",
      "106/106 [==============================] - 0s 755us/step - loss: 0.2328 - mae: 0.2712\n",
      "Epoch 52/100\n",
      "106/106 [==============================] - 0s 897us/step - loss: 0.2997 - mae: 0.3106\n",
      "Epoch 53/100\n",
      "106/106 [==============================] - 0s 868us/step - loss: 0.1837 - mae: 0.2653\n",
      "Epoch 54/100\n",
      "106/106 [==============================] - 0s 694us/step - loss: 0.2841 - mae: 0.3007\n",
      "Epoch 55/100\n",
      "106/106 [==============================] - 0s 755us/step - loss: 0.2100 - mae: 0.2911\n",
      "Epoch 56/100\n",
      "106/106 [==============================] - 0s 734us/step - loss: 0.1384 - mae: 0.2575\n",
      "Epoch 57/100\n",
      "106/106 [==============================] - 0s 746us/step - loss: 0.1938 - mae: 0.2605\n",
      "Epoch 58/100\n",
      "106/106 [==============================] - 0s 793us/step - loss: 0.2855 - mae: 0.3056\n",
      "Epoch 59/100\n",
      "106/106 [==============================] - 0s 887us/step - loss: 0.1638 - mae: 0.2569\n",
      "Epoch 60/100\n",
      "106/106 [==============================] - 0s 897us/step - loss: 0.1840 - mae: 0.2733\n",
      "Epoch 61/100\n",
      "106/106 [==============================] - 0s 727us/step - loss: 0.1445 - mae: 0.2421\n",
      "Epoch 62/100\n",
      "106/106 [==============================] - 0s 736us/step - loss: 0.2261 - mae: 0.2712\n",
      "Epoch 63/100\n",
      "106/106 [==============================] - 0s 755us/step - loss: 0.2419 - mae: 0.2747\n",
      "Epoch 64/100\n",
      "106/106 [==============================] - 0s 906us/step - loss: 0.1799 - mae: 0.2428\n",
      "Epoch 65/100\n",
      "106/106 [==============================] - 0s 840us/step - loss: 0.1994 - mae: 0.2753\n",
      "Epoch 66/100\n",
      "106/106 [==============================] - 0s 736us/step - loss: 0.1073 - mae: 0.2179\n",
      "Epoch 67/100\n",
      "106/106 [==============================] - 0s 764us/step - loss: 0.3420 - mae: 0.3309\n",
      "Epoch 68/100\n",
      "106/106 [==============================] - 0s 755us/step - loss: 0.1292 - mae: 0.2217\n",
      "Epoch 69/100\n",
      "106/106 [==============================] - 0s 764us/step - loss: 0.2001 - mae: 0.2553\n",
      "Epoch 70/100\n",
      "106/106 [==============================] - 0s 859us/step - loss: 0.2651 - mae: 0.2969\n",
      "Epoch 71/100\n",
      "106/106 [==============================] - 0s 906us/step - loss: 0.1752 - mae: 0.2529\n",
      "Epoch 72/100\n",
      "106/106 [==============================] - 0s 925us/step - loss: 0.2061 - mae: 0.2796\n",
      "Epoch 73/100\n",
      "106/106 [==============================] - 0s 793us/step - loss: 0.3593 - mae: 0.3019\n",
      "Epoch 74/100\n",
      "106/106 [==============================] - 0s 762us/step - loss: 0.1519 - mae: 0.2517\n",
      "Epoch 75/100\n",
      "106/106 [==============================] - 0s 746us/step - loss: 0.1335 - mae: 0.2333\n",
      "Epoch 76/100\n",
      "106/106 [==============================] - 0s 906us/step - loss: 0.1801 - mae: 0.2649\n",
      "Epoch 77/100\n",
      "106/106 [==============================] - 0s 870us/step - loss: 0.3030 - mae: 0.2992\n",
      "Epoch 78/100\n",
      "106/106 [==============================] - 0s 764us/step - loss: 0.1960 - mae: 0.2403\n",
      "Epoch 79/100\n",
      "106/106 [==============================] - 0s 915us/step - loss: 0.2072 - mae: 0.2664\n",
      "Epoch 80/100\n",
      "106/106 [==============================] - 0s 802us/step - loss: 0.1487 - mae: 0.2455\n",
      "Epoch 81/100\n",
      "106/106 [==============================] - 0s 764us/step - loss: 0.1756 - mae: 0.2367\n",
      "Epoch 82/100\n",
      "106/106 [==============================] - 0s 830us/step - loss: 0.0993 - mae: 0.2089\n",
      "Epoch 83/100\n",
      "106/106 [==============================] - 0s 887us/step - loss: 0.1567 - mae: 0.2305\n",
      "Epoch 84/100\n",
      "106/106 [==============================] - 0s 793us/step - loss: 0.0949 - mae: 0.2012\n",
      "Epoch 85/100\n",
      "106/106 [==============================] - 0s 754us/step - loss: 0.2196 - mae: 0.2592\n",
      "Epoch 86/100\n",
      "106/106 [==============================] - 0s 755us/step - loss: 0.2356 - mae: 0.2781\n",
      "Epoch 87/100\n",
      "106/106 [==============================] - 0s 812us/step - loss: 0.1461 - mae: 0.2310\n",
      "Epoch 88/100\n",
      "106/106 [==============================] - 0s 878us/step - loss: 0.1990 - mae: 0.2559\n",
      "Epoch 89/100\n",
      "106/106 [==============================] - 0s 868us/step - loss: 0.2569 - mae: 0.2938\n",
      "Epoch 90/100\n",
      "106/106 [==============================] - 0s 755us/step - loss: 0.2337 - mae: 0.2881\n",
      "Epoch 91/100\n",
      "106/106 [==============================] - 0s 774us/step - loss: 0.1701 - mae: 0.2351\n",
      "Epoch 92/100\n",
      "106/106 [==============================] - 0s 755us/step - loss: 0.2339 - mae: 0.2429\n",
      "Epoch 93/100\n",
      "106/106 [==============================] - 0s 812us/step - loss: 0.2296 - mae: 0.2544\n",
      "Epoch 94/100\n",
      "106/106 [==============================] - 0s 887us/step - loss: 0.3075 - mae: 0.3062\n",
      "Epoch 95/100\n",
      "106/106 [==============================] - 0s 849us/step - loss: 0.1853 - mae: 0.2222 \n",
      "Epoch 96/100\n",
      "106/106 [==============================] - 0s 755us/step - loss: 0.1714 - mae: 0.2490\n",
      "Epoch 97/100\n",
      "106/106 [==============================] - 0s 774us/step - loss: 0.1935 - mae: 0.2669\n",
      "Epoch 98/100\n",
      "106/106 [==============================] - 0s 774us/step - loss: 0.1709 - mae: 0.2356\n",
      "Epoch 99/100\n",
      "106/106 [==============================] - 0s 840us/step - loss: 0.1917 - mae: 0.2778\n",
      "Epoch 100/100\n",
      "106/106 [==============================] - 0s 802us/step - loss: 0.1612 - mae: 0.2740\n",
      "WARNING:tensorflow:6 out of the last 11 calls to <function Model.make_test_function.<locals>.test_function at 0x000000AA3A9805E0> triggered tf.function retracing. Tracing is expensive and the excessive number of tracings could be due to (1) creating @tf.function repeatedly in a loop, (2) passing tensors with different shapes, (3) passing Python objects instead of tensors. For (1), please define your @tf.function outside of the loop. For (2), @tf.function has experimental_relax_shapes=True option that relaxes argument shapes that can avoid unnecessary retracing. For (3), please refer to https://www.tensorflow.org/tutorials/customization/performance#python_or_tensor_args and https://www.tensorflow.org/api_docs/python/tf/function for  more details.\n",
      "2/2 [==============================] - 0s 5ms/step - loss: 0.3110 - mae: 0.3199\n",
      "processing fold # 3\n",
      "Epoch 1/100\n",
      "106/106 [==============================] - 0s 1ms/step - loss: 0.9480 - mae: 0.7660\n",
      "Epoch 2/100\n",
      "106/106 [==============================] - 0s 1ms/step - loss: 0.8338 - mae: 0.6790\n",
      "Epoch 3/100\n",
      "106/106 [==============================] - 0s 1ms/step - loss: 0.6459 - mae: 0.5965\n",
      "Epoch 4/100\n"
     ]
    },
    {
     "name": "stdout",
     "output_type": "stream",
     "text": [
      "106/106 [==============================] - 0s 1ms/step - loss: 0.6250 - mae: 0.5300\n",
      "Epoch 5/100\n",
      "106/106 [==============================] - 0s 1ms/step - loss: 0.5467 - mae: 0.5411\n",
      "Epoch 6/100\n",
      "106/106 [==============================] - 0s 1ms/step - loss: 0.5377 - mae: 0.4695\n",
      "Epoch 7/100\n",
      "106/106 [==============================] - 0s 1ms/step - loss: 0.4412 - mae: 0.4707\n",
      "Epoch 8/100\n",
      "106/106 [==============================] - 0s 1ms/step - loss: 0.4746 - mae: 0.4864\n",
      "Epoch 9/100\n",
      "106/106 [==============================] - 0s 1ms/step - loss: 0.5220 - mae: 0.4526\n",
      "Epoch 10/100\n",
      "106/106 [==============================] - 0s 1ms/step - loss: 0.5359 - mae: 0.4502\n",
      "Epoch 11/100\n",
      "106/106 [==============================] - 0s 1ms/step - loss: 0.4511 - mae: 0.4634\n",
      "Epoch 12/100\n",
      "106/106 [==============================] - 0s 934us/step - loss: 0.2911 - mae: 0.3914\n",
      "Epoch 13/100\n",
      "106/106 [==============================] - 0s 972us/step - loss: 0.3432 - mae: 0.3981\n",
      "Epoch 14/100\n",
      "106/106 [==============================] - 0s 897us/step - loss: 0.4330 - mae: 0.4311\n",
      "Epoch 15/100\n",
      "106/106 [==============================] - 0s 783us/step - loss: 0.4348 - mae: 0.4125\n",
      "Epoch 16/100\n",
      "106/106 [==============================] - 0s 764us/step - loss: 0.4405 - mae: 0.4636\n",
      "Epoch 17/100\n",
      "106/106 [==============================] - 0s 717us/step - loss: 0.1727 - mae: 0.3149\n",
      "Epoch 18/100\n",
      "106/106 [==============================] - 0s 764us/step - loss: 0.4968 - mae: 0.4210\n",
      "Epoch 19/100\n",
      "106/106 [==============================] - 0s 906us/step - loss: 0.3416 - mae: 0.3846\n",
      "Epoch 20/100\n",
      "106/106 [==============================] - 0s 830us/step - loss: 0.4899 - mae: 0.4488\n",
      "Epoch 21/100\n",
      "106/106 [==============================] - 0s 782us/step - loss: 0.5016 - mae: 0.4040\n",
      "Epoch 22/100\n",
      "106/106 [==============================] - 0s 736us/step - loss: 0.3628 - mae: 0.3895\n",
      "Epoch 23/100\n",
      "106/106 [==============================] - 0s 755us/step - loss: 0.2221 - mae: 0.3495\n",
      "Epoch 24/100\n",
      "106/106 [==============================] - 0s 746us/step - loss: 0.4675 - mae: 0.4328\n",
      "Epoch 25/100\n",
      "106/106 [==============================] - 0s 736us/step - loss: 0.3993 - mae: 0.3858\n",
      "Epoch 26/100\n",
      "106/106 [==============================] - 0s 906us/step - loss: 0.2759 - mae: 0.3797\n",
      "Epoch 27/100\n",
      "106/106 [==============================] - 0s 849us/step - loss: 0.3634 - mae: 0.3924\n",
      "Epoch 28/100\n",
      "106/106 [==============================] - 0s 746us/step - loss: 0.2524 - mae: 0.3689\n",
      "Epoch 29/100\n",
      "106/106 [==============================] - 0s 746us/step - loss: 0.3522 - mae: 0.3628\n",
      "Epoch 30/100\n",
      "106/106 [==============================] - 0s 746us/step - loss: 0.3377 - mae: 0.3523\n",
      "Epoch 31/100\n",
      "106/106 [==============================] - 0s 887us/step - loss: 0.2626 - mae: 0.2932\n",
      "Epoch 32/100\n",
      "106/106 [==============================] - 0s 878us/step - loss: 0.2720 - mae: 0.3575\n",
      "Epoch 33/100\n",
      "106/106 [==============================] - 0s 868us/step - loss: 0.4056 - mae: 0.3680\n",
      "Epoch 34/100\n",
      "106/106 [==============================] - 0s 720us/step - loss: 0.3386 - mae: 0.3285\n",
      "Epoch 35/100\n",
      "106/106 [==============================] - 0s 764us/step - loss: 0.3119 - mae: 0.3557\n",
      "Epoch 36/100\n",
      "106/106 [==============================] - 0s 746us/step - loss: 0.2393 - mae: 0.3516\n",
      "Epoch 37/100\n",
      "106/106 [==============================] - 0s 755us/step - loss: 0.3147 - mae: 0.3701\n",
      "Epoch 38/100\n",
      "106/106 [==============================] - 0s 887us/step - loss: 0.3061 - mae: 0.3357\n",
      "Epoch 39/100\n",
      "106/106 [==============================] - 0s 914us/step - loss: 0.3491 - mae: 0.3499\n",
      "Epoch 40/100\n",
      "106/106 [==============================] - 0s 714us/step - loss: 0.3222 - mae: 0.3684\n",
      "Epoch 41/100\n",
      "106/106 [==============================] - 0s 727us/step - loss: 0.2984 - mae: 0.3635\n",
      "Epoch 42/100\n",
      "106/106 [==============================] - 0s 708us/step - loss: 0.3220 - mae: 0.3479\n",
      "Epoch 43/100\n",
      "106/106 [==============================] - 0s 906us/step - loss: 0.3043 - mae: 0.3339\n",
      "Epoch 44/100\n",
      "106/106 [==============================] - 0s 736us/step - loss: 0.3776 - mae: 0.3951\n",
      "Epoch 45/100\n",
      "106/106 [==============================] - 0s 868us/step - loss: 0.4548 - mae: 0.3752\n",
      "Epoch 46/100\n",
      "106/106 [==============================] - 0s 698us/step - loss: 0.2059 - mae: 0.2921\n",
      "Epoch 47/100\n",
      "106/106 [==============================] - 0s 731us/step - loss: 0.3331 - mae: 0.3402\n",
      "Epoch 48/100\n",
      "106/106 [==============================] - 0s 736us/step - loss: 0.3201 - mae: 0.3184\n",
      "Epoch 49/100\n",
      "106/106 [==============================] - 0s 755us/step - loss: 0.3666 - mae: 0.3417\n",
      "Epoch 50/100\n",
      "106/106 [==============================] - 0s 862us/step - loss: 0.3380 - mae: 0.3634\n",
      "Epoch 51/100\n",
      "106/106 [==============================] - 0s 942us/step - loss: 0.3789 - mae: 0.3546\n",
      "Epoch 52/100\n",
      "106/106 [==============================] - 0s 717us/step - loss: 0.2647 - mae: 0.3413\n",
      "Epoch 53/100\n",
      "106/106 [==============================] - 0s 746us/step - loss: 0.2199 - mae: 0.3194\n",
      "Epoch 54/100\n",
      "106/106 [==============================] - 0s 736us/step - loss: 0.2826 - mae: 0.3573\n",
      "Epoch 55/100\n",
      "106/106 [==============================] - 0s 887us/step - loss: 0.3885 - mae: 0.3538\n",
      "Epoch 56/100\n",
      "106/106 [==============================] - 0s 755us/step - loss: 0.2239 - mae: 0.2988\n",
      "Epoch 57/100\n",
      "106/106 [==============================] - 0s 915us/step - loss: 0.2960 - mae: 0.3488\n",
      "Epoch 58/100\n",
      "106/106 [==============================] - 0s 720us/step - loss: 0.2150 - mae: 0.2833\n",
      "Epoch 59/100\n",
      "106/106 [==============================] - 0s 723us/step - loss: 0.3026 - mae: 0.3307\n",
      "Epoch 60/100\n",
      "106/106 [==============================] - 0s 764us/step - loss: 0.3216 - mae: 0.3503\n",
      "Epoch 61/100\n",
      "106/106 [==============================] - 0s 774us/step - loss: 0.2666 - mae: 0.3149\n",
      "Epoch 62/100\n",
      "106/106 [==============================] - 0s 897us/step - loss: 0.1963 - mae: 0.3006\n",
      "Epoch 63/100\n",
      "106/106 [==============================] - 0s 925us/step - loss: 0.2563 - mae: 0.3138\n",
      "Epoch 64/100\n",
      "106/106 [==============================] - 0s 755us/step - loss: 0.2863 - mae: 0.3060\n",
      "Epoch 65/100\n",
      "106/106 [==============================] - 0s 755us/step - loss: 0.2191 - mae: 0.2794\n",
      "Epoch 66/100\n",
      "106/106 [==============================] - 0s 727us/step - loss: 0.2787 - mae: 0.3317\n",
      "Epoch 67/100\n",
      "106/106 [==============================] - 0s 853us/step - loss: 0.3765 - mae: 0.3440\n",
      "Epoch 68/100\n",
      "106/106 [==============================] - 0s 783us/step - loss: 0.1846 - mae: 0.2999\n",
      "Epoch 69/100\n",
      "106/106 [==============================] - 0s 915us/step - loss: 0.1628 - mae: 0.2740\n",
      "Epoch 70/100\n",
      "106/106 [==============================] - 0s 736us/step - loss: 0.2348 - mae: 0.3243\n",
      "Epoch 71/100\n",
      "106/106 [==============================] - 0s 764us/step - loss: 0.2001 - mae: 0.2895\n",
      "Epoch 72/100\n",
      "106/106 [==============================] - 0s 774us/step - loss: 0.2548 - mae: 0.3130\n",
      "Epoch 73/100\n",
      "106/106 [==============================] - 0s 755us/step - loss: 0.3460 - mae: 0.3222\n",
      "Epoch 74/100\n",
      "106/106 [==============================] - 0s 906us/step - loss: 0.3070 - mae: 0.3363\n",
      "Epoch 75/100\n",
      "106/106 [==============================] - 0s 906us/step - loss: 0.1579 - mae: 0.2575\n",
      "Epoch 76/100\n",
      "106/106 [==============================] - 0s 727us/step - loss: 0.2282 - mae: 0.2967\n",
      "Epoch 77/100\n",
      "106/106 [==============================] - 0s 764us/step - loss: 0.2653 - mae: 0.3003\n",
      "Epoch 78/100\n",
      "106/106 [==============================] - 0s 764us/step - loss: 0.2085 - mae: 0.2887\n",
      "Epoch 79/100\n",
      "106/106 [==============================] - 0s 906us/step - loss: 0.1656 - mae: 0.2573\n",
      "Epoch 80/100\n",
      "106/106 [==============================] - 0s 783us/step - loss: 0.2158 - mae: 0.2769\n",
      "Epoch 81/100\n",
      "106/106 [==============================] - 0s 934us/step - loss: 0.3600 - mae: 0.3632\n",
      "Epoch 82/100\n",
      "106/106 [==============================] - 0s 821us/step - loss: 0.2361 - mae: 0.2865\n",
      "Epoch 83/100\n",
      "106/106 [==============================] - 0s 755us/step - loss: 0.3524 - mae: 0.3498\n",
      "Epoch 84/100\n",
      "106/106 [==============================] - 0s 764us/step - loss: 0.3071 - mae: 0.3267\n",
      "Epoch 85/100\n",
      "106/106 [==============================] - 0s 783us/step - loss: 0.2927 - mae: 0.3272\n",
      "Epoch 86/100\n",
      "106/106 [==============================] - 0s 925us/step - loss: 0.2911 - mae: 0.3014\n",
      "Epoch 87/100\n"
     ]
    },
    {
     "name": "stdout",
     "output_type": "stream",
     "text": [
      "106/106 [==============================] - 0s 887us/step - loss: 0.2623 - mae: 0.3185\n",
      "Epoch 88/100\n",
      "106/106 [==============================] - 0s 731us/step - loss: 0.3006 - mae: 0.3311\n",
      "Epoch 89/100\n",
      "106/106 [==============================] - 0s 727us/step - loss: 0.1832 - mae: 0.2879\n",
      "Epoch 90/100\n",
      "106/106 [==============================] - 0s 732us/step - loss: 0.2284 - mae: 0.2754\n",
      "Epoch 91/100\n",
      "106/106 [==============================] - 0s 878us/step - loss: 0.3801 - mae: 0.3474\n",
      "Epoch 92/100\n",
      "106/106 [==============================] - 0s 849us/step - loss: 0.2098 - mae: 0.2985\n",
      "Epoch 93/100\n",
      "106/106 [==============================] - 0s 915us/step - loss: 0.2999 - mae: 0.2853\n",
      "Epoch 94/100\n",
      "106/106 [==============================] - 0s 698us/step - loss: 0.2019 - mae: 0.2987\n",
      "Epoch 95/100\n",
      "106/106 [==============================] - 0s 735us/step - loss: 0.2610 - mae: 0.2908\n",
      "Epoch 96/100\n",
      "106/106 [==============================] - 0s 736us/step - loss: 0.1217 - mae: 0.2381\n",
      "Epoch 97/100\n",
      "106/106 [==============================] - 0s 717us/step - loss: 0.3009 - mae: 0.3283\n",
      "Epoch 98/100\n",
      "106/106 [==============================] - 0s 881us/step - loss: 0.1857 - mae: 0.2846\n",
      "Epoch 99/100\n",
      "106/106 [==============================] - 0s 881us/step - loss: 0.1754 - mae: 0.2477\n",
      "Epoch 100/100\n",
      "106/106 [==============================] - 0s 727us/step - loss: 0.1196 - mae: 0.2546\n",
      "WARNING:tensorflow:6 out of the last 11 calls to <function Model.make_test_function.<locals>.test_function at 0x000000AA37588C10> triggered tf.function retracing. Tracing is expensive and the excessive number of tracings could be due to (1) creating @tf.function repeatedly in a loop, (2) passing tensors with different shapes, (3) passing Python objects instead of tensors. For (1), please define your @tf.function outside of the loop. For (2), @tf.function has experimental_relax_shapes=True option that relaxes argument shapes that can avoid unnecessary retracing. For (3), please refer to https://www.tensorflow.org/tutorials/customization/performance#python_or_tensor_args and https://www.tensorflow.org/api_docs/python/tf/function for  more details.\n",
      "2/2 [==============================] - 0s 0s/step - loss: 0.1473 - mae: 0.2697\n"
     ]
    }
   ],
   "source": [
    "#k-fold validtion with dropout\n",
    "import numpy as np\n",
    "k =  4\n",
    "num_val_samples = len(train) // k\n",
    "num_epochs = 100\n",
    "all_scores_drop = []\n",
    "for i in range(k):\n",
    "  print('processing fold #', i)\n",
    "  val_data = train[i * num_val_samples: (i + 1) * num_val_samples]\n",
    "  val_targets = train_l[i * num_val_samples: (i + 1) * num_val_samples]\n",
    "  partial_train_data = np.concatenate([train[:i * num_val_samples],train[(i + 1) * num_val_samples:]],  axis=0)\n",
    "  # print(partial_train_data)\n",
    "  partial_train_targets = np.concatenate([train_l[:i * num_val_samples],train_l[(i + 1) * num_val_samples:]],axis=0)\n",
    "  model = build_model_drop('relu')\n",
    "  model.fit(partial_train_data, partial_train_targets,epochs=num_epochs, batch_size=1, verbose=1)\n",
    "  val_mse, val_mae = model.evaluate(val_data, val_targets, verbose=1)\n",
    "  all_scores_drop.append(val_mae)"
   ]
  },
  {
   "cell_type": "markdown",
   "metadata": {
    "id": "hSlCIMtT_Gfd"
   },
   "source": [
    "# Scores\n",
    "## here we will see  MAE mean absolute Error scores of all model which we have saved in the list during each training in above section"
   ]
  },
  {
   "cell_type": "code",
   "execution_count": 59,
   "metadata": {
    "colab": {
     "base_uri": "https://localhost:8080/"
    },
    "id": "We_C7ivQsh8Y",
    "outputId": "27147bd9-2b3a-4976-fa0d-252bdb5e8e4b"
   },
   "outputs": [
    {
     "data": {
      "text/plain": [
       "[0.33495011925697327,\n",
       " 0.27308401465415955,\n",
       " 0.3036802113056183,\n",
       " 0.28101471066474915]"
      ]
     },
     "execution_count": 59,
     "metadata": {},
     "output_type": "execute_result"
    }
   ],
   "source": [
    "all_scores_relu"
   ]
  },
  {
   "cell_type": "code",
   "execution_count": 60,
   "metadata": {
    "colab": {
     "base_uri": "https://localhost:8080/"
    },
    "id": "Y1gBTB5DrDA9",
    "outputId": "c4e8dc8a-6999-4f43-a60e-87aaf5727a83"
   },
   "outputs": [
    {
     "data": {
      "text/plain": [
       "[0.28443461656570435,\n",
       " 0.3512413501739502,\n",
       " 0.3928679823875427,\n",
       " 0.25023216009140015]"
      ]
     },
     "execution_count": 60,
     "metadata": {},
     "output_type": "execute_result"
    }
   ],
   "source": [
    "all_scores_tanh"
   ]
  },
  {
   "cell_type": "code",
   "execution_count": 61,
   "metadata": {
    "colab": {
     "base_uri": "https://localhost:8080/"
    },
    "id": "Zf7O0WnN9bVF",
    "outputId": "32c9623c-1723-4757-87c2-6cffb1d55a8d"
   },
   "outputs": [
    {
     "data": {
      "text/plain": [
       "[0.36704158782958984,\n",
       " 0.21380186080932617,\n",
       " 0.3569892346858978,\n",
       " 0.33033889532089233]"
      ]
     },
     "execution_count": 61,
     "metadata": {},
     "output_type": "execute_result"
    }
   ],
   "source": [
    "all_scores_regular"
   ]
  },
  {
   "cell_type": "code",
   "execution_count": 62,
   "metadata": {
    "colab": {
     "base_uri": "https://localhost:8080/"
    },
    "id": "jB8LxbiI0cpx",
    "outputId": "d0768849-4885-4e42-e4b4-b84b9b9f9b6a"
   },
   "outputs": [
    {
     "data": {
      "text/plain": [
       "[0.44041693210601807,\n",
       " 0.5115180015563965,\n",
       " 0.31985074281692505,\n",
       " 0.26967814564704895]"
      ]
     },
     "execution_count": 62,
     "metadata": {},
     "output_type": "execute_result"
    }
   ],
   "source": [
    "all_scores_drop"
   ]
  },
  {
   "cell_type": "markdown",
   "metadata": {
    "id": "wNxMnoqoAYd-"
   },
   "source": [
    "# training on the training data\n",
    "## here we will call each model separately from Models section and train on the training data and evaluate on the test data"
   ]
  },
  {
   "cell_type": "code",
   "execution_count": 63,
   "metadata": {
    "colab": {
     "base_uri": "https://localhost:8080/"
    },
    "id": "VORrpehRb7UR",
    "outputId": "3d7a5162-c462-4fbb-837e-19e7fcdb6c67"
   },
   "outputs": [
    {
     "name": "stdout",
     "output_type": "stream",
     "text": [
      "WARNING:tensorflow:6 out of the last 11 calls to <function Model.make_test_function.<locals>.test_function at 0x000000AA3754ADC0> triggered tf.function retracing. Tracing is expensive and the excessive number of tracings could be due to (1) creating @tf.function repeatedly in a loop, (2) passing tensors with different shapes, (3) passing Python objects instead of tensors. For (1), please define your @tf.function outside of the loop. For (2), @tf.function has experimental_relax_shapes=True option that relaxes argument shapes that can avoid unnecessary retracing. For (3), please refer to https://www.tensorflow.org/tutorials/customization/performance#python_or_tensor_args and https://www.tensorflow.org/api_docs/python/tf/function for  more details.\n",
      "2/2 [==============================] - 0s 7ms/step - loss: 0.1062 - mae: 0.2442\n"
     ]
    }
   ],
   "source": [
    "\n",
    "model_tanh = build_model('tanh')\n",
    "model_tanh.fit(train, train_l,epochs= 100, batch_size=1, verbose=0)\n",
    "test_mse_score, test_mae_score = model_tanh.evaluate(test, test_l)"
   ]
  },
  {
   "cell_type": "code",
   "execution_count": 64,
   "metadata": {
    "colab": {
     "base_uri": "https://localhost:8080/"
    },
    "id": "Ttydi9BzUnf5",
    "outputId": "bbbeea4f-7660-4016-a152-a4c566c50370"
   },
   "outputs": [
    {
     "name": "stdout",
     "output_type": "stream",
     "text": [
      "WARNING:tensorflow:6 out of the last 11 calls to <function Model.make_test_function.<locals>.test_function at 0x000000AA3A980430> triggered tf.function retracing. Tracing is expensive and the excessive number of tracings could be due to (1) creating @tf.function repeatedly in a loop, (2) passing tensors with different shapes, (3) passing Python objects instead of tensors. For (1), please define your @tf.function outside of the loop. For (2), @tf.function has experimental_relax_shapes=True option that relaxes argument shapes that can avoid unnecessary retracing. For (3), please refer to https://www.tensorflow.org/tutorials/customization/performance#python_or_tensor_args and https://www.tensorflow.org/api_docs/python/tf/function for  more details.\n",
      "2/2 [==============================] - 0s 0s/step - loss: 0.1030 - mae: 0.2567\n"
     ]
    }
   ],
   "source": [
    "model_relu = build_model('relu')\n",
    "model_relu.fit(train, train_l,epochs= 100, batch_size=1, verbose=0)\n",
    "test_mse_score, test_mae_score = model_relu.evaluate(test, test_l)"
   ]
  },
  {
   "cell_type": "code",
   "execution_count": 67,
   "metadata": {
    "colab": {
     "base_uri": "https://localhost:8080/"
    },
    "id": "oZFYcfHftNlY",
    "outputId": "7b3379dd-a3c7-489c-92dc-2f4d6d198f6f"
   },
   "outputs": [
    {
     "name": "stdout",
     "output_type": "stream",
     "text": [
      "WARNING:tensorflow:6 out of the last 11 calls to <function Model.make_test_function.<locals>.test_function at 0x000000AA3F93E040> triggered tf.function retracing. Tracing is expensive and the excessive number of tracings could be due to (1) creating @tf.function repeatedly in a loop, (2) passing tensors with different shapes, (3) passing Python objects instead of tensors. For (1), please define your @tf.function outside of the loop. For (2), @tf.function has experimental_relax_shapes=True option that relaxes argument shapes that can avoid unnecessary retracing. For (3), please refer to https://www.tensorflow.org/tutorials/customization/performance#python_or_tensor_args and https://www.tensorflow.org/api_docs/python/tf/function for  more details.\n",
      "2/2 [==============================] - 0s 0s/step - loss: 0.0934 - mae: 0.2098\n"
     ]
    }
   ],
   "source": [
    "model_regular = build_model_regular('relu')\n",
    "model_regular.fit(train, train_l,epochs= 100, batch_size=1, verbose=0)\n",
    "test_mse_score, test_mae_score = model_regular.evaluate(test, test_l)"
   ]
  },
  {
   "cell_type": "code",
   "execution_count": 68,
   "metadata": {
    "colab": {
     "base_uri": "https://localhost:8080/"
    },
    "id": "ELSZLSCb0g7c",
    "outputId": "2400eba5-f115-4563-951b-7e57591c3614"
   },
   "outputs": [
    {
     "name": "stdout",
     "output_type": "stream",
     "text": [
      "WARNING:tensorflow:6 out of the last 11 calls to <function Model.make_test_function.<locals>.test_function at 0x000000AA3F44ACA0> triggered tf.function retracing. Tracing is expensive and the excessive number of tracings could be due to (1) creating @tf.function repeatedly in a loop, (2) passing tensors with different shapes, (3) passing Python objects instead of tensors. For (1), please define your @tf.function outside of the loop. For (2), @tf.function has experimental_relax_shapes=True option that relaxes argument shapes that can avoid unnecessary retracing. For (3), please refer to https://www.tensorflow.org/tutorials/customization/performance#python_or_tensor_args and https://www.tensorflow.org/api_docs/python/tf/function for  more details.\n",
      "2/2 [==============================] - 0s 0s/step - loss: 0.1423 - mae: 0.2574\n"
     ]
    }
   ],
   "source": [
    "model_drop = build_model_drop('relu')\n",
    "model_drop.fit(train, train_l,epochs= 100, batch_size=1, verbose=0)\n",
    "test_mse_score, test_mae_score = model_drop.evaluate(test, test_l)"
   ]
  },
  {
   "cell_type": "markdown",
   "metadata": {
    "id": "TV42POJyA-Na"
   },
   "source": [
    "# Prediction Section\n",
    "## here we will predict our prices of our test dataset with each model which we have trained in training section\n",
    "## Note that here we will use the reverse process of Normalization to retrieve our values of price in thousand of dollars i.e. x = (y - mean)/ std ==>> we will calculate( y = x * std + mean) and then we will compare it with our target values"
   ]
  },
  {
   "cell_type": "code",
   "execution_count": 217,
   "metadata": {
    "colab": {
     "base_uri": "https://localhost:8080/"
    },
    "id": "_5QU9eNHg5_b",
    "outputId": "31fcfc8a-6ea9-4c0a-9095-079dacb87f4d"
   },
   "outputs": [
    {
     "data": {
      "text/plain": [
       "array([ 0.01414832,  0.3725343 ,  1.3658801 ,  2.122337  , -1.004718  ,\n",
       "       -0.7045773 , -0.5886972 , -0.97443527, -0.763189  , -0.52312535,\n",
       "       -0.05301089, -0.3704908 , -0.5449216 , -0.80397296, -0.5536523 ,\n",
       "       -0.26059392,  0.6062484 ,  1.4864004 ,  2.5404336 ,  3.367835  ,\n",
       "       -0.8779702 , -0.09159691,  0.18192424, -0.7802841 , -0.50065756,\n",
       "       -0.9622245 , -0.6813769 , -0.5409531 ,  0.01463675,  0.12453365,\n",
       "        0.46643507, -0.1806134 ,  0.2687428 ,  0.4299249 ,  0.45129374,\n",
       "       -0.07511237,  2.3382235 ,  2.200547  , -0.49870384,  0.20280465,\n",
       "        0.26019526, -0.68430746, -0.7224051 , -0.65524584, -0.98066276,\n",
       "       -0.7889537 , -0.7547636 , -0.6888255 , -0.6277716 , -0.4983375 ,\n",
       "       -0.6020069 , -0.4139611 , -0.22347318, -0.54107517,  0.28217462,\n",
       "       -0.68430746, -0.6574438 , -0.59638995, -0.01027321,  0.056886  ,\n",
       "       -0.1329914 , -0.05362143,  0.3181964 ,  0.6155285 ], dtype=float32)"
      ]
     },
     "execution_count": 217,
     "metadata": {
      "tags": []
     },
     "output_type": "execute_result"
    }
   ],
   "source": [
    "test_l"
   ]
  },
  {
   "cell_type": "code",
   "execution_count": 69,
   "metadata": {
    "id": "mua_UYVJ7YNd"
   },
   "outputs": [],
   "source": [
    "def predict(model, m):\n",
    "  print(f\" the Actual value Price was : {test_l[m]* std_label + mean_label} \" )\n",
    "  return(f\" the predicted Price was : {(model.predict(test[m:m+1].reshape(1,test.shape[1]))) * std_label + mean_label} \")\n"
   ]
  },
  {
   "cell_type": "code",
   "execution_count": 70,
   "metadata": {
    "colab": {
     "base_uri": "https://localhost:8080/",
     "height": 89
    },
    "id": "ofX9VqMVbhBC",
    "outputId": "670abf77-949d-422b-e6e2-4d3527bf1ef4"
   },
   "outputs": [
    {
     "name": "stdout",
     "output_type": "stream",
     "text": [
      " the Actual value Price was : 24565.000309357747 \n"
     ]
    },
    {
     "data": {
      "text/plain": [
       "' the predicted Price was : [[18976.547]] '"
      ]
     },
     "execution_count": 70,
     "metadata": {},
     "output_type": "execute_result"
    }
   ],
   "source": [
    "x_tanh = predict(model_tanh,2)\n",
    "x_tanh"
   ]
  },
  {
   "cell_type": "code",
   "execution_count": 71,
   "metadata": {
    "colab": {
     "base_uri": "https://localhost:8080/",
     "height": 89
    },
    "id": "4Z0UyL_LOImw",
    "outputId": "bf7c9059-ff55-48f0-b0e3-0cab32005c0b"
   },
   "outputs": [
    {
     "name": "stdout",
     "output_type": "stream",
     "text": [
      " the Actual value Price was : 24565.000309357747 \n"
     ]
    },
    {
     "data": {
      "text/plain": [
       "' the predicted Price was : [[22813.941]] '"
      ]
     },
     "execution_count": 71,
     "metadata": {},
     "output_type": "execute_result"
    }
   ],
   "source": [
    "x_relu = predict(model_relu,2)\n",
    "x_relu"
   ]
  },
  {
   "cell_type": "code",
   "execution_count": 72,
   "metadata": {
    "colab": {
     "base_uri": "https://localhost:8080/",
     "height": 89
    },
    "id": "nlQRNOo0tb8J",
    "outputId": "62ce4e74-0d8e-4d13-946f-b6251e6314e7"
   },
   "outputs": [
    {
     "name": "stdout",
     "output_type": "stream",
     "text": [
      " the Actual value Price was : 24565.000309357747 \n"
     ]
    },
    {
     "data": {
      "text/plain": [
       "' the predicted Price was : [[24156.934]] '"
      ]
     },
     "execution_count": 72,
     "metadata": {},
     "output_type": "execute_result"
    }
   ],
   "source": [
    "x_regular = predict(model_regular,2)\n",
    "x_regular"
   ]
  },
  {
   "cell_type": "code",
   "execution_count": 222,
   "metadata": {
    "colab": {
     "base_uri": "https://localhost:8080/",
     "height": 89
    },
    "id": "uW5Y65pP0qET",
    "outputId": "3428f362-cea1-4219-9843-928105cf1fac"
   },
   "outputs": [
    {
     "name": "stdout",
     "output_type": "stream",
     "text": [
      " the Actual value Price was : 24565.000309357743 \n",
      "WARNING:tensorflow:8 out of the last 11 calls to <function Model.make_predict_function.<locals>.predict_function at 0x7fa6aa2a0ef0> triggered tf.function retracing. Tracing is expensive and the excessive number of tracings could be due to (1) creating @tf.function repeatedly in a loop, (2) passing tensors with different shapes, (3) passing Python objects instead of tensors. For (1), please define your @tf.function outside of the loop. For (2), @tf.function has experimental_relax_shapes=True option that relaxes argument shapes that can avoid unnecessary retracing. For (3), please refer to https://www.tensorflow.org/guide/function#controlling_retracing and https://www.tensorflow.org/api_docs/python/tf/function for  more details.\n"
     ]
    },
    {
     "data": {
      "application/vnd.google.colaboratory.intrinsic+json": {
       "type": "string"
      },
      "text/plain": [
       "' the predicted Price was : [[22173.531]] '"
      ]
     },
     "execution_count": 222,
     "metadata": {
      "tags": []
     },
     "output_type": "execute_result"
    }
   ],
   "source": [
    "x_drop = predict(model_drop,2)\n",
    "x_drop"
   ]
  },
  {
   "cell_type": "code",
   "execution_count": 77,
   "metadata": {
    "id": "pYpye06_xzjc"
   },
   "outputs": [],
   "source": [
    "def plot_fn(mod):\n",
    "  y_true = test_l* std_label + mean_label\n",
    "  y_pred = mod.predict(test) * std_label + mean_label\n",
    "  return y_true , y_pred.flatten()"
   ]
  },
  {
   "cell_type": "code",
   "execution_count": 78,
   "metadata": {
    "id": "leNMnlxfx5nt"
   },
   "outputs": [],
   "source": [
    "import numpy as np\n",
    "import matplotlib.pyplot as plt\n",
    "%matplotlib inline\n",
    "def plotting(mod, label):\n",
    "  y_true, y_pred = plot_fn(mod)\n",
    "  coef = np.polyfit(y_true,y_pred,1)\n",
    "  poly1d_fn = np.poly1d(coef) \n",
    "  # poly1d_fn is now a function which takes in x and returns an estimate for y\n",
    "  plt.figure()\n",
    "  plt.plot(y_true,y_pred, 'yo', y_true, poly1d_fn(y_true), '--k')\n",
    "  plt.title(label)\n",
    "  plt.xlabel('Thousand Dollar True' )\n",
    "  plt.ylabel('Thousand Dollar Predictions' )\n",
    "  plt.xlim(0, 50000)\n",
    "  plt.ylim(0, 50000)"
   ]
  },
  {
   "cell_type": "code",
   "execution_count": 79,
   "metadata": {
    "colab": {
     "base_uri": "https://localhost:8080/",
     "height": 1000
    },
    "id": "3rQG1a79x72V",
    "outputId": "4d95f3da-c02f-49de-a897-21422cc9d507"
   },
   "outputs": [
    {
     "name": "stdout",
     "output_type": "stream",
     "text": [
      "WARNING:tensorflow:5 out of the last 6 calls to <function Model.make_predict_function.<locals>.predict_function at 0x000000AA3A980C10> triggered tf.function retracing. Tracing is expensive and the excessive number of tracings could be due to (1) creating @tf.function repeatedly in a loop, (2) passing tensors with different shapes, (3) passing Python objects instead of tensors. For (1), please define your @tf.function outside of the loop. For (2), @tf.function has experimental_relax_shapes=True option that relaxes argument shapes that can avoid unnecessary retracing. For (3), please refer to https://www.tensorflow.org/tutorials/customization/performance#python_or_tensor_args and https://www.tensorflow.org/api_docs/python/tf/function for  more details.\n",
      "WARNING:tensorflow:6 out of the last 8 calls to <function Model.make_predict_function.<locals>.predict_function at 0x000000AA3DC0A1F0> triggered tf.function retracing. Tracing is expensive and the excessive number of tracings could be due to (1) creating @tf.function repeatedly in a loop, (2) passing tensors with different shapes, (3) passing Python objects instead of tensors. For (1), please define your @tf.function outside of the loop. For (2), @tf.function has experimental_relax_shapes=True option that relaxes argument shapes that can avoid unnecessary retracing. For (3), please refer to https://www.tensorflow.org/tutorials/customization/performance#python_or_tensor_args and https://www.tensorflow.org/api_docs/python/tf/function for  more details.\n",
      "WARNING:tensorflow:7 out of the last 10 calls to <function Model.make_predict_function.<locals>.predict_function at 0x000000AA409F0160> triggered tf.function retracing. Tracing is expensive and the excessive number of tracings could be due to (1) creating @tf.function repeatedly in a loop, (2) passing tensors with different shapes, (3) passing Python objects instead of tensors. For (1), please define your @tf.function outside of the loop. For (2), @tf.function has experimental_relax_shapes=True option that relaxes argument shapes that can avoid unnecessary retracing. For (3), please refer to https://www.tensorflow.org/tutorials/customization/performance#python_or_tensor_args and https://www.tensorflow.org/api_docs/python/tf/function for  more details.\n"
     ]
    },
    {
     "data": {
      "image/png": "[encoded data removed]",
      "text/plain": [
       "<Figure size 432x288 with 1 Axes>"
      ]
     },
     "metadata": {
      "needs_background": "light"
     },
     "output_type": "display_data"
    },
    {
     "data": {
      "image/png": "[encoded data removed]",
      "text/plain": [
       "<Figure size 432x288 with 1 Axes>"
      ]
     },
     "metadata": {
      "needs_background": "light"
     },
     "output_type": "display_data"
    },
    {
     "data": {
      "image/png": "[encoded data removed]",
      "text/plain": [
       "<Figure size 432x288 with 1 Axes>"
      ]
     },
     "metadata": {
      "needs_background": "light"
     },
     "output_type": "display_data"
    },
    {
     "data": {
      "image/png": "[encoded data removed]",
      "text/plain": [
       "<Figure size 432x288 with 1 Axes>"
      ]
     },
     "metadata": {
      "needs_background": "light"
     },
     "output_type": "display_data"
    }
   ],
   "source": [
    "plot_list = []\n",
    "for i,j in enumerate([model_relu, model_tanh, model_regular, model_drop]):\n",
    "  list_name = ['model_relu', 'model_tanh', 'model_regular', 'model_drop']\n",
    "  plot_list.append(plotting(j,list_name[i]))"
   ]
  },
  {
   "cell_type": "code",
   "execution_count": null,
   "metadata": {},
   "outputs": [],
   "source": []
  },
  {
   "cell_type": "code",
   "execution_count": null,
   "metadata": {},
   "outputs": [],
   "source": []
  }
 ],
 "metadata": {
  "colab": {
   "collapsed_sections": [],
   "name": "Car_Price_Prediction_assignment_final.ipynb",
   "provenance": [],
   "toc_visible": true
  },
  "kernelspec": {
   "display_name": "Python 3",
   "language": "python",
   "name": "python3"
  },
  "language_info": {
   "codemirror_mode": {
    "name": "ipython",
    "version": 3
   },
   "file_extension": ".py",
   "mimetype": "text/x-python",
   "name": "python",
   "nbconvert_exporter": "python",
   "pygments_lexer": "ipython3",
   "version": "3.7.6"
  }
 },
 "nbformat": 4,
 "nbformat_minor": 1
}
